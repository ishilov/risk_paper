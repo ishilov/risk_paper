{
 "cells": [
  {
   "cell_type": "code",
   "execution_count": 1,
   "metadata": {},
   "outputs": [],
   "source": [
    "import torch\n",
    "import torch.nn as nn \n",
    "import torch.optim as optim\n",
    "\n",
    "import numpy as np\n",
    "import matplotlib.pyplot as plt\n",
    "\n",
    "from tqdm.notebook import tqdm_notebook"
   ]
  },
  {
   "cell_type": "code",
   "execution_count": 2,
   "metadata": {},
   "outputs": [],
   "source": [
    "community_size = 3\n",
    "\n",
    "D_min = [0.0,0.0,0.0]\n",
    "D_max = [10.0,10.0,10.0]\n",
    "\n",
    "G_min = [0.0,0.0,0.0]\n",
    "G_max = [10.0,0.0,0.0]\n",
    "\n",
    "Kappa = [[0.0, 10.0, 10.0],\n",
    "            [10.0, 0.0, 5.0],\n",
    "            [10.0, 5.0, 0.0]]\n",
    "\n",
    "Cost = [[0.0, -1.0, 1.0],\n",
    "        [3.0, 0.0, 1.0],\n",
    "        [2.0, 1.0, 0.0]]\n",
    "\n",
    "probabilities = [0.5, 0.5]\n",
    "\n",
    "#probabilities = [1]\n",
    "connection_matrix = [[0,1,1],[1,0,1],[1,1,0]]"
   ]
  },
  {
   "cell_type": "code",
   "execution_count": 3,
   "metadata": {},
   "outputs": [],
   "source": [
    "import random\n",
    "\n",
    "A_tilde = [random.uniform(0,1) for i in range(community_size)]\n",
    "B_tilde = [random.uniform(0,1) for i in range(community_size)]\n",
    "\n",
    "a = [random.uniform(0,1) for i in range(community_size)]\n",
    "b = [random.uniform(0,1) for i in range(community_size)]\n",
    "d = [random.uniform(0,1) for i in range(community_size)]\n",
    "\n",
    "d_target = [[random.uniform(0,8) for j in range(len(probabilities))] for i in range(community_size)]\n",
    "g_res = [[random.uniform(0,3) for j in range(len(probabilities))] for i in range(community_size)]\n",
    "\n",
    "g_res = np.array(g_res)\n",
    "d_target = np.array(d_target)\n",
    "\n",
    "risk_aversion = [random.uniform(0,1) for i in range(community_size)]"
   ]
  },
  {
   "cell_type": "code",
   "execution_count": 4,
   "metadata": {},
   "outputs": [],
   "source": [
    "from supplement_package.game.torch_grad import TorchPlayer, BasicFunctions, RiskProblemFunctions\n",
    "\n",
    "agents = []\n",
    "\n",
    "TorchPlayer.community_size = community_size\n",
    "\n",
    "epsilon = 0.05\n",
    "alpha = [[proba/(1 - min(risk_aversion)) - epsilon for proba in probabilities] for i in range(community_size)]\n",
    "#alpha = [[0.2 for proba in probabilities] for i in range(community_size)]\n",
    "#alpha = [proba/(1 - min(risk_aversion)) for proba in probabilities]\n",
    "gamma = [proba/(1 - min(risk_aversion)) for proba in probabilities]\n",
    "\n",
    "j_max = [5 for i in range(community_size)]\n",
    "\n",
    "for i in range(community_size):\n",
    "    agent = TorchPlayer(i, d_target[i], g_res[i], a[i], b[i], d[i], \n",
    "                A_tilde[i], B_tilde[i], D_min[i], D_max[i], \n",
    "                G_min[i], G_max[i], risk_aversion[i], Kappa[i], Cost[i], connection_matrix[i],\n",
    "                probabilities = probabilities,\n",
    "                alpha = alpha[i], \n",
    "                gamma = gamma, \n",
    "                insurance_bound=j_max[i])\n",
    "    \n",
    "    agents.append(agent)"
   ]
  },
  {
   "cell_type": "code",
   "execution_count": 5,
   "metadata": {},
   "outputs": [],
   "source": [
    "import gurobipy as gp\n",
    "from supplement_package.gurobi_implementation.gurobi import Gurobi\n",
    "from supplement_package.gurobi_implementation.gurobi import GurobiSolution"
   ]
  },
  {
   "cell_type": "code",
   "execution_count": 6,
   "metadata": {},
   "outputs": [
    {
     "name": "stdout",
     "output_type": "stream",
     "text": [
      "Set parameter Username\n",
      "Academic license - for non-commercial use only - expires 2022-04-02\n",
      "Minimize\n",
      "<gurobi.LinExpr: eta_0 + 0.6101304882529093 W_0_0 + 0.6101304882529093 W_0_1\n",
      "+ 0.5601304882529092 J_0_0 + 0.5601304882529092 J_0_1 + 0.6101304882529093 u_0_0\n",
      "+ 0.6101304882529093 u_0_1 + eta_1 + 0.6101304882529093 W_1_0 + 0.6101304882529093 W_1_1\n",
      "+ 0.5601304882529092 J_1_0 + 0.5601304882529092 J_1_1 + 0.9789507980826849 u_1_0\n",
      "+ 0.9789507980826849 u_1_1 + eta_2 + 0.6101304882529093 W_2_0 + 0.6101304882529093 W_2_1\n",
      "+ 0.5601304882529092 J_2_0 + 0.5601304882529092 J_2_1 + 1.1319973509720638 u_2_0\n",
      "+ 1.1319973509720638 u_2_1>\n",
      "Subject To\n",
      "  Bilateral trading for pair (0, 1) proba 0: <gurobi.LinExpr: q_0_1_0 + q_1_0_0> = 0\n",
      "  Bilateral trading for pair (0, 1) proba 1: <gurobi.LinExpr: q_0_1_1 + q_1_0_1> = 0\n",
      "  Bilateral trading for pair (0, 2) proba 0: <gurobi.LinExpr: q_0_2_0 + q_2_0_0> = 0\n",
      "  Bilateral trading for pair (0, 2) proba 1: <gurobi.LinExpr: q_0_2_1 + q_2_0_1> = 0\n",
      "SD balance for agent 0 proba 0: <gurobi.LinExpr: D_0_0 + -1.0 G_0_0 + -1.0 q_0_1_0 +\n",
      " -1.0 q_0_2_0> = 1.55227\n",
      "SD balance for agent 0 proba 1: <gurobi.LinExpr: D_0_1 + -1.0 G_0_1 + -1.0 q_0_1_1 +\n",
      " -1.0 q_0_2_1> = 2.81073\n",
      "  Bilateral trading for pair (1, 0) proba 0: <gurobi.LinExpr: q_0_1_0 + q_1_0_0> = 0\n",
      "  Bilateral trading for pair (1, 0) proba 1: <gurobi.LinExpr: q_0_1_1 + q_1_0_1> = 0\n",
      "  Bilateral trading for pair (1, 2) proba 0: <gurobi.LinExpr: q_1_2_0 + q_2_1_0> = 0\n",
      "  Bilateral trading for pair (1, 2) proba 1: <gurobi.LinExpr: q_1_2_1 + q_2_1_1> = 0\n",
      "SD balance for agent 1 proba 0: <gurobi.LinExpr: D_1_0 + -1.0 G_1_0 + -1.0 q_1_0_0 +\n",
      " -1.0 q_1_2_0> = 0.191258\n",
      "SD balance for agent 1 proba 1: <gurobi.LinExpr: D_1_1 + -1.0 G_1_1 + -1.0 q_1_0_1 +\n",
      " -1.0 q_1_2_1> = 2.39264\n",
      "  Bilateral trading for pair (2, 0) proba 0: <gurobi.LinExpr: q_0_2_0 + q_2_0_0> = 0\n",
      "  Bilateral trading for pair (2, 0) proba 1: <gurobi.LinExpr: q_0_2_1 + q_2_0_1> = 0\n",
      "  Bilateral trading for pair (2, 1) proba 0: <gurobi.LinExpr: q_1_2_0 + q_2_1_0> = 0\n",
      "  Bilateral trading for pair (2, 1) proba 1: <gurobi.LinExpr: q_1_2_1 + q_2_1_1> = 0\n",
      "SD balance for agent 2 proba 0: <gurobi.LinExpr: D_2_0 + -1.0 G_2_0 + -1.0 q_2_0_0 +\n",
      " -1.0 q_2_1_0> = 0.760492\n",
      "SD balance for agent 2 proba 1: <gurobi.LinExpr: D_2_1 + -1.0 G_2_1 + -1.0 q_2_0_1 +\n",
      " -1.0 q_2_1_1> = 1.55298\n",
      "  Risk trading balance for proba 0: <gurobi.LinExpr: W_0_0 + W_1_0 + W_2_0> = 0\n",
      "  Risk trading balance for proba 1: <gurobi.LinExpr: W_0_1 + W_1_1 + W_2_1> = 0\n",
      "Residual constraint for agent 0 proba 0: <gurobi.QuadExpr: -8.406270143896565 D_0_0 +\n",
      "0.4052483971187373 G_0_0 + -1.0 q_0_1_0 + q_0_2_0 + -1.0 eta_0 + -1.0 W_0_0 + -1.0 J_0_0\n",
      "+ -1.0 u_0_0 + [ 0.9482590382611457 D_0_0 ^ 2 + 0.4902820590180448 G_0_0 ^ 2 ]> <=\n",
      " -18.139\n",
      "Residual constraint for agent 0 proba 1: <gurobi.QuadExpr: -11.905249428028908 D_0_1 +\n",
      "0.4052483971187373 G_0_1 + -1.0 q_0_1_1 + q_0_2_1 + -1.0 eta_0 + -1.0 W_0_1 + -1.0 J_0_1\n",
      "+ -1.0 u_0_1 + [ 0.9482590382611457 D_0_1 ^ 2 + 0.4902820590180448 G_0_1 ^ 2 ]> <=\n",
      " -36.8758\n",
      "Residual constraint for agent 1 proba 0: <gurobi.QuadExpr: -1.7309804721477717 D_1_0 +\n",
      "0.13711927451913808 G_1_0 + 3.0 q_1_0_0 + q_1_2_0 + -1.0 eta_1 + -1.0 W_1_0 + -1.0 J_1_0\n",
      "+ -1.0 u_1_0 + [ 0.8305878837408172 D_1_0 ^ 2 + 0.23299754657561406 G_1_0 ^ 2 ]> <=\n",
      " -1.53017\n",
      "Residual constraint for agent 1 proba 1: <gurobi.QuadExpr: -13.127458228456879 D_1_1 +\n",
      "0.13711927451913808 G_1_1 + 3.0 q_1_0_1 + q_1_2_1 + -1.0 eta_1 + -1.0 W_1_1 + -1.0 J_1_1\n",
      "+ -1.0 u_1_1 + [ 0.8305878837408172 D_1_1 ^ 2 + 0.23299754657561406 G_1_1 ^ 2 ]> <=\n",
      " -52.4982\n",
      "Residual constraint for agent 2 proba 0: <gurobi.QuadExpr: -0.5547728710194545 D_2_0 +\n",
      "0.5554400827525515 G_2_0 + 2.0 q_2_0_0 + q_2_1_0 + -1.0 eta_2 + -1.0 W_2_0 + -1.0 J_2_0\n",
      "+ -1.0 u_2_0 + [ 0.04963544375557016 D_2_0 ^ 2 + 0.3831227055016764 G_2_0 ^ 2 ]> <=\n",
      " -2.03545\n",
      "Residual constraint for agent 2 proba 1: <gurobi.QuadExpr: -0.006749621949209679 D_2_1\n",
      "+ 0.5554400827525515 G_2_1 + 2.0 q_2_0_1 + q_2_1_1 + -1.0 eta_2 + -1.0 W_2_1 + -1.0\n",
      "J_2_1 + -1.0 u_2_1 + [ 0.04963544375557016 D_2_1 ^ 2 + 0.3831227055016764 G_2_1 ^ 2 ]>\n",
      " <= -0.485512\n",
      "Bounds\n",
      "  0 <= D_0_0 <= 10\n",
      "  0 <= D_0_1 <= 10\n",
      "  0 <= G_0_0 <= 10\n",
      "  0 <= G_0_1 <= 10\n",
      "  -10 <= q_0_1_0 <= 10\n",
      "  -10 <= q_0_1_1 <= 10\n",
      "  -10 <= q_0_2_0 <= 10\n",
      "  -10 <= q_0_2_1 <= 10\n",
      "  eta_0 free\n",
      "  W_0_0 free\n",
      "  W_0_1 free\n",
      "  0 <= J_0_0 <= 5\n",
      "  0 <= J_0_1 <= 5\n",
      "  0 <= D_1_0 <= 10\n",
      "  0 <= D_1_1 <= 10\n",
      "  G_1_0 = 0\n",
      "  G_1_1 = 0\n",
      "  -10 <= q_1_0_0 <= 10\n",
      "  -10 <= q_1_0_1 <= 10\n",
      "  -5 <= q_1_2_0 <= 5\n",
      "  -5 <= q_1_2_1 <= 5\n",
      "  eta_1 free\n",
      "  W_1_0 free\n",
      "  W_1_1 free\n",
      "  0 <= J_1_0 <= 5\n",
      "  0 <= J_1_1 <= 5\n",
      "  0 <= D_2_0 <= 10\n",
      "  0 <= D_2_1 <= 10\n",
      "  G_2_0 = 0\n",
      "  G_2_1 = 0\n",
      "  -10 <= q_2_0_0 <= 10\n",
      "  -10 <= q_2_0_1 <= 10\n",
      "  -5 <= q_2_1_0 <= 5\n",
      "  -5 <= q_2_1_1 <= 5\n",
      "  eta_2 free\n",
      "  W_2_0 free\n",
      "  W_2_1 free\n",
      "  0 <= J_2_0 <= 5\n",
      "  0 <= J_2_1 <= 5\n"
     ]
    }
   ],
   "source": [
    "model_1 = gp.Model()\n",
    "setup = GurobiSolution(agents=agents,\n",
    "                model = model_1,\n",
    "                solution_type='centralized')\n",
    "\n",
    "setup.build_model()\n",
    "\n",
    "model_1.display()"
   ]
  },
  {
   "cell_type": "code",
   "execution_count": 7,
   "metadata": {},
   "outputs": [
    {
     "name": "stdout",
     "output_type": "stream",
     "text": [
      "Gurobi Optimizer version 9.5.0 build v9.5.0rc5 (mac64[arm])\n",
      "Thread count: 8 physical cores, 8 logical processors, using up to 8 threads\n",
      "Optimize a model with 20 rows, 45 columns and 54 nonzeros\n",
      "Model fingerprint: 0x8d68457b\n",
      "Model has 6 quadratic constraints\n",
      "Coefficient statistics:\n",
      "  Matrix range     [1e+00, 1e+00]\n",
      "  QMatrix range    [5e-02, 9e-01]\n",
      "  QLMatrix range   [7e-03, 1e+01]\n",
      "  Objective range  [6e-01, 1e+00]\n",
      "  Bounds range     [5e+00, 1e+01]\n",
      "  RHS range        [2e-01, 3e+00]\n",
      "  QRHS range       [5e-01, 5e+01]\n",
      "Presolve removed 6 rows and 4 columns\n",
      "Presolve time: 0.00s\n",
      "Presolved: 42 rows, 53 columns, 116 nonzeros\n",
      "Presolved model has 6 second-order cone constraints\n",
      "Ordering time: 0.00s\n",
      "\n",
      "Barrier statistics:\n",
      " Free vars  : 9\n",
      " AA' NZ     : 1.150e+02\n",
      " Factor NZ  : 3.820e+02\n",
      " Factor Ops : 4.458e+03 (less than 1 second per iteration)\n",
      " Threads    : 1\n",
      "\n",
      "                  Objective                Residual\n",
      "Iter       Primal          Dual         Primal    Dual     Compl     Time\n",
      "   0   1.07386556e+03 -1.72379498e+01  2.12e+01 6.13e+00  5.41e+01     0s\n",
      "   1   2.35495878e+02 -3.21159785e+02  3.37e+00 5.50e-01  1.11e+01     0s\n",
      "   2   3.09712678e+01 -6.51461865e+01  3.00e-01 2.05e-02  1.39e+00     0s\n",
      "   3   3.29137514e+00 -7.35044282e+00  3.63e-03 1.23e-03  1.39e-01     0s\n",
      "   4   3.05383092e-01 -1.87121895e+00  4.95e-04 2.46e-04  2.83e-02     0s\n",
      "   5  -3.98038725e-01 -5.19007535e-01  2.37e-06 1.52e-05  1.58e-03     0s\n",
      "   6  -4.13633969e-01 -4.17793749e-01  5.70e-10 4.40e-07  5.40e-05     0s\n",
      "   7  -4.14212169e-01 -4.14729281e-01  3.99e-10 7.09e-08  6.71e-06     0s\n",
      "   8  -4.14266151e-01 -4.14314011e-01  1.21e-09 4.28e-08  6.19e-07     0s\n",
      "   9  -4.14278775e-01 -4.14279634e-01  8.18e-10 1.99e-08  1.10e-08     0s\n",
      "\n",
      "Barrier solved model in 9 iterations and 0.02 seconds (0.00 work units)\n",
      "Optimal objective -4.14278775e-01\n",
      "\n"
     ]
    }
   ],
   "source": [
    "model_1.optimize()"
   ]
  },
  {
   "cell_type": "code",
   "execution_count": 8,
   "metadata": {},
   "outputs": [
    {
     "name": "stdout",
     "output_type": "stream",
     "text": [
      "Minimize\n",
      "<gurobi.QuadExpr: 0.0 + [ 0.6101304882529093 W_0_0 ^ 2 + 0.6101304882529093 W_0_1 ^ 2\n",
      "+ 0.5601304882529092 J_0_0 ^ 2 + 0.5601304882529092 J_0_1 ^ 2\n",
      "+ 0.6101304882529093 u_0_0 ^ 2 + 0.6101304882529093 u_0_1 ^ 2\n",
      "+ 0.6101304882529093 W_1_0 ^ 2 + 0.6101304882529093 W_1_1 ^ 2\n",
      "+ 0.5601304882529092 J_1_0 ^ 2 + 0.5601304882529092 J_1_1 ^ 2\n",
      "+ 0.9789507980826849 u_1_0 ^ 2 + 0.9789507980826849 u_1_1 ^ 2\n",
      "+ 0.6101304882529093 W_2_0 ^ 2 + 0.6101304882529093 W_2_1 ^ 2\n",
      "+ 0.5601304882529092 J_2_0 ^ 2 + 0.5601304882529092 J_2_1 ^ 2\n",
      "+ 1.1319973509720638 u_2_0 ^ 2 + 1.1319973509720638 u_2_1 ^ 2 ]>\n",
      "Subject To\n",
      "  Bilateral trading for pair (0, 1) proba 0: <gurobi.LinExpr: q_0_1_0 + q_1_0_0> = 0\n",
      "  Bilateral trading for pair (0, 1) proba 1: <gurobi.LinExpr: q_0_1_1 + q_1_0_1> = 0\n",
      "  Bilateral trading for pair (0, 2) proba 0: <gurobi.LinExpr: q_0_2_0 + q_2_0_0> = 0\n",
      "  Bilateral trading for pair (0, 2) proba 1: <gurobi.LinExpr: q_0_2_1 + q_2_0_1> = 0\n",
      "SD balance for agent 0 proba 0: <gurobi.LinExpr: D_0_0 + -1.0 G_0_0 + -1.0 q_0_1_0 +\n",
      " -1.0 q_0_2_0> = 1.55227\n",
      "SD balance for agent 0 proba 1: <gurobi.LinExpr: D_0_1 + -1.0 G_0_1 + -1.0 q_0_1_1 +\n",
      " -1.0 q_0_2_1> = 2.81073\n",
      "  Bilateral trading for pair (1, 0) proba 0: <gurobi.LinExpr: q_0_1_0 + q_1_0_0> = 0\n",
      "  Bilateral trading for pair (1, 0) proba 1: <gurobi.LinExpr: q_0_1_1 + q_1_0_1> = 0\n",
      "  Bilateral trading for pair (1, 2) proba 0: <gurobi.LinExpr: q_1_2_0 + q_2_1_0> = 0\n",
      "  Bilateral trading for pair (1, 2) proba 1: <gurobi.LinExpr: q_1_2_1 + q_2_1_1> = 0\n",
      "SD balance for agent 1 proba 0: <gurobi.LinExpr: D_1_0 + -1.0 G_1_0 + -1.0 q_1_0_0 +\n",
      " -1.0 q_1_2_0> = 0.191258\n",
      "SD balance for agent 1 proba 1: <gurobi.LinExpr: D_1_1 + -1.0 G_1_1 + -1.0 q_1_0_1 +\n",
      " -1.0 q_1_2_1> = 2.39264\n",
      "  Bilateral trading for pair (2, 0) proba 0: <gurobi.LinExpr: q_0_2_0 + q_2_0_0> = 0\n",
      "  Bilateral trading for pair (2, 0) proba 1: <gurobi.LinExpr: q_0_2_1 + q_2_0_1> = 0\n",
      "  Bilateral trading for pair (2, 1) proba 0: <gurobi.LinExpr: q_1_2_0 + q_2_1_0> = 0\n",
      "  Bilateral trading for pair (2, 1) proba 1: <gurobi.LinExpr: q_1_2_1 + q_2_1_1> = 0\n",
      "SD balance for agent 2 proba 0: <gurobi.LinExpr: D_2_0 + -1.0 G_2_0 + -1.0 q_2_0_0 +\n",
      " -1.0 q_2_1_0> = 0.760492\n",
      "SD balance for agent 2 proba 1: <gurobi.LinExpr: D_2_1 + -1.0 G_2_1 + -1.0 q_2_0_1 +\n",
      " -1.0 q_2_1_1> = 1.55298\n",
      "  Risk trading balance for proba 0: <gurobi.LinExpr: W_0_0 + W_1_0 + W_2_0> = 0\n",
      "  Risk trading balance for proba 1: <gurobi.LinExpr: W_0_1 + W_1_1 + W_2_1> = 0\n",
      "Residual constraint for agent 0 proba 0: <gurobi.QuadExpr: -8.406270143896565 D_0_0 +\n",
      "0.4052483971187373 G_0_0 + -1.0 q_0_1_0 + q_0_2_0 + -1.0 eta_0 + -1.0 W_0_0 + -1.0 J_0_0\n",
      "+ -1.0 u_0_0 + [ 0.9482590382611457 D_0_0 ^ 2 + 0.4902820590180448 G_0_0 ^ 2 ]> <=\n",
      " -18.139\n",
      "Residual constraint for agent 0 proba 1: <gurobi.QuadExpr: -11.905249428028908 D_0_1 +\n",
      "0.4052483971187373 G_0_1 + -1.0 q_0_1_1 + q_0_2_1 + -1.0 eta_0 + -1.0 W_0_1 + -1.0 J_0_1\n",
      "+ -1.0 u_0_1 + [ 0.9482590382611457 D_0_1 ^ 2 + 0.4902820590180448 G_0_1 ^ 2 ]> <=\n",
      " -36.8758\n",
      "Residual constraint for agent 1 proba 0: <gurobi.QuadExpr: -1.7309804721477717 D_1_0 +\n",
      "0.13711927451913808 G_1_0 + 3.0 q_1_0_0 + q_1_2_0 + -1.0 eta_1 + -1.0 W_1_0 + -1.0 J_1_0\n",
      "+ -1.0 u_1_0 + [ 0.8305878837408172 D_1_0 ^ 2 + 0.23299754657561406 G_1_0 ^ 2 ]> <=\n",
      " -1.53017\n",
      "Residual constraint for agent 1 proba 1: <gurobi.QuadExpr: -13.127458228456879 D_1_1 +\n",
      "0.13711927451913808 G_1_1 + 3.0 q_1_0_1 + q_1_2_1 + -1.0 eta_1 + -1.0 W_1_1 + -1.0 J_1_1\n",
      "+ -1.0 u_1_1 + [ 0.8305878837408172 D_1_1 ^ 2 + 0.23299754657561406 G_1_1 ^ 2 ]> <=\n",
      " -52.4982\n",
      "Residual constraint for agent 2 proba 0: <gurobi.QuadExpr: -0.5547728710194545 D_2_0 +\n",
      "0.5554400827525515 G_2_0 + 2.0 q_2_0_0 + q_2_1_0 + -1.0 eta_2 + -1.0 W_2_0 + -1.0 J_2_0\n",
      "+ -1.0 u_2_0 + [ 0.04963544375557016 D_2_0 ^ 2 + 0.3831227055016764 G_2_0 ^ 2 ]> <=\n",
      " -2.03545\n",
      "Residual constraint for agent 2 proba 1: <gurobi.QuadExpr: -0.006749621949209679 D_2_1\n",
      "+ 0.5554400827525515 G_2_1 + 2.0 q_2_0_1 + q_2_1_1 + -1.0 eta_2 + -1.0 W_2_1 + -1.0\n",
      "J_2_1 + -1.0 u_2_1 + [ 0.04963544375557016 D_2_1 ^ 2 + 0.3831227055016764 G_2_1 ^ 2 ]>\n",
      " <= -0.485512\n",
      "Bounds\n",
      "  0 <= D_0_0 <= 10\n",
      "  0 <= D_0_1 <= 10\n",
      "  0 <= G_0_0 <= 10\n",
      "  0 <= G_0_1 <= 10\n",
      "  -10 <= q_0_1_0 <= 10\n",
      "  -10 <= q_0_1_1 <= 10\n",
      "  -10 <= q_0_2_0 <= 10\n",
      "  -10 <= q_0_2_1 <= 10\n",
      "  eta_0 free\n",
      "  W_0_0 free\n",
      "  W_0_1 free\n",
      "  0 <= J_0_0 <= 5\n",
      "  0 <= J_0_1 <= 5\n",
      "  0 <= D_1_0 <= 10\n",
      "  0 <= D_1_1 <= 10\n",
      "  G_1_0 = 0\n",
      "  G_1_1 = 0\n",
      "  -10 <= q_1_0_0 <= 10\n",
      "  -10 <= q_1_0_1 <= 10\n",
      "  -5 <= q_1_2_0 <= 5\n",
      "  -5 <= q_1_2_1 <= 5\n",
      "  eta_1 free\n",
      "  W_1_0 free\n",
      "  W_1_1 free\n",
      "  0 <= J_1_0 <= 5\n",
      "  0 <= J_1_1 <= 5\n",
      "  0 <= D_2_0 <= 10\n",
      "  0 <= D_2_1 <= 10\n",
      "  G_2_0 = 0\n",
      "  G_2_1 = 0\n",
      "  -10 <= q_2_0_0 <= 10\n",
      "  -10 <= q_2_0_1 <= 10\n",
      "  -5 <= q_2_1_0 <= 5\n",
      "  -5 <= q_2_1_1 <= 5\n",
      "  eta_2 free\n",
      "  W_2_0 free\n",
      "  W_2_1 free\n",
      "  0 <= J_2_0 <= 5\n",
      "  0 <= J_2_1 <= 5\n"
     ]
    }
   ],
   "source": [
    "model_1 = gp.Model()\n",
    "setup = GurobiSolution(agents=agents,\n",
    "                model = model_1,\n",
    "                solution_type='quadratic_test')\n",
    "\n",
    "setup.build_model()\n",
    "\n",
    "model_1.display()"
   ]
  },
  {
   "cell_type": "code",
   "execution_count": 9,
   "metadata": {},
   "outputs": [
    {
     "name": "stdout",
     "output_type": "stream",
     "text": [
      "Gurobi Optimizer version 9.5.0 build v9.5.0rc5 (mac64[arm])\n",
      "Thread count: 8 physical cores, 8 logical processors, using up to 8 threads\n",
      "Optimize a model with 20 rows, 45 columns and 54 nonzeros\n",
      "Model fingerprint: 0x2f0c7f3c\n",
      "Model has 18 quadratic objective terms\n",
      "Model has 6 quadratic constraints\n",
      "Coefficient statistics:\n",
      "  Matrix range     [1e+00, 1e+00]\n",
      "  QMatrix range    [5e-02, 9e-01]\n",
      "  QLMatrix range   [7e-03, 1e+01]\n",
      "  Objective range  [0e+00, 0e+00]\n",
      "  QObjective range [1e+00, 2e+00]\n",
      "  Bounds range     [5e+00, 1e+01]\n",
      "  RHS range        [2e-01, 3e+00]\n",
      "  QRHS range       [5e-01, 5e+01]\n",
      "Presolve removed 6 rows and 4 columns\n",
      "Presolve time: 0.00s\n",
      "Presolved: 61 rows, 55 columns, 136 nonzeros\n",
      "Presolved model has 7 second-order cone constraints\n",
      "Ordering time: 0.00s\n",
      "\n",
      "Barrier statistics:\n",
      " Dense cols : 1\n",
      " Free vars  : 3\n",
      " AA' NZ     : 1.660e+02\n",
      " Factor NZ  : 5.500e+02\n",
      " Factor Ops : 5.796e+03 (less than 1 second per iteration)\n",
      " Threads    : 1\n",
      "\n",
      "                  Objective                Residual\n",
      "Iter       Primal          Dual         Primal    Dual     Compl     Time\n",
      "   0   2.50133247e-13  2.50133247e-13  2.17e+01 1.00e-01  7.67e-01     0s\n",
      "   1   8.01586850e-01 -7.79339267e+00  2.83e+00 5.27e-03  1.58e-01     0s\n",
      "   2   4.41172746e-02 -1.32325987e+00  3.11e-06 4.19e-04  1.48e-02     0s\n",
      "   3   1.12823524e-02 -5.02949482e-02  3.55e-08 1.42e-05  6.58e-04     0s\n",
      "   4   8.12787518e-04 -3.83891131e-03  4.78e-09 6.08e-07  4.88e-05     0s\n",
      "   5   7.84495773e-04 -5.62692891e-05  5.90e-12 5.55e-08  8.59e-06     0s\n",
      "   6   8.27831267e-05 -3.01902408e-05  1.36e-12 6.10e-09  1.15e-06     0s\n",
      "   7   2.07108525e-06 -8.75515989e-06  2.39e-12 1.51e-09  1.11e-07     0s\n",
      "   8   8.71480819e-07 -1.10486840e-06  2.21e-11 2.75e-10  2.02e-08     0s\n",
      "   9   2.18678456e-07 -4.04880375e-07  1.50e-10 2.64e-10  6.38e-09     0s\n",
      "\n",
      "Barrier solved model in 9 iterations and 0.01 seconds (0.00 work units)\n",
      "Optimal objective 2.18678456e-07\n",
      "\n"
     ]
    }
   ],
   "source": [
    "model_1.optimize()"
   ]
  },
  {
   "cell_type": "code",
   "execution_count": 10,
   "metadata": {},
   "outputs": [
    {
     "data": {
      "application/vnd.jupyter.widget-view+json": {
       "model_id": "ae1ef1f6800f4b89a10f5fd7e29fc907",
       "version_major": 2,
       "version_minor": 0
      },
      "text/plain": [
       "  0%|          | 0/50000 [00:00<?, ?it/s]"
      ]
     },
     "metadata": {},
     "output_type": "display_data"
    }
   ],
   "source": [
    "lr = 1e-2\n",
    "rho = 1500\n",
    "\n",
    "vars = []\n",
    "with torch.no_grad():\n",
    "    for agent in agents:\n",
    "        vars += [agent.G, agent.D, agent.q, agent.w, agent.j, agent.u, agent.eta]\n",
    "\n",
    "#torch.autograd.set_detect_anomaly(True)\n",
    "    \n",
    "optimizer = optim.Adam(vars, lr = lr)\n",
    "\n",
    "for i in tqdm_notebook(range(50000)):\n",
    "    for agent in agents:\n",
    "        \n",
    "        utility = RiskProblemFunctions.risk_utility_per_proba(agent)\n",
    "        penalty_SD_balance = BasicFunctions.penalty_SD_balance(agent)\n",
    "        penalty_demand_bounds_lower = BasicFunctions.penalty_demand_bounds_lower(agent)\n",
    "        penalty_demand_bounds_upper = BasicFunctions.penalty_demand_bounds_upper(agent)\n",
    "        penalty_generation_bounds_lower = BasicFunctions.penalty_generation_bounds_lower(agent)\n",
    "        penalty_generation_bounds_upper = BasicFunctions.penalty_generation_bounds_upper(agent)\n",
    "        penalty_trading_bound_lower = BasicFunctions.penalty_trading_bound_lower(agent)\n",
    "        penalty_trading_bound_upper = BasicFunctions.penalty_trading_bound_upper(agent)\n",
    "        penalty_bilateral_trading_bounds = BasicFunctions.penalty_bilateral_trading_bounds(agent)\n",
    "\n",
    "        insurance_bound_lower = RiskProblemFunctions.insurance_bound_lower(agent)\n",
    "        insurance_bound_upper = RiskProblemFunctions.insurance_bound_upper(agent)\n",
    "        contract_trading_bound = RiskProblemFunctions.contract_trading_bound(agent)\n",
    "        residual_bound = RiskProblemFunctions.residual_bound(agent)\n",
    "        penalty_residual = RiskProblemFunctions.penalty_residual(agent)\n",
    "\n",
    "\n",
    "        loss = 0\n",
    "        loss += agent.eta\n",
    "        \n",
    "\n",
    "        for proba in agent.probabilities_ind:\n",
    "            loss += (utility[proba]\n",
    "                + rho * penalty_SD_balance[proba]\n",
    "                + rho * penalty_demand_bounds_lower[proba]\n",
    "                + rho * penalty_demand_bounds_upper[proba]\n",
    "                + rho * penalty_generation_bounds_lower[proba]\n",
    "                + rho * penalty_generation_bounds_upper[proba]\n",
    "                + rho * insurance_bound_lower[proba]\n",
    "                + rho * insurance_bound_lower[proba]\n",
    "                + rho * contract_trading_bound[proba]\n",
    "                + rho * residual_bound[proba]\n",
    "                + rho * penalty_residual[proba])\n",
    "\n",
    "            for agent_2, connection in enumerate(agent.connections):\n",
    "                if connection:\n",
    "                    loss += (rho * penalty_trading_bound_lower[agent_2][proba]\n",
    "                            + rho * penalty_trading_bound_upper[agent_2][proba]\n",
    "                            + rho * penalty_bilateral_trading_bounds[agent_2][proba])\n",
    "\n",
    "        loss.backward()\n",
    "\n",
    "        optimizer.step()\n",
    "        with torch.no_grad():\n",
    "            agent.plot_eta.append(agent.eta.data.numpy())\n",
    "\n",
    "            for proba in agent.probabilities_ind:\n",
    "                    agent.plot_d[proba].append(agent.D.data.numpy()[proba])\n",
    "                    agent.plot_g[proba].append(agent.G.data.numpy()[proba])\n",
    "                    agent.plot_j[proba].append(agent.j.data.numpy()[proba])\n",
    "                    agent.plot_w[proba].append(agent.w.data.numpy()[proba])\n",
    "                    agent.plot_u[proba].append(agent.u.data.numpy()[proba])\n",
    "                    \n",
    "                    for agent_2 in agents:\n",
    "                        agent.plot_q[agent_2.id][proba].append(agent.q.data.numpy()[agent_2.id][proba])\n",
    "\n",
    "        optimizer.zero_grad()\n",
    "\n",
    "    for agent in agents:      \n",
    "        for agent_2 in agents:\n",
    "            #for proba in agent.probabilities_ind:\n",
    "            agent_2.q_others[agent.id] = agent.q.data.numpy().tolist()\n",
    "            agent_2.w_others[agent.id] = agent.w.data.numpy().tolist()"
   ]
  },
  {
   "cell_type": "code",
   "execution_count": 11,
   "metadata": {},
   "outputs": [
    {
     "data": {
      "text/plain": [
       "tensor(5.5795, dtype=torch.float64)"
      ]
     },
     "execution_count": 11,
     "metadata": {},
     "output_type": "execute_result"
    }
   ],
   "source": [
    "total_cost = 0\n",
    "with torch.no_grad():\n",
    "    for agent in agents:\n",
    "        total_cost += sum(BasicFunctions.utility(agent))\n",
    "\n",
    "total_cost\n"
   ]
  },
  {
   "cell_type": "code",
   "execution_count": 12,
   "metadata": {},
   "outputs": [
    {
     "data": {
      "text/plain": [
       "2.1867845628742444e-07"
      ]
     },
     "execution_count": 12,
     "metadata": {},
     "output_type": "execute_result"
    }
   ],
   "source": [
    "model_1.ObjVal"
   ]
  },
  {
   "cell_type": "code",
   "execution_count": 13,
   "metadata": {},
   "outputs": [
    {
     "data": {
      "text/plain": [
       "[<gurobi.Var D_0_0 (value 3.369290592510313)>,\n",
       " <gurobi.Var D_0_1 (value 4.3700693488059565)>,\n",
       " <gurobi.Var G_0_0 (value 5.53249323527316)>,\n",
       " <gurobi.Var G_0_1 (value 4.852547471849449)>,\n",
       " <gurobi.Var q_0_1_0 (value -1.6845592644795708)>,\n",
       " <gurobi.Var q_0_1_1 (value -1.2582035068617419)>,\n",
       " <gurobi.Var q_0_2_0 (value -2.030909797686811)>,\n",
       " <gurobi.Var q_0_2_1 (value -2.0350094889875505)>,\n",
       " <gurobi.Var eta_0 (value 41.36840673114118)>,\n",
       " <gurobi.Var W_0_0 (value -2.3378450402982138e-07)>,\n",
       " <gurobi.Var W_0_1 (value -2.035001593460228e-07)>,\n",
       " <gurobi.Var J_0_0 (value 0.00019607548458841758)>,\n",
       " <gurobi.Var J_0_1 (value 0.00019317058710011884)>,\n",
       " <gurobi.Var u_0_0 (value 2.3135808167596116e-05)>,\n",
       " <gurobi.Var u_0_1 (value 4.4858928940388204e-05)>,\n",
       " <gurobi.Var D_1_0 (value 2.3543456022074576)>,\n",
       " <gurobi.Var D_1_1 (value 4.214979752043226)>,\n",
       " <gurobi.Var G_1_0 (value 0.0)>,\n",
       " <gurobi.Var G_1_1 (value 0.0)>,\n",
       " <gurobi.Var q_1_0_0 (value 1.684559264479578)>,\n",
       " <gurobi.Var q_1_0_1 (value 1.2582035068617419)>,\n",
       " <gurobi.Var q_1_2_0 (value 0.4785284571244066)>,\n",
       " <gurobi.Var q_1_2_1 (value 0.5641330645062617)>,\n",
       " <gurobi.Var eta_1 (value 32.778672909175384)>,\n",
       " <gurobi.Var W_1_0 (value 3.712193183046385e-08)>,\n",
       " <gurobi.Var W_1_1 (value -5.424995901417497e-08)>,\n",
       " <gurobi.Var J_1_0 (value 0.0001753456457232908)>,\n",
       " <gurobi.Var J_1_1 (value 0.00019131160958137848)>,\n",
       " <gurobi.Var u_1_0 (value 0.00012568499513114292)>,\n",
       " <gurobi.Var u_1_1 (value 0.00011981101286205086)>,\n",
       " <gurobi.Var D_2_0 (value 2.3128735242751257)>,\n",
       " <gurobi.Var D_2_1 (value 3.0238587533941406)>,\n",
       " <gurobi.Var G_2_0 (value 0.0)>,\n",
       " <gurobi.Var G_2_1 (value 0.0)>,\n",
       " <gurobi.Var q_2_0_0 (value 2.0309097976868067)>,\n",
       " <gurobi.Var q_2_0_1 (value 2.0350094889875514)>,\n",
       " <gurobi.Var q_2_1_0 (value -0.4785284571244093)>,\n",
       " <gurobi.Var q_2_1_1 (value -0.5641330645062661)>,\n",
       " <gurobi.Var eta_2 (value 20.13704284892028)>,\n",
       " <gurobi.Var W_2_0 (value 1.9666257219935672e-07)>,\n",
       " <gurobi.Var W_2_1 (value 2.5775011836019684e-07)>,\n",
       " <gurobi.Var J_2_0 (value 0.00016230155152220047)>,\n",
       " <gurobi.Var J_2_1 (value 0.00017783171143485234)>,\n",
       " <gurobi.Var u_2_0 (value 0.00012912384339960404)>,\n",
       " <gurobi.Var u_2_1 (value 0.0001303931817590106)>]"
      ]
     },
     "execution_count": 13,
     "metadata": {},
     "output_type": "execute_result"
    }
   ],
   "source": [
    "model_1.getVars()"
   ]
  },
  {
   "cell_type": "code",
   "execution_count": 14,
   "metadata": {},
   "outputs": [
    {
     "data": {
      "text/plain": [
       "[{'params': [tensor([1.1321, 2.3328], requires_grad=True),\n",
       "   tensor([3.6340, 4.8578], requires_grad=True),\n",
       "   tensor([[ 0.0000,  0.0000],\n",
       "           [ 2.1335,  3.1600],\n",
       "           [-1.1839, -3.4442]], requires_grad=True),\n",
       "   tensor([ 0.0065, -0.0108], dtype=torch.float64, requires_grad=True),\n",
       "   tensor([0., 0.], dtype=torch.float64, requires_grad=True),\n",
       "   tensor([0.2202, 0.6364], requires_grad=True),\n",
       "   tensor(-2.1673, dtype=torch.float64, requires_grad=True),\n",
       "   tensor([ 2.5005e-05, -1.0530e-03], requires_grad=True),\n",
       "   tensor([1.5127e-03, 4.2280e+00], requires_grad=True),\n",
       "   tensor([[-2.1335, -3.1602],\n",
       "           [ 0.0000,  0.0000],\n",
       "           [ 1.9437,  4.9967]], requires_grad=True),\n",
       "   tensor([-0.1387,  0.1466], dtype=torch.float64, requires_grad=True),\n",
       "   tensor([0., 0.], dtype=torch.float64, requires_grad=True),\n",
       "   tensor([2.8026e-45, 5.1147e-01], requires_grad=True),\n",
       "   tensor(6.8030, dtype=torch.float64, requires_grad=True),\n",
       "   tensor([3.6969e-05, 1.0224e-03], requires_grad=True),\n",
       "   tensor([ 0.0006, -0.0009], requires_grad=True),\n",
       "   tensor([[ 1.1840,  3.4457],\n",
       "           [-1.9438, -4.9989],\n",
       "           [ 0.0000,  0.0000]], requires_grad=True),\n",
       "   tensor([ 0.1228, -0.1309], dtype=torch.float64, requires_grad=True),\n",
       "   tensor([0., 0.], dtype=torch.float64, requires_grad=True),\n",
       "   tensor([0.0887, 0.3282], requires_grad=True),\n",
       "   tensor(2.2673, dtype=torch.float64, requires_grad=True)],\n",
       "  'lr': 0.01,\n",
       "  'betas': (0.9, 0.999),\n",
       "  'eps': 1e-08,\n",
       "  'weight_decay': 0,\n",
       "  'amsgrad': False}]"
      ]
     },
     "execution_count": 14,
     "metadata": {},
     "output_type": "execute_result"
    }
   ],
   "source": [
    "optimizer.param_groups"
   ]
  },
  {
   "cell_type": "code",
   "execution_count": 15,
   "metadata": {},
   "outputs": [
    {
     "name": "stdout",
     "output_type": "stream",
     "text": [
      "[[ 0.00654815 -0.01081596]\n",
      " [-0.1387339   0.14664481]\n",
      " [ 0.12284389 -0.13092731]]\n",
      "tensor([ 0.0065, -0.0108], dtype=torch.float64, requires_grad=True)\n",
      "[[ 0.00654815 -0.01081596]\n",
      " [-0.1387339   0.14664481]\n",
      " [ 0.12284389 -0.13092731]]\n",
      "tensor([-0.1387,  0.1466], dtype=torch.float64, requires_grad=True)\n",
      "[[ 0.00654815 -0.01081596]\n",
      " [-0.1387339   0.14664481]\n",
      " [ 0.12284389 -0.13092731]]\n",
      "tensor([ 0.1228, -0.1309], dtype=torch.float64, requires_grad=True)\n"
     ]
    }
   ],
   "source": [
    "for agent in agents:\n",
    "    print(np.array(list(agent.w_others.values())))\n",
    "    print(agent.w)"
   ]
  },
  {
   "cell_type": "code",
   "execution_count": 16,
   "metadata": {},
   "outputs": [],
   "source": [
    "def contract_trading_bound(agent: TorchPlayer) -> list:\n",
    "    res = [torch.tensor(0, dtype=float) for proba in agent.probabilities_ind]\n",
    "\n",
    "    for proba in agent.probabilities_ind:\n",
    "        res[proba] = sum(np.array(list(agent.w_others.values())).T[proba]) ** 2 \n",
    "\n",
    "    return res"
   ]
  },
  {
   "cell_type": "code",
   "execution_count": 17,
   "metadata": {},
   "outputs": [
    {
     "name": "stdout",
     "output_type": "stream",
     "text": [
      "[8.727045085449887e-05, 2.40252042650567e-05]\n",
      "[8.727045085449887e-05, 2.40252042650567e-05]\n",
      "[8.727045085449887e-05, 2.40252042650567e-05]\n"
     ]
    }
   ],
   "source": [
    "for agent in agents:\n",
    "    print(contract_trading_bound(agent))"
   ]
  },
  {
   "cell_type": "code",
   "execution_count": 18,
   "metadata": {},
   "outputs": [
    {
     "data": {
      "image/png": "[encoded data removed]",
      "text/plain": [
       "<Figure size 432x288 with 1 Axes>"
      ]
     },
     "metadata": {},
     "output_type": "display_data"
    },
    {
     "data": {
      "image/png": "[encoded data removed]",
      "text/plain": [
       "<Figure size 432x288 with 1 Axes>"
      ]
     },
     "metadata": {},
     "output_type": "display_data"
    },
    {
     "data": {
      "image/png": "[encoded data removed]",
      "text/plain": [
       "<Figure size 432x288 with 1 Axes>"
      ]
     },
     "metadata": {},
     "output_type": "display_data"
    }
   ],
   "source": [
    "for agent in agents:\n",
    "    for proba in agent.probabilities_ind:\n",
    "        plt.plot(agent.plot_w[proba])\n",
    "    plt.show()"
   ]
  },
  {
   "cell_type": "code",
   "execution_count": 19,
   "metadata": {},
   "outputs": [
    {
     "name": "stdout",
     "output_type": "stream",
     "text": [
      "tensor(-0.2137, dtype=torch.float64, grad_fn=<SubBackward0>)\n",
      "tensor(-0.6472, dtype=torch.float64, grad_fn=<SubBackward0>)\n",
      "tensor(-0.1387, dtype=torch.float64, grad_fn=<SubBackward0>)\n",
      "tensor(-0.3648, dtype=torch.float64, grad_fn=<SubBackward0>)\n",
      "tensor(0.0342, dtype=torch.float64, grad_fn=<SubBackward0>)\n",
      "tensor(-0.4591, dtype=torch.float64, grad_fn=<SubBackward0>)\n"
     ]
    }
   ],
   "source": [
    "for agent in agents:\n",
    "    for proba in agent.probabilities_ind:\n",
    "        print(agent.w[proba] - agent.u[proba])"
   ]
  },
  {
   "cell_type": "code",
   "execution_count": 20,
   "metadata": {},
   "outputs": [
    {
     "name": "stdout",
     "output_type": "stream",
     "text": [
      "49999\n"
     ]
    }
   ],
   "source": [
    "if (i >=0 for i in range(-2,2)):\n",
    "    print(i)"
   ]
  },
  {
   "cell_type": "code",
   "execution_count": 21,
   "metadata": {},
   "outputs": [
    {
     "name": "stdout",
     "output_type": "stream",
     "text": [
      "-2\n",
      "-1\n",
      "0\n",
      "1\n"
     ]
    }
   ],
   "source": [
    "for i in range(-2,2):\n",
    "    print(i)"
   ]
  },
  {
   "cell_type": "code",
   "execution_count": null,
   "metadata": {},
   "outputs": [],
   "source": []
  }
 ],
 "metadata": {
  "interpreter": {
   "hash": "b0fa6594d8f4cbf19f97940f81e996739fb7646882a419484c72d19e05852a7e"
  },
  "kernelspec": {
   "display_name": "Python 3.9.10 64-bit",
   "language": "python",
   "name": "python3"
  },
  "language_info": {
   "codemirror_mode": {
    "name": "ipython",
    "version": 3
   },
   "file_extension": ".py",
   "mimetype": "text/x-python",
   "name": "python",
   "nbconvert_exporter": "python",
   "pygments_lexer": "ipython3",
   "version": "3.9.10"
  },
  "orig_nbformat": 4
 },
 "nbformat": 4,
 "nbformat_minor": 2
}
