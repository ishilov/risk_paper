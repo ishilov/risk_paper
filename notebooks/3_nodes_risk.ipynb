{
 "cells": [
  {
   "cell_type": "code",
   "execution_count": 1,
   "metadata": {},
   "outputs": [],
   "source": [
    "import pandas as pd\n",
    "import numpy as np\n",
    "import random\n",
    "import scipy.optimize as scopt\n",
    "\n",
    "import matplotlib.pyplot as plt\n",
    "\n",
    "import seaborn as sns\n",
    "sns.set()"
   ]
  },
  {
   "cell_type": "code",
   "execution_count": 2,
   "metadata": {},
   "outputs": [],
   "source": [
    "from supplement_package.game.gradient import GradientComputation\n",
    "from supplement_package.game.player import Player\n",
    "from supplement_package.game.stackelberg import StackelbergPlayer\n",
    "from supplement_package.game.stackelberg import StackelbergGradientComputation"
   ]
  },
  {
   "cell_type": "code",
   "execution_count": 3,
   "metadata": {},
   "outputs": [
    {
     "data": {
      "text/plain": [
       "mappingproxy({'__module__': 'supplement_package.game.stackelberg',\n",
       "              '__init__': <function supplement_package.game.stackelberg.StackelbergGradientComputation.__init__(self) -> None>,\n",
       "              'risk_utility_grad': <staticmethod at 0x1334e87f0>,\n",
       "              'stackelberg_penalty_residual': <staticmethod at 0x1334e8820>,\n",
       "              'penalty_jmin': <staticmethod at 0x1334e8850>,\n",
       "              'penalty_jmax': <staticmethod at 0x1334e8880>,\n",
       "              'penalty_risk_balance': <staticmethod at 0x1334e88b0>,\n",
       "              '__doc__': None})"
      ]
     },
     "execution_count": 3,
     "metadata": {},
     "output_type": "execute_result"
    }
   ],
   "source": [
    "StackelbergGradientComputation.__dict__"
   ]
  },
  {
   "cell_type": "code",
   "execution_count": 4,
   "metadata": {},
   "outputs": [],
   "source": [
    "community_size = 3"
   ]
  },
  {
   "cell_type": "code",
   "execution_count": 5,
   "metadata": {},
   "outputs": [],
   "source": [
    "if community_size == 3:\n",
    "    D_min = [0.0,0.0,0.0]\n",
    "    D_max = [10.0,10.0,10.0]\n",
    "\n",
    "    G_min = [0.0,0.0,0.0]\n",
    "    G_max = [10.0,0.0,0.0]\n",
    "    \n",
    "    Kappa = [[0.0, 10.0, 10.0],\n",
    "             [10.0, 0.0, 5.0],\n",
    "             [10.0, 5.0, 0.0]]\n",
    "    \n",
    "    Cost = [[0.0, 1.0, 1.0],\n",
    "            [3.0, 0.0, 1.0],\n",
    "            [2.0, 1.0, 0.0]]\n",
    "    \n",
    "    probabilities = [0.333, 0.333, 0.333]\n",
    "\n",
    "    #probabilities = [0.5, 0.5]\n",
    "    connection_matrix = [[0,1,1],[1,0,1],[1,1,0]]"
   ]
  },
  {
   "cell_type": "code",
   "execution_count": 6,
   "metadata": {},
   "outputs": [],
   "source": [
    "A_tilde = [random.uniform(0,1) for i in range(community_size)]\n",
    "B_tilde = [random.uniform(0,1) for i in range(community_size)]\n",
    "\n",
    "A = [random.uniform(0,1) for i in range(community_size)]\n",
    "B = [random.uniform(0,1) for i in range(community_size)]\n",
    "D = [random.uniform(0,1) for i in range(community_size)]\n",
    "\n",
    "d_target = [[random.uniform(0,8) for j in range(len(probabilities))] for i in range(community_size)]\n",
    "g_res = [[random.uniform(0,3) for j in range(len(probabilities))] for i in range(community_size)]\n",
    "\n",
    "g_res = np.array(g_res)\n",
    "d_target = np.array(d_target)\n",
    "\n",
    "risk_aversion = [random.uniform(0,1) for i in range(community_size)]"
   ]
  },
  {
   "cell_type": "code",
   "execution_count": 7,
   "metadata": {},
   "outputs": [
    {
     "data": {
      "text/plain": [
       "array([[0.23662288, 0.92716398, 0.03670273],\n",
       "       [1.59854164, 0.00863613, 0.37887948],\n",
       "       [1.23778346, 2.31157114, 0.6697105 ]])"
      ]
     },
     "execution_count": 7,
     "metadata": {},
     "output_type": "execute_result"
    }
   ],
   "source": [
    "g_res"
   ]
  },
  {
   "cell_type": "code",
   "execution_count": 8,
   "metadata": {},
   "outputs": [],
   "source": [
    "agents = []\n",
    "StackelbergPlayer.community_size = community_size\n",
    "StackelbergPlayer.probabilities = probabilities\n",
    "\n",
    "epsilon = 0.001\n",
    "alpha = [[proba/(1 - risk_aversion[i]) - epsilon for proba in probabilities] for i in range(community_size)]\n",
    "#alpha = [[0.2 for proba in probabilities] for i in range(community_size)]\n",
    "gamma = [proba/(1 - min(risk_aversion)) for proba in probabilities]\n",
    "\n",
    "j_max = [10 for i in range(community_size)]\n",
    "\n",
    "for i in range(community_size):\n",
    "    agent = StackelbergPlayer(i, d_target[i], g_res[i], A[i], B[i], D[i], \n",
    "                A_tilde[i], B_tilde[i], D_min[i], D_max[i], \n",
    "                G_min[i], G_max[i], risk_aversion[i], Kappa[i], Cost[i], connection_matrix[i],\n",
    "                alpha = alpha[i], \n",
    "                gamma = gamma, \n",
    "                insurance_bound=10)\n",
    "    \n",
    "    agents.append(agent)"
   ]
  },
  {
   "cell_type": "markdown",
   "metadata": {},
   "source": [
    "## AMPL"
   ]
  },
  {
   "cell_type": "code",
   "execution_count": 9,
   "metadata": {},
   "outputs": [],
   "source": [
    "from amplpy import AMPL, Environment, DataFrame\n",
    "\n",
    "ampl = AMPL(Environment('/Users/ishilov/Documents/ampl.macos64'))\n",
    "\n",
    "ampl.read('/Users/ishilov/Documents/risk_paper/risk_paper/ampl/3_nodes_centr_risk.mod')\n",
    "ampl.readData('/Users/ishilov/Documents/risk_paper/risk_paper/ampl/3_nodes_centr_risk.dat')\n"
   ]
  },
  {
   "cell_type": "code",
   "execution_count": 10,
   "metadata": {},
   "outputs": [],
   "source": [
    "nodes = ['n_0', 'n_1', 'n_2']"
   ]
  },
  {
   "cell_type": "code",
   "execution_count": 11,
   "metadata": {},
   "outputs": [],
   "source": [
    "Cost_dict = {}\n",
    "for i in range(community_size):\n",
    "    for j in range(community_size):\n",
    "        Cost_dict.update({(nodes[i],nodes[j]):Cost[i][j]})\n",
    "\n",
    "Kappa_dict = {}\n",
    "for i in range(community_size):\n",
    "    for j in range(community_size):\n",
    "        Kappa_dict.update({(nodes[i],nodes[j]):Kappa[i][j]})"
   ]
  },
  {
   "cell_type": "code",
   "execution_count": 12,
   "metadata": {},
   "outputs": [],
   "source": [
    "d_target_dict = {}\n",
    "g_res_dict = {}\n",
    "alpha_dict = {}\n",
    "for i in range(community_size):\n",
    "    for j in range(len(probabilities)):\n",
    "        d_target_dict.update({('n_{}'.format(i), 'p_{}'.format(j)): d_target[i][j]})\n",
    "        g_res_dict.update({('n_{}'.format(i), 'p_{}'.format(j)): g_res[i][j]})\n",
    "        alpha_dict.update({('n_{}'.format(i), 'p_{}'.format(j)): alpha[i][j]})"
   ]
  },
  {
   "cell_type": "code",
   "execution_count": 13,
   "metadata": {},
   "outputs": [],
   "source": [
    "p_dict = {}\n",
    "for j in range(len(probabilities)):\n",
    "    p_dict.update({'p_{}'.format(j) : probabilities[j]})"
   ]
  },
  {
   "cell_type": "code",
   "execution_count": 14,
   "metadata": {},
   "outputs": [
    {
     "name": "stdout",
     "output_type": "stream",
     "text": [
      "MINOS 5.51: optimal solution found.\n",
      "125 iterations, objective 4.406182826\n",
      "Nonlin evals: constrs = 243, Jac = 242.\n"
     ]
    }
   ],
   "source": [
    "if community_size == 3:\n",
    "\n",
    "    ampl.getParameter('a').setValues(A)\n",
    "    ampl.getParameter('b').setValues(B)\n",
    "    ampl.getParameter('d').setValues(D)\n",
    "    ampl.getParameter('a_t').setValues(A_tilde)\n",
    "    ampl.getParameter('b_t').setValues(B_tilde)\n",
    "\n",
    "    ampl.getParameter('gamma').setValues(gamma)\n",
    "    ampl.getParameter('alpha').setValues(alpha_dict)\n",
    "    ampl.getParameter('J_max').setValues(j_max)\n",
    "\n",
    "    ampl.getParameter('D_max').setValues(D_max)\n",
    "    ampl.getParameter('G_max').setValues(G_max)\n",
    "    ampl.getParameter('D_min').setValues(D_min)\n",
    "    ampl.getParameter('G_min').setValues(G_min)\n",
    "\n",
    "    ampl.getParameter('chi').setValues(risk_aversion)\n",
    "    \n",
    "    ampl.getParameter('cost').setValues(Cost_dict)\n",
    "\n",
    "    ampl.getParameter('kappa').setValues(Kappa_dict)\n",
    "    \n",
    "    ampl.getParameter('p').setValues(p_dict)\n",
    "                \n",
    "    ampl.getParameter('D_t').setValues(d_target_dict)\n",
    "    ampl.getParameter('G_d').setValues(g_res_dict)\n",
    "    \n",
    "    # Solve\n",
    "    ampl.setOption('solver', 'MINOS')\n",
    "    ampl.solve()"
   ]
  },
  {
   "cell_type": "code",
   "execution_count": 15,
   "metadata": {},
   "outputs": [],
   "source": [
    "if community_size ==3:\n",
    "    g = ampl.getVariable('G').getValues().toDict()\n",
    "    d = ampl.getVariable('D').getValues().toDict()\n",
    "    u = ampl.getVariable('u').getValues().toDict()\n",
    "    eta = ampl.getVariable('eta').getValues().toDict()\n",
    "    q = ampl.getVariable('quant').getValues().toDict()\n",
    "    Q = ampl.getVariable('Q').getValues().toDict()\n",
    "    j = ampl.getVariable('J').getValues().toDict()\n",
    "    w = ampl.getVariable('W').getValues().toDict()\n"
   ]
  },
  {
   "cell_type": "code",
   "execution_count": 16,
   "metadata": {},
   "outputs": [
    {
     "name": "stdout",
     "output_type": "stream",
     "text": [
      "G :=\n",
      "n_0 p_0   2.27173\n",
      "n_0 p_1   2.13491\n",
      "n_0 p_2   2.55322\n",
      ";\n",
      "\n"
     ]
    }
   ],
   "source": [
    "ampl.display('G')"
   ]
  },
  {
   "cell_type": "code",
   "execution_count": 17,
   "metadata": {},
   "outputs": [
    {
     "data": {
      "text/plain": [
       "{('n_0', 'p_0'): 9.790115151221249,\n",
       " ('n_0', 'p_1'): 0.0,\n",
       " ('n_0', 'p_2'): 10.0,\n",
       " ('n_1', 'p_0'): 0.0,\n",
       " ('n_1', 'p_1'): 0.0,\n",
       " ('n_1', 'p_2'): 0.0,\n",
       " ('n_2', 'p_0'): 0.0,\n",
       " ('n_2', 'p_1'): 0.0,\n",
       " ('n_2', 'p_2'): 0.0}"
      ]
     },
     "execution_count": 17,
     "metadata": {},
     "output_type": "execute_result"
    }
   ],
   "source": [
    "j"
   ]
  },
  {
   "cell_type": "code",
   "execution_count": 18,
   "metadata": {},
   "outputs": [
    {
     "data": {
      "text/plain": [
       "{('n_0', 'p_0'): -10.222185131389063,\n",
       " ('n_0', 'p_1'): 0.0,\n",
       " ('n_0', 'p_2'): -16.62306731131113,\n",
       " ('n_1', 'p_0'): 7.228355334574056,\n",
       " ('n_1', 'p_1'): 0.0,\n",
       " ('n_1', 'p_2'): 12.992515851500931,\n",
       " ('n_2', 'p_0'): 2.9938297968150094,\n",
       " ('n_2', 'p_1'): 0.0,\n",
       " ('n_2', 'p_2'): 3.6305514598101967}"
      ]
     },
     "execution_count": 18,
     "metadata": {},
     "output_type": "execute_result"
    }
   ],
   "source": [
    "w"
   ]
  },
  {
   "cell_type": "code",
   "execution_count": 19,
   "metadata": {},
   "outputs": [],
   "source": [
    "def assign_ampl(d, g, eta, u, q, w, J, agents):\n",
    "    \"\"\"Assigns the solution from AMPL to agents\"\"\"\n",
    "\n",
    "    for i in range(community_size):\n",
    "        id = 'n_{}'.format(i)\n",
    "\n",
    "        for j in range(len(probabilities)):\n",
    "            proba = 'p_{}'.format(j)\n",
    "            agents[i].D[j] = d[(id, proba)]\n",
    "\n",
    "    for i in range(community_size):\n",
    "        id = 'n_{}'.format(i)\n",
    "\n",
    "        for j in range(len(probabilities)):\n",
    "            proba = 'p_{}'.format(j)\n",
    "            agents[i].w[j] = w[(id, proba)]\n",
    "\n",
    "    for i in range(community_size):\n",
    "        id = 'n_{}'.format(i)\n",
    "\n",
    "    for j in range(len(probabilities)):\n",
    "        proba = 'p_{}'.format(j)\n",
    "        agents[i].j[j] = J[(id, proba)]\n",
    "\n",
    "    for i in range(community_size):\n",
    "        id = 'n_{}'.format(i)\n",
    "\n",
    "    for j in range(len(probabilities)):\n",
    "        proba = 'p_{}'.format(j)\n",
    "        agents[i].G[j] = g[(id, proba)]\n",
    "\n",
    "    for i in range(community_size):\n",
    "        id = 'n_{}'.format(i)\n",
    "\n",
    "        for j in range(len(probabilities)):\n",
    "            proba = 'p_{}'.format(j)\n",
    "            agents[i].u[j] = u[(id, proba)]\n",
    "\n",
    "    for i in range(community_size):\n",
    "        id = 'n_{}'.format(i)\n",
    "\n",
    "        agents[i].eta = eta[id]\n",
    "\n",
    "    for i in range(community_size):\n",
    "        id_1 = 'n_{}'.format(i)\n",
    "\n",
    "        for j in range(community_size):\n",
    "            id_2 = 'n_{}'.format(j)\n",
    "\n",
    "            for k in range(len(probabilities)):\n",
    "                proba = 'p_{}'.format(k)\n",
    "\n",
    "                agents[i].q[j][k] = q[(id_1, id_2, proba)]"
   ]
  },
  {
   "cell_type": "code",
   "execution_count": 20,
   "metadata": {},
   "outputs": [],
   "source": [
    "assign_ampl(d, g, eta, u, q, w, j, agents)"
   ]
  },
  {
   "cell_type": "markdown",
   "metadata": {},
   "source": [
    "## Gradient"
   ]
  },
  {
   "cell_type": "code",
   "execution_count": 21,
   "metadata": {},
   "outputs": [
    {
     "data": {
      "text/plain": [
       "[0.333, 0.333, 0.333]"
      ]
     },
     "execution_count": 21,
     "metadata": {},
     "output_type": "execute_result"
    }
   ],
   "source": [
    "Player.probabilities"
   ]
  },
  {
   "cell_type": "code",
   "execution_count": 22,
   "metadata": {},
   "outputs": [
    {
     "data": {
      "text/plain": [
       "{'id': 0,\n",
       " 'D_target': array([4.48374308, 5.61419291, 1.03616364]),\n",
       " 'G_res': array([0.23662288, 0.92716398, 0.03670273]),\n",
       " 'a': 0.4412467140064833,\n",
       " 'b': 0.0579765310927256,\n",
       " 'd': 0.36054346948498994,\n",
       " 'a_tilde': 0.2456823739231614,\n",
       " 'b_tilde': 0.6895817970445591,\n",
       " 'D_min': 0.0,\n",
       " 'D_max': 10.0,\n",
       " 'G_min': 0.0,\n",
       " 'G_max': 10.0,\n",
       " 'risk_aversion': 0.29753274343094993,\n",
       " 'probabilities_ind': [0, 1, 2],\n",
       " 'trading_cost': [0.0, 1.0, 1.0],\n",
       " 'connections': [0, 1, 1],\n",
       " 'kappa': array([ 0., 10., 10.]),\n",
       " 'G': array([0., 0., 0.]),\n",
       " 'D': array([2.32573044, 3.57904524, 0.        ]),\n",
       " 'eta': 2.334847377487864,\n",
       " 'u': array([0.        , 0.        , 3.21928752]),\n",
       " 'q': array([[ 0.        ,  0.        ,  0.        ],\n",
       "        [ 3.5795909 ,  5.00863613,  1.74036759],\n",
       "        [-3.76221654, -4.49166765, -4.3302895 ]]),\n",
       " 'grad_G': array([0., 0., 0.]),\n",
       " 'grad_D': array([0., 0., 0.]),\n",
       " 'grad_eta': 0,\n",
       " 'grad_u': array([0., 0., 0.]),\n",
       " 'grad_q': array([[0., 0., 0.],\n",
       "        [0., 0., 0.],\n",
       "        [0., 0., 0.]]),\n",
       " 'plot_d': [[], [], []],\n",
       " 'plot_g': [[], [], []],\n",
       " 'plot_u': [[], [], []],\n",
       " 'plot_eta': [],\n",
       " 'plot_q': [[[], [], []], [[], [], []], [[], [], []]],\n",
       " 'alpha': [0.47304344741478677, 0.47304344741478677, 0.47304344741478677],\n",
       " 'gamma': [0.47404344741478677, 0.47404344741478677, 0.47404344741478677],\n",
       " 'j_max': 10,\n",
       " 'j': array([0., 0., 0.]),\n",
       " 'w': array([-10.22218513,   0.        , -16.62306731]),\n",
       " 'grad_j': array([0., 0., 0.]),\n",
       " 'grad_w': array([0., 0., 0.]),\n",
       " 'plot_j': [[], [], []],\n",
       " 'plot_w': [[], [], []]}"
      ]
     },
     "execution_count": 22,
     "metadata": {},
     "output_type": "execute_result"
    }
   ],
   "source": [
    "agents[0].__dict__"
   ]
  },
  {
   "cell_type": "code",
   "execution_count": 23,
   "metadata": {},
   "outputs": [
    {
     "name": "stdout",
     "output_type": "stream",
     "text": [
      "Utility update:\n",
      "{'update_eta': 1, 'update_u': array([0.47404345, 0.47404345, 0.47404345])}\n",
      "-------\n",
      "D_min bound\n",
      "[0. 0. 0.]\n",
      "-------\n",
      "D_max bound\n",
      "[0 0 0]\n",
      "-------\n",
      "G_min bound\n",
      "[0. 0. 0.]\n",
      "-------\n",
      "G_max bound\n",
      "[0 0 0]\n",
      "-------\n",
      "Penalty supply-demand balance bound\n",
      "{'update_d': array([2.27173319, 2.13491278, 2.55321918]), 'update_g': array([-2.27173319, -2.13491278, -2.55321918]), 'update_q': array([[ 0.        ,  0.        ,  0.        ],\n",
      "       [-2.27173319, -2.13491278, -2.55321918],\n",
      "       [-2.27173319, -2.13491278, -2.55321918]]), 'violation': array([2.27173319, 2.13491278, 2.55321918])}\n",
      "-------\n",
      "U bound\n",
      "[0. 0. 0.]\n",
      "-------\n",
      "Penalty trading bound\n",
      "[[0. 0. 0.]\n",
      " [0. 0. 0.]\n",
      " [0. 0. 0.]]\n",
      "-------\n",
      "Bilateral trading bound\n",
      "[[0.00000000e+00 0.00000000e+00 0.00000000e+00]\n",
      " [0.00000000e+00 1.77635684e-15 1.11022302e-15]\n",
      " [0.00000000e+00 0.00000000e+00 8.88178420e-16]]\n",
      "-------\n",
      "Penalty residual bound\n",
      "{'update_d': array([-0., -0., -0.]), 'update_g': array([0., 0., 0.]), 'update_eta': 0, 'update_u': array([0, 0, 0]), 'update_q': array([[0., 0., 0.],\n",
      "       [0., 0., 0.],\n",
      "       [0., 0., 0.]])}\n",
      "----------------------------------------------\n",
      "Utility update:\n",
      "{'update_eta': 1, 'update_u': array([4.08866709, 4.08866709, 4.08866709])}\n",
      "-------\n",
      "D_min bound\n",
      "[0. 0. 0.]\n",
      "-------\n",
      "D_max bound\n",
      "[0 0 0]\n",
      "-------\n",
      "G_min bound\n",
      "[0. 0. 0.]\n",
      "-------\n",
      "G_max bound\n",
      "[0. 0. 0.]\n",
      "-------\n",
      "Penalty supply-demand balance bound\n",
      "{'update_d': array([ 2.22044605e-15, -2.33146835e-15, -1.33226763e-15]), 'update_g': array([-2.22044605e-15,  2.33146835e-15,  1.33226763e-15]), 'update_q': array([[-2.22044605e-15,  2.33146835e-15,  1.33226763e-15],\n",
      "       [ 0.00000000e+00,  0.00000000e+00,  0.00000000e+00],\n",
      "       [-2.22044605e-15,  2.33146835e-15,  1.33226763e-15]]), 'violation': array([ 2.22044605e-15, -2.33146835e-15, -1.33226763e-15])}\n",
      "-------\n",
      "U bound\n",
      "[0. 0. 0.]\n",
      "-------\n",
      "Penalty trading bound\n",
      "[[0. 0. 0.]\n",
      " [0. 0. 0.]\n",
      " [0. 0. 0.]]\n",
      "-------\n",
      "Bilateral trading bound\n",
      "[[0.00000000e+00 1.77635684e-15 1.11022302e-15]\n",
      " [0.00000000e+00 0.00000000e+00 0.00000000e+00]\n",
      " [0.00000000e+00 1.77635684e-15 8.88178420e-16]]\n",
      "-------\n",
      "Penalty residual bound\n",
      "{'update_d': array([-2.21214515e+01, -1.77141824e-15, -4.13756555e+01]), 'update_g': array([3.79772849e+00, 2.79985723e-15, 6.82617903e+00]), 'update_eta': -20.22087118607635, 'update_u': array([-7.22835533e+00, -5.32907052e-15, -1.29925159e+01]), 'update_q': array([[2.16850660e+01, 1.59872116e-14, 3.89775476e+01],\n",
      "       [0.00000000e+00, 0.00000000e+00, 0.00000000e+00],\n",
      "       [7.22835533e+00, 5.32907052e-15, 1.29925159e+01]])}\n",
      "----------------------------------------------\n",
      "Utility update:\n",
      "{'update_eta': 1, 'update_u': array([0.84749846, 0.84749846, 0.84749846])}\n",
      "-------\n",
      "D_min bound\n",
      "[0. 0. 0.]\n",
      "-------\n",
      "D_max bound\n",
      "[0 0 0]\n",
      "-------\n",
      "G_min bound\n",
      "[0. 0. 0.]\n",
      "-------\n",
      "G_max bound\n",
      "[0. 0. 0.]\n",
      "-------\n",
      "Penalty supply-demand balance bound\n",
      "{'update_d': array([ 0.00000000e+00,  0.00000000e+00, -1.11022302e-16]), 'update_g': array([-0.00000000e+00, -0.00000000e+00,  1.11022302e-16]), 'update_q': array([[-0.00000000e+00, -0.00000000e+00,  1.11022302e-16],\n",
      "       [-0.00000000e+00, -0.00000000e+00,  1.11022302e-16],\n",
      "       [ 0.00000000e+00,  0.00000000e+00,  0.00000000e+00]]), 'violation': array([ 0.00000000e+00,  0.00000000e+00, -1.11022302e-16])}\n",
      "-------\n",
      "U bound\n",
      "[0. 0. 0.]\n",
      "-------\n",
      "Penalty trading bound\n",
      "[[0. 0. 0.]\n",
      " [0. 0. 0.]\n",
      " [0. 0. 0.]]\n",
      "-------\n",
      "Bilateral trading bound\n",
      "[[0.00000000e+00 0.00000000e+00 8.88178420e-16]\n",
      " [0.00000000e+00 1.77635684e-15 8.88178420e-16]\n",
      " [0.00000000e+00 0.00000000e+00 0.00000000e+00]]\n",
      "-------\n",
      "Penalty residual bound\n",
      "{'update_d': array([-1.07235259, -0.        , -0.95270037]), 'update_g': array([2.53227525, 0.        , 3.07083443]), 'update_eta': -6.624381256625206, 'update_u': array([-2.9938298 , -0.        , -3.63055146]), 'update_q': array([[5.98765959, 0.        , 7.26110292],\n",
      "       [2.9938298 , 0.        , 3.63055146],\n",
      "       [0.        , 0.        , 0.        ]])}\n",
      "----------------------------------------------\n"
     ]
    }
   ],
   "source": [
    "for i in range(community_size):\n",
    "    print('Utility update:')\n",
    "    print(StackelbergGradientComputation.utility_grad(agents[i]))\n",
    "    print('-------')\n",
    "    print('D_min bound')\n",
    "    print(StackelbergGradientComputation.penalty_dmin(agents[i]))\n",
    "    print('-------')\n",
    "    print('D_max bound')\n",
    "    print(StackelbergGradientComputation.penalty_dmax(agents[i]))\n",
    "    print('-------')\n",
    "    print('G_min bound')\n",
    "    print(StackelbergGradientComputation.penalty_gmin(agents[i]))\n",
    "    print('-------')\n",
    "    print('G_max bound')\n",
    "    print(StackelbergGradientComputation.penalty_gmax(agents[i]))\n",
    "    print('-------')\n",
    "    print('Penalty supply-demand balance bound')\n",
    "    print(StackelbergGradientComputation.penalty_balance(agents[i]))\n",
    "    print('-------')\n",
    "    print('U bound')\n",
    "    print(StackelbergGradientComputation.penalty_u(agents[i]))\n",
    "    print('-------')\n",
    "    print('Penalty trading bound')\n",
    "    print(StackelbergGradientComputation.penalty_trading_bound(agents[i]))\n",
    "    print('-------')\n",
    "    print('Bilateral trading bound')\n",
    "    print(StackelbergGradientComputation.penalty_bilateral_trading(agents[i], agents))\n",
    "    print('-------')\n",
    "    print('Penalty residual bound')\n",
    "    print(StackelbergGradientComputation.penalty_residual(agents[i]))\n",
    "    print('----------------------------------------------')"
   ]
  },
  {
   "cell_type": "code",
   "execution_count": 24,
   "metadata": {},
   "outputs": [],
   "source": [
    "mu = 0.03\n",
    "rho = 2000\n",
    "k = 0\n",
    "\n",
    "plot_penalty_residual = [[[] for j in range(len(probabilities))] for i in range(community_size)]\n",
    "plot_balance = [[[] for j in range(len(probabilities))] for i in range(community_size)]\n",
    "\n",
    "min_ra = min(risk_aversion)\n",
    "while k <= 1000:\n",
    "    #print(k)\n",
    "    #print('--------------------------')\n",
    "    for agent in agents:\n",
    "        #Update of grad_d of the agent\n",
    "\n",
    "        agent.grad_D = rho*(StackelbergGradientComputation.penalty_dmin(agent) \n",
    "                            + StackelbergGradientComputation.penalty_dmax(agent)\n",
    "                            + StackelbergGradientComputation.penalty_balance(agent)['update_d']\n",
    "                            + StackelbergGradientComputation.stackelberg_penalty_residual(agent)['update_d'])\n",
    "\n",
    "        agent.grad_G = rho*(StackelbergGradientComputation.penalty_gmin(agent) \n",
    "                            + StackelbergGradientComputation.penalty_gmax(agent)\n",
    "                            + StackelbergGradientComputation.penalty_balance(agent)['update_g']\n",
    "                            + StackelbergGradientComputation.stackelberg_penalty_residual(agent)['update_g'])\n",
    "\n",
    "        agent.grad_eta = (StackelbergGradientComputation.risk_utility_grad(agent, min_ra)['update_eta']\n",
    "                            + rho*StackelbergGradientComputation.stackelberg_penalty_residual(agent)['update_eta'])\n",
    "\n",
    "        agent.grad_u = (StackelbergGradientComputation.risk_utility_grad(agent, min_ra)['update_u']\n",
    "                            + rho*StackelbergGradientComputation.stackelberg_penalty_residual(agent)['update_u']\n",
    "                            + rho*StackelbergGradientComputation.penalty_u(agent))\n",
    "\n",
    "\n",
    "\n",
    "        agent.grad_q = rho*(StackelbergGradientComputation.penalty_trading_bound(agent)\n",
    "                            + StackelbergGradientComputation.stackelberg_penalty_residual(agent)['update_q']\n",
    "                            + StackelbergGradientComputation.penalty_balance(agent)['update_q']\n",
    "                            + StackelbergGradientComputation.penalty_bilateral_trading(agent, agents))\n",
    "\n",
    "        agent.grad_w = (StackelbergGradientComputation.risk_utility_grad(agent, min_ra)['update_w']\n",
    "                            + rho * StackelbergGradientComputation.stackelberg_penalty_residual(agent)['update_w']\n",
    "                            + rho * StackelbergGradientComputation.penalty_risk_balance(agents))\n",
    "\n",
    "        agent.grad_j = (StackelbergGradientComputation.risk_utility_grad(agent, min_ra)['update_j']\n",
    "                            + rho * StackelbergGradientComputation.stackelberg_penalty_residual(agent)['update_j']\n",
    "                            + rho * StackelbergGradientComputation.penalty_jmin(agent)\n",
    "                            + rho * StackelbergGradientComputation.penalty_jmax(agent))\n",
    "        \n",
    "\n",
    "        #print('Agent {} variables'.format(agent.id))\n",
    "        #print(agent.variables_to_vector())\n",
    "        #print('--------------------------------')\n",
    "\n",
    "    #Agent's variables update\n",
    "    for agent in agents:\n",
    "\n",
    "        N = k+500\n",
    "\n",
    "        agent.D = agent.D - mu/(N)*agent.grad_D\n",
    "        agent.G = agent.G - mu/(N)*agent.grad_G\n",
    "        agent.eta = agent.eta - mu/(N)*agent.grad_eta\n",
    "        agent.u = agent.u - mu/(N)*agent.grad_u\n",
    "        agent.q = agent.q - mu/(N)*agent.grad_q\n",
    "        agent.w = agent.w - mu/(N)*agent.grad_w\n",
    "        agent.j = agent.j - mu/(N)*agent.grad_j\n",
    "\n",
    "        agent.plot_eta.append(agent.eta)\n",
    "\n",
    "        for i in range(len(probabilities)):\n",
    "            agent.plot_d[i].append(agent.D[i])\n",
    "            agent.plot_g[i].append(agent.G[i])\n",
    "            agent.plot_u[i].append(agent.u[i])\n",
    "            agent.plot_w[i].append(agent.w[i])\n",
    "            agent.plot_j[i].append(agent.j[i])\n",
    "\n",
    "            plot_penalty_residual[agent.id][i].append(StackelbergGradientComputation.stackelberg_penalty_residual(agent)['violation'])\n",
    "            plot_balance[agent.id][i].append(StackelbergGradientComputation.penalty_balance(agent)['violation'])\n",
    "\n",
    "            for agent_2 in agents:\n",
    "                agent.plot_q[agent_2.id][i].append(agent.q[agent_2.id][i])\n",
    "    \n",
    "    \n",
    "\n",
    "    k +=1"
   ]
  },
  {
   "cell_type": "code",
   "execution_count": null,
   "metadata": {},
   "outputs": [
    {
     "data": {
      "image/png": "[encoded data removed]",
      "text/plain": [
       "<Figure size 432x288 with 1 Axes>"
      ]
     },
     "metadata": {},
     "output_type": "display_data"
    },
    {
     "data": {
      "image/png": "[encoded data removed]",
      "text/plain": [
       "<Figure size 432x288 with 1 Axes>"
      ]
     },
     "metadata": {},
     "output_type": "display_data"
    },
    {
     "data": {
      "image/png": "[encoded data removed]",
      "text/plain": [
       "<Figure size 432x288 with 1 Axes>"
      ]
     },
     "metadata": {},
     "output_type": "display_data"
    }
   ],
   "source": [
    "for agent in agents:\n",
    "    for i in range(len(probabilities)):\n",
    "        plt.plot(agent.plot_d[i])\n",
    "    \n",
    "    plt.show()"
   ]
  },
  {
   "cell_type": "code",
   "execution_count": null,
   "metadata": {},
   "outputs": [
    {
     "data": {
      "image/png": "[encoded data removed]",
      "text/plain": [
       "<Figure size 432x288 with 1 Axes>"
      ]
     },
     "metadata": {},
     "output_type": "display_data"
    },
    {
     "data": {
      "image/png": "[encoded data removed]",
      "text/plain": [
       "<Figure size 432x288 with 1 Axes>"
      ]
     },
     "metadata": {},
     "output_type": "display_data"
    },
    {
     "data": {
      "image/png": "[encoded data removed]",
      "text/plain": [
       "<Figure size 432x288 with 1 Axes>"
      ]
     },
     "metadata": {},
     "output_type": "display_data"
    }
   ],
   "source": [
    "for agent in agents:\n",
    "    for i in range(len(probabilities)):\n",
    "        plt.plot(agent.plot_w[i])\n",
    "    \n",
    "    plt.show()"
   ]
  },
  {
   "cell_type": "code",
   "execution_count": null,
   "metadata": {},
   "outputs": [
    {
     "data": {
      "image/png": "[encoded data removed]",
      "text/plain": [
       "<Figure size 432x288 with 1 Axes>"
      ]
     },
     "metadata": {},
     "output_type": "display_data"
    },
    {
     "data": {
      "image/png": "[encoded data removed]",
      "text/plain": [
       "<Figure size 432x288 with 1 Axes>"
      ]
     },
     "metadata": {},
     "output_type": "display_data"
    },
    {
     "data": {
      "image/png": "[encoded data removed]",
      "text/plain": [
       "<Figure size 432x288 with 1 Axes>"
      ]
     },
     "metadata": {},
     "output_type": "display_data"
    }
   ],
   "source": [
    "for agent in agents:\n",
    "    for i in range(len(probabilities)):\n",
    "        plt.plot(agent.plot_j[i])\n",
    "    \n",
    "    plt.show()"
   ]
  },
  {
   "cell_type": "code",
   "execution_count": 26,
   "metadata": {},
   "outputs": [
    {
     "data": {
      "image/png": "[encoded data removed]",
      "text/plain": [
       "<Figure size 432x288 with 1 Axes>"
      ]
     },
     "metadata": {},
     "output_type": "display_data"
    },
    {
     "data": {
      "image/png": "[encoded data removed]",
      "text/plain": [
       "<Figure size 432x288 with 1 Axes>"
      ]
     },
     "metadata": {},
     "output_type": "display_data"
    },
    {
     "data": {
      "image/png": "[encoded data removed]",
      "text/plain": [
       "<Figure size 432x288 with 1 Axes>"
      ]
     },
     "metadata": {},
     "output_type": "display_data"
    }
   ],
   "source": [
    "for agent in agents:\n",
    "    for i in range(len(probabilities)):\n",
    "        plt.plot(plot_penalty_residual[agent.id][i])\n",
    "    \n",
    "    plt.show()\n"
   ]
  },
  {
   "cell_type": "code",
   "execution_count": 27,
   "metadata": {},
   "outputs": [
    {
     "data": {
      "image/png": "[encoded data removed]",
      "text/plain": [
       "<Figure size 432x288 with 1 Axes>"
      ]
     },
     "metadata": {},
     "output_type": "display_data"
    },
    {
     "data": {
      "image/png": "[encoded data removed]",
      "text/plain": [
       "<Figure size 432x288 with 1 Axes>"
      ]
     },
     "metadata": {},
     "output_type": "display_data"
    },
    {
     "data": {
      "image/png": "[encoded data removed]",
      "text/plain": [
       "<Figure size 432x288 with 1 Axes>"
      ]
     },
     "metadata": {},
     "output_type": "display_data"
    }
   ],
   "source": [
    "for agent in agents:\n",
    "    for i in range(len(probabilities)):\n",
    "        plt.plot(plot_balance[agent.id][i])\n",
    "    \n",
    "    plt.show()"
   ]
  },
  {
   "cell_type": "code",
   "execution_count": null,
   "metadata": {},
   "outputs": [],
   "source": []
  }
 ],
 "metadata": {
  "interpreter": {
   "hash": "b0fa6594d8f4cbf19f97940f81e996739fb7646882a419484c72d19e05852a7e"
  },
  "kernelspec": {
   "display_name": "Python 3.9.10 64-bit",
   "language": "python",
   "name": "python3"
  },
  "language_info": {
   "codemirror_mode": {
    "name": "ipython",
    "version": 3
   },
   "file_extension": ".py",
   "mimetype": "text/x-python",
   "name": "python",
   "nbconvert_exporter": "python",
   "pygments_lexer": "ipython3",
   "version": "3.9.10"
  },
  "orig_nbformat": 4
 },
 "nbformat": 4,
 "nbformat_minor": 2
}
