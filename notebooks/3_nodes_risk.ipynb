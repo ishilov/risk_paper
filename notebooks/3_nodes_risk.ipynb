{
 "cells": [
  {
   "cell_type": "code",
   "execution_count": 154,
   "metadata": {},
   "outputs": [],
   "source": [
    "import pandas as pd\n",
    "import numpy as np\n",
    "import random\n",
    "import scipy.optimize as scopt\n",
    "\n",
    "import matplotlib.pyplot as plt\n",
    "\n",
    "import seaborn as sns\n",
    "sns.set()"
   ]
  },
  {
   "cell_type": "code",
   "execution_count": 155,
   "metadata": {},
   "outputs": [],
   "source": [
    "from supplement_package.game.gradient import GradientComputation\n",
    "from supplement_package.game.player import Player\n",
    "from supplement_package.game.stackelberg import StackelbergPlayer\n",
    "from supplement_package.game.stackelberg import StackelbergGradientComputation"
   ]
  },
  {
   "cell_type": "code",
   "execution_count": 156,
   "metadata": {},
   "outputs": [
    {
     "data": {
      "text/plain": [
       "mappingproxy({'__module__': 'supplement_package.game.stackelberg',\n",
       "              '__init__': <function supplement_package.game.stackelberg.StackelbergGradientComputation.__init__(self) -> None>,\n",
       "              'risk_utility_grad': <staticmethod at 0x14fb67ee0>,\n",
       "              'stackelberg_penalty_residual': <staticmethod at 0x14fb67f10>,\n",
       "              'penalty_jmin': <staticmethod at 0x14fb67f40>,\n",
       "              'penalty_jmax': <staticmethod at 0x14fb67f70>,\n",
       "              'penalty_risk_balance': <staticmethod at 0x14fb67fa0>,\n",
       "              '__doc__': None})"
      ]
     },
     "execution_count": 156,
     "metadata": {},
     "output_type": "execute_result"
    }
   ],
   "source": [
    "StackelbergGradientComputation.__dict__"
   ]
  },
  {
   "cell_type": "code",
   "execution_count": 157,
   "metadata": {},
   "outputs": [],
   "source": [
    "community_size = 3"
   ]
  },
  {
   "cell_type": "code",
   "execution_count": 158,
   "metadata": {},
   "outputs": [],
   "source": [
    "if community_size == 3:\n",
    "    D_min = [0.0,0.0,0.0]\n",
    "    D_max = [10.0,10.0,10.0]\n",
    "\n",
    "    G_min = [0.0,0.0,0.0]\n",
    "    G_max = [10.0,0.0,0.0]\n",
    "    \n",
    "    Kappa = [[0.0, 10.0, 10.0],\n",
    "             [10.0, 0.0, 5.0],\n",
    "             [10.0, 5.0, 0.0]]\n",
    "    \n",
    "    Cost = [[0.0, 1.0, 1.0],\n",
    "            [3.0, 0.0, 1.0],\n",
    "            [2.0, 1.0, 0.0]]\n",
    "    \n",
    "    probabilities = [0.333, 0.333, 0.333]\n",
    "\n",
    "    #probabilities = [0.5, 0.5]\n",
    "    connection_matrix = [[0,1,1],[1,0,1],[1,1,0]]"
   ]
  },
  {
   "cell_type": "code",
   "execution_count": 159,
   "metadata": {},
   "outputs": [],
   "source": [
    "A_tilde = [random.uniform(0,1) for i in range(community_size)]\n",
    "B_tilde = [random.uniform(0,1) for i in range(community_size)]\n",
    "\n",
    "a = [random.uniform(0,1) for i in range(community_size)]\n",
    "b = [random.uniform(0,1) for i in range(community_size)]\n",
    "d = [random.uniform(0,1) for i in range(community_size)]\n",
    "\n",
    "d_target = [[random.uniform(0,8) for j in range(len(probabilities))] for i in range(community_size)]\n",
    "g_res = [[random.uniform(0,3) for j in range(len(probabilities))] for i in range(community_size)]\n",
    "\n",
    "g_res = np.array(g_res)\n",
    "d_target = np.array(d_target)\n",
    "\n",
    "risk_aversion = [random.uniform(0,1) for i in range(community_size)]"
   ]
  },
  {
   "cell_type": "code",
   "execution_count": 160,
   "metadata": {},
   "outputs": [],
   "source": [
    "agents = []\n",
    "StackelbergPlayer.community_size = community_size\n",
    "StackelbergPlayer.probabilities = probabilities\n",
    "\n",
    "epsilon = 0.001\n",
    "alpha = [[proba/(1 - risk_aversion[i]) - epsilon for proba in probabilities] for i in range(community_size)]\n",
    "#alpha = [[0.2 for proba in probabilities] for i in range(community_size)]\n",
    "gamma = [proba/(1 - min(risk_aversion)) for proba in probabilities]\n",
    "\n",
    "j_max = [10 for i in range(community_size)]\n",
    "\n",
    "for i in range(community_size):\n",
    "    agent = StackelbergPlayer(i, d_target[i], g_res[i], a[i], b[i], d[i], \n",
    "                A_tilde[i], B_tilde[i], D_min[i], D_max[i], \n",
    "                G_min[i], G_max[i], risk_aversion[i], Kappa[i], Cost[i], connection_matrix[i],\n",
    "                alpha = alpha[i], \n",
    "                gamma = gamma, \n",
    "                insurance_bound=j_max[i])\n",
    "    \n",
    "    agents.append(agent)"
   ]
  },
  {
   "cell_type": "markdown",
   "metadata": {},
   "source": [
    "## Gurobi"
   ]
  },
  {
   "cell_type": "code",
   "execution_count": 161,
   "metadata": {},
   "outputs": [],
   "source": [
    "import gurobipy as gp"
   ]
  },
  {
   "cell_type": "code",
   "execution_count": 162,
   "metadata": {},
   "outputs": [],
   "source": [
    "def gurobi_add_generation_var(agent, model):\n",
    "\n",
    "    for proba in agent.probabilities_ind:\n",
    "        model.addVar(lb = agent.G_min, \n",
    "                        ub = agent.G_max, \n",
    "                        vtype=gp.GRB.CONTINUOUS, \n",
    "                        name = f'G_{agent.id}_{proba}')\n",
    "\n",
    "    model.update()"
   ]
  },
  {
   "cell_type": "code",
   "execution_count": 163,
   "metadata": {},
   "outputs": [],
   "source": [
    "def gurobi_add_demand_var(agent, model):\n",
    "\n",
    "    for proba in agent.probabilities_ind:\n",
    "        model.addVar(lb = agent.D_min,\n",
    "                        ub = agent.D_max,\n",
    "                        vtype = gp.GRB.CONTINUOUS,\n",
    "                        name = f'D_{agent.id}_{proba}')\n",
    "\n",
    "    model.update()"
   ]
  },
  {
   "cell_type": "code",
   "execution_count": 164,
   "metadata": {},
   "outputs": [],
   "source": [
    "def gurobi_add_energy_trading_var(agent, agents, model):\n",
    "\n",
    "    for agent_2 in agents:\n",
    "        if agent.connections[agent_2.id]:\n",
    "            for proba in agent.probabilities_ind:\n",
    "                    model.addVar(lb = - agent.kappa[agent_2.id],\n",
    "                                ub = agent.kappa[agent_2.id],\n",
    "                                vtype = gp.GRB.CONTINUOUS,\n",
    "                                name = f'q_{agent.id}_{agent_2.id}_{proba}')\n",
    "\n",
    "    model.update()\n"
   ]
  },
  {
   "cell_type": "code",
   "execution_count": 165,
   "metadata": {},
   "outputs": [],
   "source": [
    "def gurobi_add_fin_contracts_var(agent, model):\n",
    "\n",
    "    for proba in agent.probabilities_ind:\n",
    "        model.addVar(lb = - float('inf'),\n",
    "                    ub = float('inf'),\n",
    "                    vtype = gp.GRB.CONTINUOUS,\n",
    "                    name = f'W_{agent.id}_{proba}')\n",
    "\n",
    "    model.update()"
   ]
  },
  {
   "cell_type": "code",
   "execution_count": 166,
   "metadata": {},
   "outputs": [],
   "source": [
    "def gurobi_add_insurance_var(agent, model):\n",
    "\n",
    "    for proba in agent.probabilities_ind:\n",
    "        model.addVar(lb = 0.0,\n",
    "                    ub = agent.j_max,\n",
    "                    vtype = gp.GRB.CONTINUOUS,\n",
    "                    name = f'J_{agent.id}_{proba}')\n",
    "\n",
    "    model.update()"
   ]
  },
  {
   "cell_type": "code",
   "execution_count": 167,
   "metadata": {},
   "outputs": [],
   "source": [
    "def gurobi_add_eta_var(agent, model):\n",
    "    model.addVar(lb = - float('inf'),\n",
    "                ub = float('inf'),\n",
    "                vtype = gp.GRB.CONTINUOUS,\n",
    "                name = f'eta_{agent.id}')\n",
    "\n",
    "    model.update()"
   ]
  },
  {
   "cell_type": "code",
   "execution_count": 168,
   "metadata": {},
   "outputs": [],
   "source": [
    "def gurobi_add_residual_var(agent, model):\n",
    "    \n",
    "    for proba in agent.probabilities_ind:\n",
    "        model.addVar(lb = 0,\n",
    "                    ub = float('inf'),\n",
    "                    vtype = gp.GRB.CONTINUOUS,\n",
    "                    name = f'u_{agent.id}_{proba}')\n",
    "\n",
    "    model.update()"
   ]
  },
  {
   "cell_type": "code",
   "execution_count": 169,
   "metadata": {},
   "outputs": [],
   "source": [
    "def gurobi_set_objective(agent, model, two_level = True):\n",
    "    if two_level:\n",
    "        lExpr = gp.LinExpr()\n",
    "\n",
    "        for proba_ind, proba in enumerate(agent.probabilities):\n",
    "            lExpr.add(model.getVarByName(f'W_{agent.id}_{proba_ind}') * gamma[proba_ind] \n",
    "                    + model.getVarByName(f'J_{agent.id}_{proba_ind}') * alpha[agent.id][proba_ind]\n",
    "                    + model.getVarByName(f'u_{agent.id}_{proba_ind}') * proba / (1 - agent.risk_aversion))\n",
    "\n",
    "        lExpr.add(model.getVarByName(f'eta_{agent.id}'))\n",
    "\n",
    "    return lExpr"
   ]
  },
  {
   "cell_type": "code",
   "execution_count": 170,
   "metadata": {},
   "outputs": [],
   "source": [
    "def gurobi_trading_sum_calc(agent, proba, agents, model, weights = False):\n",
    "    lExpr = gp.LinExpr()\n",
    "\n",
    "    if weights:\n",
    "        for agent_2 in agents:\n",
    "            if agent.connections[agent_2.id]:\n",
    "                lExpr.add(model.getVarByName(f'q_{agent.id}_{agent_2.id}_{proba}') * agent.trading_cost[agent_2.id])\n",
    "\n",
    "    else:\n",
    "        for agent_2 in agents:\n",
    "            if agent.connections[agent_2.id]:\n",
    "                lExpr.add(model.getVarByName(f'q_{agent.id}_{agent_2.id}_{proba}'))\n",
    "\n",
    "    return lExpr"
   ]
  },
  {
   "cell_type": "code",
   "execution_count": 171,
   "metadata": {},
   "outputs": [],
   "source": [
    "def gurobi_set_SD_balance_constr(agent, agents, model):\n",
    "\n",
    "    for proba in agent.probabilities_ind:\n",
    "        model.addConstr(model.getVarByName(f'D_{agent.id}_{proba}')\n",
    "                        - model.getVarByName(f'G_{agent.id}_{proba}')\n",
    "                        - agent.G_res[proba]\n",
    "                        - gurobi_trading_sum_calc(agent, proba, agents, model, weights=False) == 0,\n",
    "                        name= f'SD balance for agent {agent.id} proba {proba}')\n",
    "\n",
    "    model.update()"
   ]
  },
  {
   "cell_type": "code",
   "execution_count": 172,
   "metadata": {},
   "outputs": [],
   "source": [
    "def gurobi_set_bilateral_trading_constr(agent, agents, model):\n",
    "    for agent_2 in agents:\n",
    "        if agent.connections[agent_2.id]:\n",
    "            for proba in agent.probabilities_ind:\n",
    "                model.addConstr(model.getVarByName(f'q_{agent.id}_{agent_2.id}_{proba}')  \n",
    "                                + model.getVarByName(f'q_{agent_2.id}_{agent.id}_{proba}') == 0, \n",
    "                                name = f'Bilateral trading for pair ({agent.id}, {agent_2.id}) proba {proba}')\n",
    "\n",
    "    model.update()"
   ]
  },
  {
   "cell_type": "code",
   "execution_count": 173,
   "metadata": {},
   "outputs": [],
   "source": [
    "def gurobi_quadr_generation(agent, proba, model):\n",
    "    qExpr_G = gp.QuadExpr()\n",
    "\n",
    "    qExpr_G.add(0.5 * agent.a \n",
    "                * model.getVarByName(f'G_{agent.id}_{proba}') * model.getVarByName(f'G_{agent.id}_{proba}') \n",
    "                + agent.b \n",
    "                * model.getVarByName(f'G_{agent.id}_{proba}') \n",
    "                + agent.d)\n",
    "    \n",
    "    return qExpr_G"
   ]
  },
  {
   "cell_type": "code",
   "execution_count": 174,
   "metadata": {},
   "outputs": [],
   "source": [
    "def gurobi_quadr_demand(agent, proba, model):\n",
    "    qExpr_D = gp.QuadExpr()\n",
    "\n",
    "    qExpr_D.add(agent.a_tilde \n",
    "                * (model.getVarByName(f'D_{agent.id}_{proba}') - agent.D_target[proba]) \n",
    "                * (model.getVarByName(f'D_{agent.id}_{proba}') - agent.D_target[proba]) \n",
    "                - agent.b_tilde)\n",
    "\n",
    "    return qExpr_D"
   ]
  },
  {
   "cell_type": "code",
   "execution_count": 175,
   "metadata": {},
   "outputs": [],
   "source": [
    "def gurobi_set_residual_constr(agent, agents, model):\n",
    "    \n",
    "    for proba in agent.probabilities_ind:\n",
    "        qExpr = gp.QuadExpr()\n",
    "        lExpr = gp.LinExpr()\n",
    "        \n",
    "        qExpr.add(model.getVarByName(f'D_{agent.id}_{proba}'))\n",
    "        \n",
    "        qExpr.add(gurobi_quadr_generation(agent, proba, model))\n",
    "        qExpr.add(gurobi_quadr_demand(agent, proba, model))\n",
    "        lExpr.add(gurobi_trading_sum_calc(agent, proba, agents, model, weights=True))\n",
    "\n",
    "        lExpr.add(- model.getVarByName(f'u_{agent.id}_{proba}') )\n",
    "        lExpr.add(- model.getVarByName(f'eta_{agent.id}'))\n",
    "        lExpr.add(- model.getVarByName(f'W_{agent.id}_{proba}'))\n",
    "        lExpr.add(- model.getVarByName(f'J_{agent.id}_{proba}'))\n",
    "\n",
    "        model.addConstr(qExpr + lExpr  <= 0,\n",
    "                        name=f'Residual constraint for agent {agent.id} proba {proba}')\n",
    "        \n",
    "        model.update()\n",
    "    \n"
   ]
  },
  {
   "cell_type": "code",
   "execution_count": 176,
   "metadata": {},
   "outputs": [],
   "source": [
    "def gurobi_set_risk_trading_constr(agents, model):\n",
    "    for proba in agents[0].probabilities_ind:\n",
    "        lExpr = gp.LinExpr()\n",
    "\n",
    "        for agent in agents:\n",
    "            lExpr.add(model.getVarByName(f'W_{agent.id}_{proba}'))\n",
    "\n",
    "        model.addConstr(lExpr == 0,\n",
    "                        name = f'Risk trading balance for proba {proba}')\n",
    "\n",
    "    model.update()"
   ]
  },
  {
   "cell_type": "code",
   "execution_count": 177,
   "metadata": {},
   "outputs": [],
   "source": [
    "def build_model(agents, model, centralized = True):\n",
    "    if centralized:\n",
    "        for agent in agents:\n",
    "            gurobi_add_demand_var(agent, model)\n",
    "            gurobi_add_generation_var(agent, model)\n",
    "            gurobi_add_energy_trading_var(agent, agents, model)\n",
    "            gurobi_add_eta_var(agent, model)\n",
    "            gurobi_add_fin_contracts_var(agent, model)\n",
    "            gurobi_add_insurance_var(agent, model)\n",
    "            gurobi_add_residual_var(agent, model)\n",
    "\n",
    "        for agent in agents:\n",
    "            gurobi_set_bilateral_trading_constr(agent, agents, model)\n",
    "            gurobi_set_residual_constr(agent, agents, model)\n",
    "            gurobi_set_SD_balance_constr(agent, agents, model)\n",
    "            \n",
    "        gurobi_set_risk_trading_constr(agents, model)\n",
    "\n",
    "        obj = gp.LinExpr()\n",
    "        for agent in agents:\n",
    "            obj.add(gurobi_set_objective(agent, model, two_level=True))\n",
    "\n",
    "        model.setObjective(obj, gp.GRB.MINIMIZE)\n",
    "        model.update()"
   ]
  },
  {
   "cell_type": "code",
   "execution_count": 178,
   "metadata": {},
   "outputs": [
    {
     "data": {
      "text/plain": [
       "[<gurobi.QConstr Residual constraint for agent 0 proba 0>,\n",
       " <gurobi.QConstr Residual constraint for agent 0 proba 1>,\n",
       " <gurobi.QConstr Residual constraint for agent 0 proba 2>,\n",
       " <gurobi.QConstr Residual constraint for agent 1 proba 0>,\n",
       " <gurobi.QConstr Residual constraint for agent 1 proba 1>,\n",
       " <gurobi.QConstr Residual constraint for agent 1 proba 2>,\n",
       " <gurobi.QConstr Residual constraint for agent 2 proba 0>,\n",
       " <gurobi.QConstr Residual constraint for agent 2 proba 1>,\n",
       " <gurobi.QConstr Residual constraint for agent 2 proba 2>]"
      ]
     },
     "execution_count": 178,
     "metadata": {},
     "output_type": "execute_result"
    }
   ],
   "source": [
    "model_1 = gp.Model()\n",
    "build_model(agents, model_1)\n",
    "\n",
    "model_1.getQConstrs()"
   ]
  },
  {
   "cell_type": "code",
   "execution_count": 197,
   "metadata": {},
   "outputs": [
    {
     "data": {
      "text/plain": [
       "<gurobi.QuadExpr: -8.391569359499917 D_1_2 + 0.2452439762807619 G_1_2 + 3.0 q_1_0_2 + q_1_2_2 + -1.0 eta_1 + -1.0 W_1_2 + -1.0 J_1_2 + -1.0 u_1_2 + [ 0.9887584561452162 D_1_2 ^ 2 + 0.33566421997887563 G_1_2 ^ 2 ]>"
      ]
     },
     "execution_count": 197,
     "metadata": {},
     "output_type": "execute_result"
    }
   ],
   "source": [
    "model_1.getQCRow(model_1.getQConstrs()[6])"
   ]
  },
  {
   "cell_type": "code",
   "execution_count": 180,
   "metadata": {},
   "outputs": [
    {
     "data": {
      "text/plain": [
       "[<gurobi.Constr Bilateral trading for pair (0, 1) proba 0>,\n",
       " <gurobi.Constr Bilateral trading for pair (0, 1) proba 1>,\n",
       " <gurobi.Constr Bilateral trading for pair (0, 1) proba 2>,\n",
       " <gurobi.Constr Bilateral trading for pair (0, 2) proba 0>,\n",
       " <gurobi.Constr Bilateral trading for pair (0, 2) proba 1>,\n",
       " <gurobi.Constr Bilateral trading for pair (0, 2) proba 2>,\n",
       " <gurobi.Constr SD balance for agent 0 proba 0>,\n",
       " <gurobi.Constr SD balance for agent 0 proba 1>,\n",
       " <gurobi.Constr SD balance for agent 0 proba 2>,\n",
       " <gurobi.Constr Bilateral trading for pair (1, 0) proba 0>,\n",
       " <gurobi.Constr Bilateral trading for pair (1, 0) proba 1>,\n",
       " <gurobi.Constr Bilateral trading for pair (1, 0) proba 2>,\n",
       " <gurobi.Constr Bilateral trading for pair (1, 2) proba 0>,\n",
       " <gurobi.Constr Bilateral trading for pair (1, 2) proba 1>,\n",
       " <gurobi.Constr Bilateral trading for pair (1, 2) proba 2>,\n",
       " <gurobi.Constr SD balance for agent 1 proba 0>,\n",
       " <gurobi.Constr SD balance for agent 1 proba 1>,\n",
       " <gurobi.Constr SD balance for agent 1 proba 2>,\n",
       " <gurobi.Constr Bilateral trading for pair (2, 0) proba 0>,\n",
       " <gurobi.Constr Bilateral trading for pair (2, 0) proba 1>,\n",
       " <gurobi.Constr Bilateral trading for pair (2, 0) proba 2>,\n",
       " <gurobi.Constr Bilateral trading for pair (2, 1) proba 0>,\n",
       " <gurobi.Constr Bilateral trading for pair (2, 1) proba 1>,\n",
       " <gurobi.Constr Bilateral trading for pair (2, 1) proba 2>,\n",
       " <gurobi.Constr SD balance for agent 2 proba 0>,\n",
       " <gurobi.Constr SD balance for agent 2 proba 1>,\n",
       " <gurobi.Constr SD balance for agent 2 proba 2>,\n",
       " <gurobi.Constr Risk trading balance for proba 0>,\n",
       " <gurobi.Constr Risk trading balance for proba 1>,\n",
       " <gurobi.Constr Risk trading balance for proba 2>]"
      ]
     },
     "execution_count": 180,
     "metadata": {},
     "output_type": "execute_result"
    }
   ],
   "source": [
    "model_1.getConstrs()"
   ]
  },
  {
   "cell_type": "code",
   "execution_count": 181,
   "metadata": {},
   "outputs": [
    {
     "data": {
      "text/plain": [
       "[<gurobi.Constr Bilateral trading for pair (0, 1) proba 0>,\n",
       " <gurobi.Constr Bilateral trading for pair (0, 1) proba 1>,\n",
       " <gurobi.Constr Bilateral trading for pair (0, 1) proba 2>,\n",
       " <gurobi.Constr Bilateral trading for pair (0, 2) proba 0>,\n",
       " <gurobi.Constr Bilateral trading for pair (0, 2) proba 1>,\n",
       " <gurobi.Constr Bilateral trading for pair (0, 2) proba 2>,\n",
       " <gurobi.Constr SD balance for agent 0 proba 0>,\n",
       " <gurobi.Constr SD balance for agent 0 proba 1>,\n",
       " <gurobi.Constr SD balance for agent 0 proba 2>,\n",
       " <gurobi.Constr Bilateral trading for pair (1, 0) proba 0>,\n",
       " <gurobi.Constr Bilateral trading for pair (1, 0) proba 1>,\n",
       " <gurobi.Constr Bilateral trading for pair (1, 0) proba 2>,\n",
       " <gurobi.Constr Bilateral trading for pair (1, 2) proba 0>,\n",
       " <gurobi.Constr Bilateral trading for pair (1, 2) proba 1>,\n",
       " <gurobi.Constr Bilateral trading for pair (1, 2) proba 2>,\n",
       " <gurobi.Constr SD balance for agent 1 proba 0>,\n",
       " <gurobi.Constr SD balance for agent 1 proba 1>,\n",
       " <gurobi.Constr SD balance for agent 1 proba 2>,\n",
       " <gurobi.Constr Bilateral trading for pair (2, 0) proba 0>,\n",
       " <gurobi.Constr Bilateral trading for pair (2, 0) proba 1>,\n",
       " <gurobi.Constr Bilateral trading for pair (2, 0) proba 2>,\n",
       " <gurobi.Constr Bilateral trading for pair (2, 1) proba 0>,\n",
       " <gurobi.Constr Bilateral trading for pair (2, 1) proba 1>,\n",
       " <gurobi.Constr Bilateral trading for pair (2, 1) proba 2>,\n",
       " <gurobi.Constr SD balance for agent 2 proba 0>,\n",
       " <gurobi.Constr SD balance for agent 2 proba 1>,\n",
       " <gurobi.Constr SD balance for agent 2 proba 2>,\n",
       " <gurobi.Constr Risk trading balance for proba 0>,\n",
       " <gurobi.Constr Risk trading balance for proba 1>,\n",
       " <gurobi.Constr Risk trading balance for proba 2>]"
      ]
     },
     "execution_count": 181,
     "metadata": {},
     "output_type": "execute_result"
    }
   ],
   "source": [
    "model_1.getConstrs()"
   ]
  },
  {
   "cell_type": "code",
   "execution_count": 182,
   "metadata": {},
   "outputs": [
    {
     "name": "stdout",
     "output_type": "stream",
     "text": [
      "Gurobi Optimizer version 9.5.0 build v9.5.0rc5 (mac64[arm])\n",
      "Thread count: 8 physical cores, 8 logical processors, using up to 8 threads\n",
      "Optimize a model with 30 rows, 66 columns and 81 nonzeros\n",
      "Model fingerprint: 0x2992630f\n",
      "Model has 9 quadratic constraints\n",
      "Coefficient statistics:\n",
      "  Matrix range     [1e+00, 1e+00]\n",
      "  QMatrix range    [1e-01, 1e+00]\n",
      "  QLMatrix range   [2e-01, 1e+01]\n",
      "  Objective range  [9e-01, 9e+00]\n",
      "  Bounds range     [5e+00, 1e+01]\n",
      "  RHS range        [2e-01, 3e+00]\n",
      "  QRHS range       [1e+00, 4e+01]\n",
      "Presolve removed 9 rows and 6 columns\n",
      "Presolve time: 0.00s\n",
      "Presolved: 63 rows, 78 columns, 174 nonzeros\n",
      "Presolved model has 9 second-order cone constraints\n",
      "Ordering time: 0.00s\n",
      "\n",
      "Barrier statistics:\n",
      " Free vars  : 12\n",
      " AA' NZ     : 1.770e+02\n",
      " Factor NZ  : 6.310e+02\n",
      " Factor Ops : 7.769e+03 (less than 1 second per iteration)\n",
      " Threads    : 1\n",
      "\n",
      "                  Objective                Residual\n",
      "Iter       Primal          Dual         Primal    Dual     Compl     Time\n",
      "   0   6.63813564e+03 -6.72585424e+02  1.46e+01 1.71e+02  3.15e+02     0s\n",
      "   1   1.51684891e+03 -3.08720080e+03  2.02e+00 1.67e+01  6.51e+01     0s\n",
      "   2   1.87296658e+02 -7.20864760e+02  7.37e-02 1.98e+00  8.93e+00     0s\n",
      "   3   4.52980272e+01 -6.20166090e+01  2.53e-03 1.92e-01  1.00e+00     0s\n",
      "   4   1.93558814e+01  7.89358372e+00  1.30e-04 1.05e-02  1.02e-01     0s\n",
      "   5   1.68465627e+01  1.46115087e+01  1.17e-05 2.31e-03  2.01e-02     0s\n",
      "   6   1.65177124e+01  1.61433130e+01  2.83e-08 3.26e-04  3.33e-03     0s\n",
      "   7   1.64579252e+01  1.64394220e+01  1.21e-10 5.92e-06  1.61e-04     0s\n",
      "   8   1.64530585e+01  1.64529542e+01  1.77e-10 2.77e-08  9.03e-07     0s\n",
      "   9   1.64530283e+01  1.64530255e+01  4.73e-08 4.94e-06  2.45e-08     0s\n",
      "\n",
      "Barrier solved model in 9 iterations and 0.01 seconds (0.00 work units)\n",
      "Optimal objective 1.64530283e+01\n",
      "\n"
     ]
    }
   ],
   "source": [
    "model_1.optimize()"
   ]
  },
  {
   "cell_type": "code",
   "execution_count": 104,
   "metadata": {},
   "outputs": [
    {
     "data": {
      "text/plain": [
       "[<gurobi.Var D_0_0 (value 1.1149824107886)>,\n",
       " <gurobi.Var D_0_1 (value 2.4743425930397582)>,\n",
       " <gurobi.Var D_0_2 (value 1.0218057228397335e-06)>,\n",
       " <gurobi.Var G_0_0 (value 1.9788831067197437)>,\n",
       " <gurobi.Var G_0_1 (value 0.21368037920749133)>,\n",
       " <gurobi.Var G_0_2 (value 0.5009337013158396)>,\n",
       " <gurobi.Var q_0_1_0 (value -1.00291488527626)>,\n",
       " <gurobi.Var q_0_1_1 (value -0.23084151369975636)>,\n",
       " <gurobi.Var q_0_1_2 (value -1.3348624671282145)>,\n",
       " <gurobi.Var eta_0 (value -0.31245751976431835)>,\n",
       " <gurobi.Var W_0_0 (value 0.0)>,\n",
       " <gurobi.Var W_0_1 (value 0.0)>,\n",
       " <gurobi.Var W_0_2 (value 0.0)>,\n",
       " <gurobi.Var J_0_0 (value 0.0)>,\n",
       " <gurobi.Var J_0_1 (value 0.0)>,\n",
       " <gurobi.Var J_0_2 (value 0.0)>,\n",
       " <gurobi.Var u_0_0 (value 3.934966570845231)>,\n",
       " <gurobi.Var u_0_1 (value 4.007242157868555)>,\n",
       " <gurobi.Var u_0_2 (value 1.435075960707353e-07)>,\n",
       " <gurobi.Var D_1_0 (value 4.0958700256853025)>,\n",
       " <gurobi.Var D_1_1 (value 2.36675269765076)>,\n",
       " <gurobi.Var D_1_2 (value 5.272833893820205)>,\n",
       " <gurobi.Var G_1_0 (value 0.0)>,\n",
       " <gurobi.Var G_1_1 (value 0.0)>,\n",
       " <gurobi.Var G_1_2 (value 0.0)>,\n",
       " <gurobi.Var q_1_0_0 (value 1.002914900257009)>,\n",
       " <gurobi.Var q_1_0_1 (value 0.23084152868150198)>,\n",
       " <gurobi.Var q_1_0_2 (value 1.3348624821081447)>,\n",
       " <gurobi.Var q_1_2_0 (value 2.3234508433812193)>,\n",
       " <gurobi.Var q_1_2_1 (value 2.1151584575230613)>,\n",
       " <gurobi.Var q_1_2_2 (value 1.9566424983339816)>,\n",
       " <gurobi.Var eta_1 (value 12.919343509672407)>,\n",
       " <gurobi.Var W_1_0 (value 0.0)>,\n",
       " <gurobi.Var W_1_1 (value 0.0)>,\n",
       " <gurobi.Var W_1_2 (value 0.0)>,\n",
       " <gurobi.Var J_1_0 (value 0.0)>,\n",
       " <gurobi.Var J_1_1 (value 0.0)>,\n",
       " <gurobi.Var J_1_2 (value 0.0)>,\n",
       " <gurobi.Var u_1_0 (value 3.215428663017675e-08)>,\n",
       " <gurobi.Var u_1_1 (value 1.505830524773791e-07)>,\n",
       " <gurobi.Var u_1_2 (value 3.805299905919921e-08)>,\n",
       " <gurobi.Var D_2_0 (value 3.0308335879612695e-09)>,\n",
       " <gurobi.Var D_2_1 (value -1.1215008410571518e-09)>,\n",
       " <gurobi.Var D_2_2 (value 2.5089117885375592e-08)>,\n",
       " <gurobi.Var G_2_0 (value 0.0)>,\n",
       " <gurobi.Var G_2_1 (value 0.0)>,\n",
       " <gurobi.Var G_2_2 (value 0.0)>,\n",
       " <gurobi.Var q_2_1_0 (value -2.323450833394052)>,\n",
       " <gurobi.Var q_2_1_1 (value -2.115158447537977)>,\n",
       " <gurobi.Var q_2_1_2 (value -1.9566424883466196)>,\n",
       " <gurobi.Var eta_2 (value -0.013037605007396024)>,\n",
       " <gurobi.Var W_2_0 (value 0.0)>,\n",
       " <gurobi.Var W_2_1 (value 0.0)>,\n",
       " <gurobi.Var W_2_2 (value 0.0)>,\n",
       " <gurobi.Var J_2_0 (value 0.0)>,\n",
       " <gurobi.Var J_2_1 (value 0.0)>,\n",
       " <gurobi.Var J_2_2 (value 0.0)>,\n",
       " <gurobi.Var u_2_0 (value 1.207238810260991)>,\n",
       " <gurobi.Var u_2_1 (value 3.234896541536521e-08)>,\n",
       " <gurobi.Var u_2_2 (value 3.7044961617493864e-08)>]"
      ]
     },
     "execution_count": 104,
     "metadata": {},
     "output_type": "execute_result"
    }
   ],
   "source": [
    "model_1.getVars()"
   ]
  },
  {
   "cell_type": "code",
   "execution_count": 96,
   "metadata": {},
   "outputs": [],
   "source": [
    "def gurobi_model(agents, model, alpha, gamma):\n",
    "    qExpr_G = gp.QuadExpr()\n",
    "    qExpr_D = gp.QuadExpr()\n",
    "    lExpr_q = gp.LinExpr()\n",
    "    lExpr_W = gp.LinExpr()\n",
    "    lExpr_J = gp.LinExpr()\n",
    "    lExpr_u = gp.LinExpr()\n",
    "    lExpr_obj = gp.LinExpr()\n",
    "\n",
    "    for agent in agents:\n",
    "        eta = model.addVar(lb = - float('inf'),\n",
    "                        ub = float('inf'),\n",
    "                        vtype = gp.GRB.CONTINUOUS,\n",
    "                        name = f'eta_{agent.id}')\n",
    "\n",
    "        for proba in agent.probabilities_ind:\n",
    "            G = model.addVar(lb = agent.G_min, \n",
    "                            ub = agent.G_max, \n",
    "                            vtype=gp.GRB.CONTINUOUS, \n",
    "                            name = f'G_{agent.id}_{proba}')\n",
    "\n",
    "            qExpr_G.add(agent.a * G * G + agent.b * G + agent.d)\n",
    "\n",
    "            D = model.addVar(lb = agent.D_min,\n",
    "                            ub = agent.D_max,\n",
    "                            vtype = gp.GRB.CONTINUOUS,\n",
    "                            name = f'D_{agent.id}_{proba}')\n",
    "\n",
    "            qExpr_D.add(agent.a_tilde * (D - agent.D_target[proba]) * (D - agent.D_target[proba]) + agent.b_tilde)\n",
    "\n",
    "            W = model.addVar(lb = -5,\n",
    "                        ub = 5,\n",
    "                        vtype = gp.GRB.CONTINUOUS,\n",
    "                        name = f'W_{agent.id}_{proba}')\n",
    "        \n",
    "            lExpr_W.add(W * gamma[proba])\n",
    "\n",
    "            J = model.addVar(lb = 0.0,\n",
    "                        ub = agent.j_max,\n",
    "                        vtype = gp.GRB.CONTINUOUS,\n",
    "                        name = f'J_{agent.id}_{proba}')\n",
    "\n",
    "            lExpr_J.add(J * alpha[agent.id][proba])\n",
    "\n",
    "            sum_q = gp.LinExpr()\n",
    "            for player in agents:\n",
    "                q = (\n",
    "                    model.addVar(lb = - agent.kappa[player.id],\n",
    "                                ub = agent.kappa[player.id],\n",
    "                                vtype = gp.GRB.CONTINUOUS,\n",
    "                                name = f'q_{agent.id}_{player.id}_{proba}') if agent.connections[player.id] \n",
    "                    else \n",
    "                        model.addVar(lb = 0,\n",
    "                                ub = 0,\n",
    "                                vtype = gp.GRB.CONTINUOUS,\n",
    "                                name = f'q_{agent.id}_{player.id}_{proba}')\n",
    "                    )\n",
    "\n",
    "                lExpr_q.add(agent.trading_cost[player.id] * q)\n",
    "                sum_q.add(q)\n",
    "\n",
    "            model.addConstr(D == G + agent.G_res[proba] + sum_q, \n",
    "                            name= f'SD balance for agent {agent.id} proba {proba}')\n",
    "\n",
    "            u = model.addVar(lb = 0,\n",
    "                            ub = float('inf'),\n",
    "                            vtype = gp.GRB.CONTINUOUS,\n",
    "                            name = f'u_{agent.id}_{proba}')\n",
    "\n",
    "            lExpr_u.add(u * agent.probabilities[proba] / (1 - agent.risk_aversion))\n",
    "\n",
    "            lExpr_obj.add(lExpr_J + lExpr_W + lExpr_u)\n",
    "\n",
    "            model.addConstr(qExpr_G + qExpr_D + lExpr_q - eta - u <= 0, \n",
    "                            name=f'Residual constraint for agent {agent.id} proba {proba}')\n",
    "\n",
    "        lExpr_obj.add(eta)\n",
    "\n",
    "    model.setObjective(lExpr_obj, gp.GRB.MINIMIZE)\n",
    "    model.update()\n"
   ]
  },
  {
   "cell_type": "code",
   "execution_count": 97,
   "metadata": {},
   "outputs": [],
   "source": [
    "def gurobi_bilateral_trading(agents, model):\n",
    "    for agent in agents:\n",
    "        for agent_2 in agents:\n",
    "            if agent.connections[agent_2.id]:\n",
    "                for proba in agent.probabilities_ind:\n",
    "\n",
    "                    model.addConstr(model.getVarByName(f'q_{agent.id}_{agent_2.id}_{proba}')  \n",
    "                                    + model.getVarByName(f'q_{agent_2.id}_{agent.id}_{proba}') == 0, \n",
    "                                    name = f'Bilateral trading for pair ({agent.id}, {agent_2.id}) proba {proba}')\n",
    "\n",
    "    model.update()"
   ]
  },
  {
   "cell_type": "code",
   "execution_count": 98,
   "metadata": {},
   "outputs": [],
   "source": [
    "def risk_trading_constraint(agents, model, probabilities):\n",
    "    risk_sum = gp.LinExpr()\n",
    "    for proba, _ in enumerate(probabilities):\n",
    "        for agent in agents:\n",
    "                risk_sum.add(model.getVarByName(f'W_{agent.id}_{proba}'))\n",
    "\n",
    "        model.addConstr(risk_sum == 0, name= 'Risk trading balance')\n",
    "\n",
    "    model.update()"
   ]
  },
  {
   "cell_type": "code",
   "execution_count": 99,
   "metadata": {},
   "outputs": [],
   "source": [
    "model_2 = gp.Model()\n",
    "gurobi_model(agents, model_2, alpha=alpha, gamma=gamma)\n",
    "gurobi_bilateral_trading(agents, model_2)\n",
    "risk_trading_constraint(agents, model_2, probabilities)"
   ]
  },
  {
   "cell_type": "code",
   "execution_count": 100,
   "metadata": {},
   "outputs": [
    {
     "data": {
      "text/plain": [
       "[<gurobi.Constr SD balance for agent 0 proba 0>,\n",
       " <gurobi.Constr SD balance for agent 0 proba 1>,\n",
       " <gurobi.Constr SD balance for agent 0 proba 2>,\n",
       " <gurobi.Constr SD balance for agent 1 proba 0>,\n",
       " <gurobi.Constr SD balance for agent 1 proba 1>,\n",
       " <gurobi.Constr SD balance for agent 1 proba 2>,\n",
       " <gurobi.Constr SD balance for agent 2 proba 0>,\n",
       " <gurobi.Constr SD balance for agent 2 proba 1>,\n",
       " <gurobi.Constr SD balance for agent 2 proba 2>,\n",
       " <gurobi.Constr Bilateral trading for pair (0, 1) proba 0>,\n",
       " <gurobi.Constr Bilateral trading for pair (0, 1) proba 1>,\n",
       " <gurobi.Constr Bilateral trading for pair (0, 1) proba 2>,\n",
       " <gurobi.Constr Bilateral trading for pair (0, 2) proba 0>,\n",
       " <gurobi.Constr Bilateral trading for pair (0, 2) proba 1>,\n",
       " <gurobi.Constr Bilateral trading for pair (0, 2) proba 2>,\n",
       " <gurobi.Constr Bilateral trading for pair (1, 0) proba 0>,\n",
       " <gurobi.Constr Bilateral trading for pair (1, 0) proba 1>,\n",
       " <gurobi.Constr Bilateral trading for pair (1, 0) proba 2>,\n",
       " <gurobi.Constr Bilateral trading for pair (1, 2) proba 0>,\n",
       " <gurobi.Constr Bilateral trading for pair (1, 2) proba 1>,\n",
       " <gurobi.Constr Bilateral trading for pair (1, 2) proba 2>,\n",
       " <gurobi.Constr Bilateral trading for pair (2, 0) proba 0>,\n",
       " <gurobi.Constr Bilateral trading for pair (2, 0) proba 1>,\n",
       " <gurobi.Constr Bilateral trading for pair (2, 0) proba 2>,\n",
       " <gurobi.Constr Bilateral trading for pair (2, 1) proba 0>,\n",
       " <gurobi.Constr Bilateral trading for pair (2, 1) proba 1>,\n",
       " <gurobi.Constr Bilateral trading for pair (2, 1) proba 2>,\n",
       " <gurobi.Constr Risk trading balance>,\n",
       " <gurobi.Constr Risk trading balance>,\n",
       " <gurobi.Constr Risk trading balance>]"
      ]
     },
     "execution_count": 100,
     "metadata": {},
     "output_type": "execute_result"
    }
   ],
   "source": [
    "model_2.getConstrs()"
   ]
  },
  {
   "cell_type": "code",
   "execution_count": null,
   "metadata": {},
   "outputs": [],
   "source": [
    "model_1.getVarByName('W_0_2')"
   ]
  },
  {
   "cell_type": "markdown",
   "metadata": {},
   "source": [
    "## AMPL"
   ]
  },
  {
   "cell_type": "code",
   "execution_count": 183,
   "metadata": {},
   "outputs": [],
   "source": [
    "from amplpy import AMPL, Environment, DataFrame\n",
    "\n",
    "ampl = AMPL(Environment('/Users/ishilov/Documents/ampl.macos64'))\n",
    "\n",
    "ampl.read('/Users/ishilov/Documents/risk_paper/risk_paper/ampl/3_nodes_centr_risk.mod')\n",
    "ampl.readData('/Users/ishilov/Documents/risk_paper/risk_paper/ampl/3_nodes_centr_risk.dat')\n"
   ]
  },
  {
   "cell_type": "code",
   "execution_count": 184,
   "metadata": {},
   "outputs": [],
   "source": [
    "nodes = ['n_0', 'n_1', 'n_2']"
   ]
  },
  {
   "cell_type": "code",
   "execution_count": 185,
   "metadata": {},
   "outputs": [],
   "source": [
    "Cost_dict = {}\n",
    "for i in range(community_size):\n",
    "    for j in range(community_size):\n",
    "        Cost_dict.update({(nodes[i],nodes[j]):Cost[i][j]})\n",
    "\n",
    "Kappa_dict = {}\n",
    "for i in range(community_size):\n",
    "    for j in range(community_size):\n",
    "        Kappa_dict.update({(nodes[i],nodes[j]):Kappa[i][j]})"
   ]
  },
  {
   "cell_type": "code",
   "execution_count": 186,
   "metadata": {},
   "outputs": [],
   "source": [
    "d_target_dict = {}\n",
    "g_res_dict = {}\n",
    "alpha_dict = {}\n",
    "for i in range(community_size):\n",
    "    for j in range(len(probabilities)):\n",
    "        d_target_dict.update({('n_{}'.format(i), 'p_{}'.format(j)): d_target[i][j]})\n",
    "        g_res_dict.update({('n_{}'.format(i), 'p_{}'.format(j)): g_res[i][j]})\n",
    "        alpha_dict.update({('n_{}'.format(i), 'p_{}'.format(j)): alpha[i][j]})"
   ]
  },
  {
   "cell_type": "code",
   "execution_count": 187,
   "metadata": {},
   "outputs": [
    {
     "name": "stdout",
     "output_type": "stream",
     "text": [
      "[8.716637297981197, 8.716637297981197, 8.716637297981197]\n",
      "[8.127341667060136, 8.127341667060136, 8.127341667060136]\n",
      "[0.9381766573948582, 0.9381766573948582, 0.9381766573948582]\n"
     ]
    }
   ],
   "source": [
    "for agent in agents:\n",
    "    print(agent.alpha)"
   ]
  },
  {
   "cell_type": "code",
   "execution_count": 188,
   "metadata": {},
   "outputs": [
    {
     "data": {
      "text/plain": [
       "{('n_0', 'p_0'): 8.716637297981197,\n",
       " ('n_0', 'p_1'): 8.716637297981197,\n",
       " ('n_0', 'p_2'): 8.716637297981197,\n",
       " ('n_1', 'p_0'): 8.127341667060136,\n",
       " ('n_1', 'p_1'): 8.127341667060136,\n",
       " ('n_1', 'p_2'): 8.127341667060136,\n",
       " ('n_2', 'p_0'): 0.9381766573948582,\n",
       " ('n_2', 'p_1'): 0.9381766573948582,\n",
       " ('n_2', 'p_2'): 0.9381766573948582}"
      ]
     },
     "execution_count": 188,
     "metadata": {},
     "output_type": "execute_result"
    }
   ],
   "source": [
    "alpha_dict"
   ]
  },
  {
   "cell_type": "code",
   "execution_count": 189,
   "metadata": {},
   "outputs": [],
   "source": [
    "p_dict = {}\n",
    "for j in range(len(probabilities)):\n",
    "    p_dict.update({'p_{}'.format(j) : probabilities[j]})"
   ]
  },
  {
   "cell_type": "code",
   "execution_count": 190,
   "metadata": {},
   "outputs": [
    {
     "name": "stdout",
     "output_type": "stream",
     "text": [
      "MINOS 5.51: optimal solution found.\n",
      "168 iterations, objective 7.945591432\n",
      "Nonlin evals: constrs = 366, Jac = 365.\n"
     ]
    }
   ],
   "source": [
    "if community_size == 3:\n",
    "\n",
    "    ampl.getParameter('a').setValues(a)\n",
    "    ampl.getParameter('b').setValues(b)\n",
    "    ampl.getParameter('d').setValues(d)\n",
    "    ampl.getParameter('a_t').setValues(A_tilde)\n",
    "    ampl.getParameter('b_t').setValues(B_tilde)\n",
    "\n",
    "    ampl.getParameter('gamma').setValues(gamma)\n",
    "    ampl.getParameter('alpha').setValues(alpha_dict)\n",
    "    ampl.getParameter('J_max').setValues(j_max)\n",
    "\n",
    "    ampl.getParameter('D_max').setValues(D_max)\n",
    "    ampl.getParameter('G_max').setValues(G_max)\n",
    "    ampl.getParameter('D_min').setValues(D_min)\n",
    "    ampl.getParameter('G_min').setValues(G_min)\n",
    "\n",
    "    ampl.getParameter('chi').setValues(risk_aversion)\n",
    "    \n",
    "    ampl.getParameter('cost').setValues(Cost_dict)\n",
    "\n",
    "    ampl.getParameter('kappa').setValues(Kappa_dict)\n",
    "    \n",
    "    ampl.getParameter('p').setValues(p_dict)\n",
    "                \n",
    "    ampl.getParameter('D_t').setValues(d_target_dict)\n",
    "    ampl.getParameter('G_d').setValues(g_res_dict)\n",
    "    \n",
    "    # Solve\n",
    "    ampl.setOption('solver', 'MINOS')\n",
    "    ampl.solve()"
   ]
  },
  {
   "cell_type": "code",
   "execution_count": 191,
   "metadata": {},
   "outputs": [],
   "source": [
    "if community_size ==3:\n",
    "    g = ampl.getVariable('G').getValues().toDict()\n",
    "    d = ampl.getVariable('D').getValues().toDict()\n",
    "    u = ampl.getVariable('u').getValues().toDict()\n",
    "    eta = ampl.getVariable('eta').getValues().toDict()\n",
    "    q = ampl.getVariable('quant').getValues().toDict()\n",
    "    Q = ampl.getVariable('Q').getValues().toDict()\n",
    "    j = ampl.getVariable('J').getValues().toDict()\n",
    "    w = ampl.getVariable('W').getValues().toDict()\n"
   ]
  },
  {
   "cell_type": "code",
   "execution_count": 192,
   "metadata": {},
   "outputs": [
    {
     "name": "stdout",
     "output_type": "stream",
     "text": [
      "quant :=\n",
      "n_0 n_1 p_0    2.89132\n",
      "n_0 n_1 p_1    2.05948\n",
      "n_0 n_1 p_2    2.35859\n",
      "n_0 n_2 p_0   -5.93566\n",
      "n_0 n_2 p_1   -2.22921\n",
      "n_0 n_2 p_2   -6.75393\n",
      "n_1 n_0 p_0   -2.89132\n",
      "n_1 n_0 p_1   -2.05948\n",
      "n_1 n_0 p_2   -2.35859\n",
      "n_1 n_2 p_0    5\n",
      "n_1 n_2 p_1    2.26107\n",
      "n_1 n_2 p_2    5\n",
      "n_2 n_0 p_0    5.93566\n",
      "n_2 n_0 p_1    2.22921\n",
      "n_2 n_0 p_2    6.75393\n",
      "n_2 n_1 p_0   -5\n",
      "n_2 n_1 p_1   -2.26107\n",
      "n_2 n_1 p_2   -5\n",
      ";\n",
      "\n"
     ]
    }
   ],
   "source": [
    "ampl.display('quant')"
   ]
  },
  {
   "cell_type": "code",
   "execution_count": null,
   "metadata": {},
   "outputs": [],
   "source": []
  },
  {
   "cell_type": "code",
   "execution_count": null,
   "metadata": {},
   "outputs": [],
   "source": [
    "w"
   ]
  },
  {
   "cell_type": "code",
   "execution_count": null,
   "metadata": {},
   "outputs": [],
   "source": [
    "def assign_ampl(d, g, eta, u, q, w, J, agents):\n",
    "    \"\"\"Assigns the solution from AMPL to agents\"\"\"\n",
    "\n",
    "    for i in range(community_size):\n",
    "        id = 'n_{}'.format(i)\n",
    "\n",
    "        for j in range(len(probabilities)):\n",
    "            proba = 'p_{}'.format(j)\n",
    "            agents[i].D[j] = d[(id, proba)]\n",
    "\n",
    "    for i in range(community_size):\n",
    "        id = 'n_{}'.format(i)\n",
    "\n",
    "        for j in range(len(probabilities)):\n",
    "            proba = 'p_{}'.format(j)\n",
    "            agents[i].w[j] = w[(id, proba)]\n",
    "\n",
    "    for i in range(community_size):\n",
    "        id = 'n_{}'.format(i)\n",
    "\n",
    "    for j in range(len(probabilities)):\n",
    "        proba = 'p_{}'.format(j)\n",
    "        agents[i].j[j] = J[(id, proba)]\n",
    "\n",
    "    for i in range(community_size):\n",
    "        id = 'n_{}'.format(i)\n",
    "\n",
    "    for j in range(len(probabilities)):\n",
    "        proba = 'p_{}'.format(j)\n",
    "        agents[i].G[j] = g[(id, proba)]\n",
    "\n",
    "    for i in range(community_size):\n",
    "        id = 'n_{}'.format(i)\n",
    "\n",
    "        for j in range(len(probabilities)):\n",
    "            proba = 'p_{}'.format(j)\n",
    "            agents[i].u[j] = u[(id, proba)]\n",
    "\n",
    "    for i in range(community_size):\n",
    "        id = 'n_{}'.format(i)\n",
    "\n",
    "        agents[i].eta = eta[id]\n",
    "\n",
    "    for i in range(community_size):\n",
    "        id_1 = 'n_{}'.format(i)\n",
    "\n",
    "        for j in range(community_size):\n",
    "            id_2 = 'n_{}'.format(j)\n",
    "\n",
    "            for k in range(len(probabilities)):\n",
    "                proba = 'p_{}'.format(k)\n",
    "\n",
    "                agents[i].q[j][k] = q[(id_1, id_2, proba)]"
   ]
  },
  {
   "cell_type": "code",
   "execution_count": null,
   "metadata": {},
   "outputs": [],
   "source": [
    "assign_ampl(d, g, eta, u, q, w, j, agents)"
   ]
  },
  {
   "cell_type": "markdown",
   "metadata": {},
   "source": [
    "## Gradient"
   ]
  },
  {
   "cell_type": "code",
   "execution_count": null,
   "metadata": {},
   "outputs": [],
   "source": [
    "Player.probabilities"
   ]
  },
  {
   "cell_type": "code",
   "execution_count": null,
   "metadata": {},
   "outputs": [],
   "source": [
    "agents[0].__dict__"
   ]
  },
  {
   "cell_type": "code",
   "execution_count": null,
   "metadata": {},
   "outputs": [],
   "source": [
    "for i in range(community_size):\n",
    "    print('Utility update:')\n",
    "    print(StackelbergGradientComputation.utility_grad(agents[i]))\n",
    "    print('-------')\n",
    "    print('D_min bound')\n",
    "    print(StackelbergGradientComputation.penalty_dmin(agents[i]))\n",
    "    print('-------')\n",
    "    print('D_max bound')\n",
    "    print(StackelbergGradientComputation.penalty_dmax(agents[i]))\n",
    "    print('-------')\n",
    "    print('G_min bound')\n",
    "    print(StackelbergGradientComputation.penalty_gmin(agents[i]))\n",
    "    print('-------')\n",
    "    print('G_max bound')\n",
    "    print(StackelbergGradientComputation.penalty_gmax(agents[i]))\n",
    "    print('-------')\n",
    "    print('Penalty supply-demand balance bound')\n",
    "    print(StackelbergGradientComputation.penalty_balance(agents[i]))\n",
    "    print('-------')\n",
    "    print('U bound')\n",
    "    print(StackelbergGradientComputation.penalty_u(agents[i]))\n",
    "    print('-------')\n",
    "    print('Penalty trading bound')\n",
    "    print(StackelbergGradientComputation.penalty_trading_bound(agents[i]))\n",
    "    print('-------')\n",
    "    print('Bilateral trading bound')\n",
    "    print(StackelbergGradientComputation.penalty_bilateral_trading(agents[i], agents))\n",
    "    print('-------')\n",
    "    print('Penalty residual bound')\n",
    "    print(StackelbergGradientComputation.penalty_residual(agents[i]))\n",
    "    print('----------------------------------------------')"
   ]
  },
  {
   "cell_type": "code",
   "execution_count": null,
   "metadata": {},
   "outputs": [],
   "source": [
    "mu = 0.003\n",
    "rho = 2000\n",
    "k = 0\n",
    "\n",
    "plot_penalty_residual = [[[] for j in range(len(probabilities))] for i in range(community_size)]\n",
    "plot_balance = [[[] for j in range(len(probabilities))] for i in range(community_size)]\n",
    "\n",
    "min_ra = min(risk_aversion)\n",
    "while k <= 1000:\n",
    "    #print(k)\n",
    "    #print('--------------------------')\n",
    "    for agent in agents:\n",
    "        #Update of grad_d of the agent\n",
    "\n",
    "        agent.grad_D = rho*(StackelbergGradientComputation.penalty_dmin(agent) \n",
    "                            + StackelbergGradientComputation.penalty_dmax(agent)\n",
    "                            + StackelbergGradientComputation.penalty_balance(agent)['update_d']\n",
    "                            + StackelbergGradientComputation.stackelberg_penalty_residual(agent)['update_d'])\n",
    "\n",
    "        agent.grad_G = rho*(StackelbergGradientComputation.penalty_gmin(agent) \n",
    "                            + StackelbergGradientComputation.penalty_gmax(agent)\n",
    "                            + StackelbergGradientComputation.penalty_balance(agent)['update_g']\n",
    "                            + StackelbergGradientComputation.stackelberg_penalty_residual(agent)['update_g'])\n",
    "\n",
    "        agent.grad_eta = (StackelbergGradientComputation.risk_utility_grad(agent, min_ra)['update_eta']\n",
    "                            + rho*StackelbergGradientComputation.stackelberg_penalty_residual(agent)['update_eta'])\n",
    "\n",
    "        agent.grad_u = (StackelbergGradientComputation.risk_utility_grad(agent, min_ra)['update_u']\n",
    "                            + rho*StackelbergGradientComputation.stackelberg_penalty_residual(agent)['update_u']\n",
    "                            + rho*StackelbergGradientComputation.penalty_u(agent))\n",
    "\n",
    "\n",
    "\n",
    "        agent.grad_q = rho*(StackelbergGradientComputation.penalty_trading_bound(agent)\n",
    "                            + StackelbergGradientComputation.stackelberg_penalty_residual(agent)['update_q']\n",
    "                            + StackelbergGradientComputation.penalty_balance(agent)['update_q']\n",
    "                            + StackelbergGradientComputation.penalty_bilateral_trading(agent, agents))\n",
    "\n",
    "        agent.grad_w = (StackelbergGradientComputation.risk_utility_grad(agent, min_ra)['update_w']\n",
    "                            + rho * StackelbergGradientComputation.stackelberg_penalty_residual(agent)['update_w']\n",
    "                            + rho * StackelbergGradientComputation.penalty_risk_balance(agents))\n",
    "\n",
    "        agent.grad_j = (StackelbergGradientComputation.risk_utility_grad(agent, min_ra)['update_j']\n",
    "                            + rho * StackelbergGradientComputation.stackelberg_penalty_residual(agent)['update_j']\n",
    "                            + rho * StackelbergGradientComputation.penalty_jmin(agent)\n",
    "                            + rho * StackelbergGradientComputation.penalty_jmax(agent))\n",
    "        \n",
    "\n",
    "        #print('Agent {} variables'.format(agent.id))\n",
    "        #print(agent.variables_to_vector())\n",
    "        #print('--------------------------------')\n",
    "\n",
    "    #Agent's variables update\n",
    "    for agent in agents:\n",
    "\n",
    "        N = k+1000\n",
    "\n",
    "        agent.D = agent.D - mu/(N)*agent.grad_D\n",
    "        agent.G = agent.G - mu/(N)*agent.grad_G\n",
    "        agent.eta = agent.eta - mu/(N)*agent.grad_eta\n",
    "        agent.u = agent.u - mu/(N)*agent.grad_u\n",
    "        agent.q = agent.q - mu/(N)*agent.grad_q\n",
    "        agent.w = agent.w - mu/(N)*agent.grad_w\n",
    "        agent.j = agent.j - mu/(N)*agent.grad_j\n",
    "\n",
    "        agent.plot_eta.append(agent.eta)\n",
    "\n",
    "        for i in range(len(probabilities)):\n",
    "            agent.plot_d[i].append(agent.D[i])\n",
    "            agent.plot_g[i].append(agent.G[i])\n",
    "            agent.plot_u[i].append(agent.u[i])\n",
    "            agent.plot_w[i].append(agent.w[i])\n",
    "            agent.plot_j[i].append(agent.j[i])\n",
    "\n",
    "            plot_penalty_residual[agent.id][i].append(StackelbergGradientComputation.stackelberg_penalty_residual(agent)['violation'])\n",
    "            plot_balance[agent.id][i].append(StackelbergGradientComputation.penalty_balance(agent)['violation'])\n",
    "\n",
    "            for agent_2 in agents:\n",
    "                agent.plot_q[agent_2.id][i].append(agent.q[agent_2.id][i])\n",
    "    \n",
    "    \n",
    "\n",
    "    k +=1"
   ]
  },
  {
   "cell_type": "code",
   "execution_count": null,
   "metadata": {},
   "outputs": [],
   "source": [
    "for agent in agents:\n",
    "    for i in range(len(probabilities)):\n",
    "        plt.plot(agent.plot_d[i])\n",
    "    \n",
    "    plt.show()"
   ]
  },
  {
   "cell_type": "code",
   "execution_count": null,
   "metadata": {},
   "outputs": [],
   "source": [
    "for agent in agents:\n",
    "    for i in range(len(probabilities)):\n",
    "        plt.plot(agent.plot_w[i])\n",
    "    \n",
    "    plt.show()"
   ]
  },
  {
   "cell_type": "code",
   "execution_count": null,
   "metadata": {},
   "outputs": [],
   "source": [
    "for agent in agents:\n",
    "    for i in range(len(probabilities)):\n",
    "        plt.plot(agent.plot_j[i])\n",
    "    \n",
    "    plt.show()"
   ]
  },
  {
   "cell_type": "code",
   "execution_count": null,
   "metadata": {},
   "outputs": [],
   "source": [
    "for agent in agents:\n",
    "    for i in range(len(probabilities)):\n",
    "        plt.plot(plot_penalty_residual[agent.id][i])\n",
    "    \n",
    "    plt.show()\n"
   ]
  },
  {
   "cell_type": "code",
   "execution_count": null,
   "metadata": {},
   "outputs": [],
   "source": [
    "for agent in agents:\n",
    "    for i in range(len(probabilities)):\n",
    "        plt.plot(plot_balance[agent.id][i])\n",
    "    \n",
    "    plt.show()"
   ]
  },
  {
   "cell_type": "code",
   "execution_count": null,
   "metadata": {},
   "outputs": [],
   "source": []
  }
 ],
 "metadata": {
  "interpreter": {
   "hash": "b0fa6594d8f4cbf19f97940f81e996739fb7646882a419484c72d19e05852a7e"
  },
  "kernelspec": {
   "display_name": "Python 3.9.10 64-bit",
   "language": "python",
   "name": "python3"
  },
  "language_info": {
   "codemirror_mode": {
    "name": "ipython",
    "version": 3
   },
   "file_extension": ".py",
   "mimetype": "text/x-python",
   "name": "python",
   "nbconvert_exporter": "python",
   "pygments_lexer": "ipython3",
   "version": "3.9.10"
  },
  "orig_nbformat": 4
 },
 "nbformat": 4,
 "nbformat_minor": 2
}
