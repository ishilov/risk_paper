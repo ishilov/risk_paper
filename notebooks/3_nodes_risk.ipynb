import pandas as pd
import numpy as np
import random
import scipy.optimize as scopt

import matplotlib.pyplot as plt

import seaborn as sns
sns.set()
