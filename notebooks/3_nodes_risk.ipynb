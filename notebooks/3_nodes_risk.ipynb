{
 "cells": [
  {
   "cell_type": "code",
   "execution_count": 1,
   "metadata": {},
   "outputs": [],
   "source": [
    "import pandas as pd\n",
    "import numpy as np\n",
    "import random\n",
    "import scipy.optimize as scopt\n",
    "\n",
    "import matplotlib.pyplot as plt\n",
    "\n",
    "import seaborn as sns\n",
    "sns.set()"
   ]
  },
  {
   "cell_type": "code",
   "execution_count": 2,
   "metadata": {},
   "outputs": [],
   "source": [
    "from supplement_package.game.gradient import GradientComputation\n",
    "from supplement_package.game.player import Player\n",
    "from supplement_package.game.stackelberg import StackelbergPlayer\n",
    "from supplement_package.game.stackelberg import StackelbergGradientComputation"
   ]
  },
  {
   "cell_type": "code",
   "execution_count": 3,
   "metadata": {},
   "outputs": [
    {
     "data": {
      "text/plain": [
       "mappingproxy({'__module__': 'supplement_package.game.stackelberg',\n",
       "              '__init__': <function supplement_package.game.stackelberg.StackelbergGradientComputation.__init__(self) -> None>,\n",
       "              'risk_utility_grad': <staticmethod at 0x145c1aeb0>,\n",
       "              'stackelberg_penalty_residual': <staticmethod at 0x145c1aee0>,\n",
       "              'penalty_jmin': <staticmethod at 0x145c1af10>,\n",
       "              'penalty_jmax': <staticmethod at 0x145c1af40>,\n",
       "              'penalty_risk_balance': <staticmethod at 0x145c1af70>,\n",
       "              '__doc__': None})"
      ]
     },
     "execution_count": 3,
     "metadata": {},
     "output_type": "execute_result"
    }
   ],
   "source": [
    "StackelbergGradientComputation.__dict__"
   ]
  },
  {
   "cell_type": "code",
   "execution_count": 4,
   "metadata": {},
   "outputs": [],
   "source": [
    "community_size = 3\n",
    "variant = 1\n",
    "simple_test = False"
   ]
  },
  {
   "cell_type": "code",
   "execution_count": 5,
   "metadata": {},
   "outputs": [],
   "source": [
    "if variant == 1:\n",
    "    D_min = [0.0,0.0,0.0]\n",
    "    D_max = [10.0,10.0,10.0]\n",
    "\n",
    "    G_min = [0.0,0.0,0.0]\n",
    "    G_max = [10.0,0.0,0.0]\n",
    "    \n",
    "    Kappa = [[0.0, 10.0, 10.0],\n",
    "             [10.0, 0.0, 5.0],\n",
    "             [10.0, 5.0, 0.0]]\n",
    "    \n",
    "    Cost = [[0.0, 1.0, 1.0],\n",
    "            [3.0, 0.0, 1.0],\n",
    "            [2.0, 1.0, 0.0]]\n",
    "    \n",
    "    probabilities = [0.333, 0.333, 0.333]\n",
    "\n",
    "    #probabilities = [1]\n",
    "    connection_matrix = [[0,1,1],[1,0,1],[1,1,0]]"
   ]
  },
  {
   "cell_type": "code",
   "execution_count": 6,
   "metadata": {},
   "outputs": [],
   "source": [
    "if variant == 2:\n",
    "    D_min = [0.0,0.0,0.0]\n",
    "    D_max = [0.0,0.0,0.0]\n",
    "\n",
    "    G_min = [0.0,0.0,0.0]\n",
    "    G_max = [0.0,0.0,0.0]\n",
    "    \n",
    "    Kappa = [[0.0,0.0,0.0],\n",
    "             [0.0,0.0,0.0],\n",
    "             [0.0,0.0,0.0]]\n",
    "    \n",
    "    Cost = [[0.0, 1.0, 1.0],\n",
    "            [3.0, 0.0, 1.0],\n",
    "            [2.0, 1.0, 0.0]]\n",
    "    \n",
    "    probabilities = [0.333, 0.333, 0.333]\n",
    "\n",
    "    #probabilities = [1]\n",
    "    connection_matrix = [[0,1,1],[1,0,1],[1,1,0]]"
   ]
  },
  {
   "cell_type": "code",
   "execution_count": 7,
   "metadata": {},
   "outputs": [],
   "source": [
    "A_tilde = [random.uniform(0,1) for i in range(community_size)]\n",
    "B_tilde = [random.uniform(0,1) for i in range(community_size)]\n",
    "\n",
    "a = [random.uniform(0,1) for i in range(community_size)]\n",
    "b = [random.uniform(0,1) for i in range(community_size)]\n",
    "d = [random.uniform(0,1) for i in range(community_size)]\n",
    "\n",
    "d_target = [[random.uniform(0,8) for j in range(len(probabilities))] for i in range(community_size)]\n",
    "g_res = [[random.uniform(0,3) for j in range(len(probabilities))] for i in range(community_size)]\n",
    "\n",
    "g_res = np.array(g_res)\n",
    "d_target = np.array(d_target)\n",
    "\n",
    "risk_aversion = [random.uniform(0,1) for i in range(community_size)]"
   ]
  },
  {
   "cell_type": "code",
   "execution_count": 8,
   "metadata": {},
   "outputs": [],
   "source": [
    "A_tilde = [0.36030143572119644, 0.8194188912652529, 0.7073792742889289]\n",
    "B_tilde = [0.43213666201039447, 0.3942880799602334, 0.8721268085292664]\n",
    "\n",
    "a = [0.5353027996733363, 0.2743886024182589, 0.6880650530486562]\n",
    "b = [0.048638223979889705, 0.18135310781459213, 0.0550926893600856]\n",
    "d = [0.25656978557764465, 0.27860408681196946, 0.23100499807342023]\n",
    "\n",
    "#d_target = [[2.1263784908116197], [6.103873263111134], [4.110550414075242]]\n",
    "#g_res = [[0.5151806223322815], [0.7797232173334425], [1.4297130854390094]]\n",
    "risk_aversion = [0.06910997716902567, 0.7617642865089619, 0.9838119468874024]"
   ]
  },
  {
   "cell_type": "code",
   "execution_count": 9,
   "metadata": {},
   "outputs": [],
   "source": [
    "if simple_test == True:\n",
    "    #A_tilde = [1,2,3]\n",
    "    #B_tilde = [1,2,3]\n",
    "    A_tilde = [0,0,0]\n",
    "    B_tilde = [0,0,0]\n",
    "\n",
    "    #a = [1,2,3]\n",
    "    #b = [1,2,3]\n",
    "    #d = [1,2,3]\n",
    "    a = [0,0,0]\n",
    "    b = [0,0,0]\n",
    "    d = [0,0,0]\n",
    "\n",
    "    d_target = [[1], [2], [3]]\n",
    "    g_res = [[1], [2], [3]]\n",
    "    risk_aversion = [0.5, 0.5, 0.5]"
   ]
  },
  {
   "cell_type": "code",
   "execution_count": 10,
   "metadata": {},
   "outputs": [],
   "source": [
    "if variant == 2:\n",
    "    g_res = [[0.0,0.0,0.0] for i in range(community_size)]\n",
    "    d_target = [[0.0,0.0,0.0] for i in range(community_size)]"
   ]
  },
  {
   "cell_type": "code",
   "execution_count": 11,
   "metadata": {},
   "outputs": [],
   "source": [
    "agents = []\n",
    "StackelbergPlayer.community_size = community_size\n",
    "StackelbergPlayer.probabilities = probabilities\n",
    "\n",
    "epsilon = 0.001\n",
    "alpha = [[proba/(1 - risk_aversion[i]) for proba in probabilities] for i in range(community_size)]\n",
    "#alpha = [[0.2 for proba in probabilities] for i in range(community_size)]\n",
    "gamma = [proba/(1 - min(risk_aversion)) for proba in probabilities]\n",
    "\n",
    "j_max = [10 for i in range(community_size)]\n",
    "\n",
    "for i in range(community_size):\n",
    "    agent = StackelbergPlayer(i, d_target[i], g_res[i], a[i], b[i], d[i], \n",
    "                A_tilde[i], B_tilde[i], D_min[i], D_max[i], \n",
    "                G_min[i], G_max[i], risk_aversion[i], Kappa[i], Cost[i], connection_matrix[i],\n",
    "                probabilities = probabilities,\n",
    "                alpha = alpha[i], \n",
    "                gamma = gamma, \n",
    "                insurance_bound=j_max[i])\n",
    "    \n",
    "    agents.append(agent)"
   ]
  },
  {
   "cell_type": "code",
   "execution_count": 12,
   "metadata": {},
   "outputs": [
    {
     "data": {
      "text/plain": [
       "{'id': 0,\n",
       " 'D_target': array([1.3827677 , 0.08358222, 3.42654849]),\n",
       " 'G_res': array([2.89525613, 2.24829753, 0.50272594]),\n",
       " 'a': 0.5353027996733363,\n",
       " 'b': 0.048638223979889705,\n",
       " 'd': 0.25656978557764465,\n",
       " 'a_tilde': 0.36030143572119644,\n",
       " 'b_tilde': 0.43213666201039447,\n",
       " 'D_min': 0.0,\n",
       " 'D_max': 10.0,\n",
       " 'G_min': 0.0,\n",
       " 'G_max': 10.0,\n",
       " 'risk_aversion': 0.06910997716902567,\n",
       " 'probabilities': [0.333, 0.333, 0.333],\n",
       " 'probabilities_ind': [0, 1, 2],\n",
       " 'trading_cost': [0.0, 1.0, 1.0],\n",
       " 'connections': [0, 1, 1],\n",
       " 'kappa': array([ 0., 10., 10.]),\n",
       " 'G': array([0., 0., 0.]),\n",
       " 'D': array([0., 0., 0.]),\n",
       " 'eta': 0,\n",
       " 'u': array([0., 0., 0.]),\n",
       " 'q': array([[0., 0., 0.],\n",
       "        [0., 0., 0.],\n",
       "        [0., 0., 0.]]),\n",
       " 'grad_G': array([0., 0., 0.]),\n",
       " 'grad_D': array([0., 0., 0.]),\n",
       " 'grad_eta': 0,\n",
       " 'grad_u': array([0., 0., 0.]),\n",
       " 'grad_q': array([[0., 0., 0.],\n",
       "        [0., 0., 0.],\n",
       "        [0., 0., 0.]]),\n",
       " 'q_others': {},\n",
       " 'w_others': {},\n",
       " 'plot_d': [[], [], []],\n",
       " 'plot_g': [[], [], []],\n",
       " 'plot_u': [[], [], []],\n",
       " 'plot_eta': [],\n",
       " 'plot_q': [[[], [], []], [[], [], []], [[], [], []]],\n",
       " 'alpha': [0.3577221710759105, 0.3577221710759105, 0.3577221710759105],\n",
       " 'gamma': [0.3577221710759105, 0.3577221710759105, 0.3577221710759105],\n",
       " 'j_max': 10,\n",
       " 'j': array([0., 0., 0.]),\n",
       " 'w': array([0., 0., 0.]),\n",
       " 'grad_j': array([0., 0., 0.]),\n",
       " 'grad_w': array([0., 0., 0.]),\n",
       " 'plot_j': [[], [], []],\n",
       " 'plot_w': [[], [], []]}"
      ]
     },
     "execution_count": 12,
     "metadata": {},
     "output_type": "execute_result"
    }
   ],
   "source": [
    "agents[0].__dict__"
   ]
  },
  {
   "cell_type": "markdown",
   "metadata": {},
   "source": [
    "## Gurobi"
   ]
  },
  {
   "cell_type": "code",
   "execution_count": 13,
   "metadata": {},
   "outputs": [],
   "source": [
    "import gurobipy as gp\n",
    "from supplement_package.gurobi_implementation.gurobi import Gurobi\n",
    "from supplement_package.gurobi_implementation.gurobi import GurobiSolution\n",
    "from supplement_package.gurobi_implementation.gurobi import BRGS"
   ]
  },
  {
   "cell_type": "code",
   "execution_count": 14,
   "metadata": {},
   "outputs": [
    {
     "name": "stdout",
     "output_type": "stream",
     "text": [
      "Set parameter Username\n",
      "Academic license - for non-commercial use only - expires 2022-04-02\n",
      "Minimize\n",
      "<gurobi.LinExpr: eta_0 + 0.3577221710759105 W_0_0 + 0.3577221710759105 W_0_1\n",
      "+ 0.3577221710759105 W_0_2 + 0.3577221710759105 J_0_0 + 0.3577221710759105 J_0_1\n",
      "+ 0.3577221710759105 J_0_2 + 0.3577221710759105 u_0_0 + 0.3577221710759105 u_0_1\n",
      "+ 0.3577221710759105 u_0_2 + eta_1 + 0.3577221710759105 W_1_0 + 0.3577221710759105 W_1_1\n",
      "+ 0.3577221710759105 W_1_2 + 1.3977753172281062 J_1_0 + 1.3977753172281062 J_1_1\n",
      "+ 1.3977753172281062 J_1_2 + 1.397775317228106 u_1_0 + 1.397775317228106 u_1_1\n",
      "+ 1.397775317228106 u_1_2 + eta_2 + 0.3577221710759105 W_2_0 + 0.3577221710759105 W_2_1\n",
      "+ 0.3577221710759105 W_2_2 + 20.570725687875186 J_2_0 + 20.570725687875186 J_2_1\n",
      "+ 20.570725687875186 J_2_2 + 20.570725687875186 u_2_0 + 20.570725687875186 u_2_1\n",
      "+ 20.570725687875186 u_2_2>\n",
      "Subject To\n",
      "  Bilateral trading for pair (0, 1) proba 0: <gurobi.LinExpr: q_0_1_0 + q_1_0_0> = 0\n",
      "  Bilateral trading for pair (0, 1) proba 1: <gurobi.LinExpr: q_0_1_1 + q_1_0_1> = 0\n",
      "  Bilateral trading for pair (0, 1) proba 2: <gurobi.LinExpr: q_0_1_2 + q_1_0_2> = 0\n",
      "  Bilateral trading for pair (0, 2) proba 0: <gurobi.LinExpr: q_0_2_0 + q_2_0_0> = 0\n",
      "  Bilateral trading for pair (0, 2) proba 1: <gurobi.LinExpr: q_0_2_1 + q_2_0_1> = 0\n",
      "  Bilateral trading for pair (0, 2) proba 2: <gurobi.LinExpr: q_0_2_2 + q_2_0_2> = 0\n",
      "SD balance for agent 0 proba 0: <gurobi.LinExpr: D_0_0 + -1.0 G_0_0 + -1.0 q_0_1_0 +\n",
      " -1.0 q_0_2_0> = 2.89526\n",
      "SD balance for agent 0 proba 1: <gurobi.LinExpr: D_0_1 + -1.0 G_0_1 + -1.0 q_0_1_1 +\n",
      " -1.0 q_0_2_1> = 2.2483\n",
      "SD balance for agent 0 proba 2: <gurobi.LinExpr: D_0_2 + -1.0 G_0_2 + -1.0 q_0_1_2 +\n",
      " -1.0 q_0_2_2> = 0.502726\n",
      "  Bilateral trading for pair (1, 0) proba 0: <gurobi.LinExpr: q_0_1_0 + q_1_0_0> = 0\n",
      "  Bilateral trading for pair (1, 0) proba 1: <gurobi.LinExpr: q_0_1_1 + q_1_0_1> = 0\n",
      "  Bilateral trading for pair (1, 0) proba 2: <gurobi.LinExpr: q_0_1_2 + q_1_0_2> = 0\n",
      "  Bilateral trading for pair (1, 2) proba 0: <gurobi.LinExpr: q_1_2_0 + q_2_1_0> = 0\n",
      "  Bilateral trading for pair (1, 2) proba 1: <gurobi.LinExpr: q_1_2_1 + q_2_1_1> = 0\n",
      "  Bilateral trading for pair (1, 2) proba 2: <gurobi.LinExpr: q_1_2_2 + q_2_1_2> = 0\n",
      "SD balance for agent 1 proba 0: <gurobi.LinExpr: D_1_0 + -1.0 G_1_0 + -1.0 q_1_0_0 +\n",
      " -1.0 q_1_2_0> = 1.65868\n",
      "SD balance for agent 1 proba 1: <gurobi.LinExpr: D_1_1 + -1.0 G_1_1 + -1.0 q_1_0_1 +\n",
      " -1.0 q_1_2_1> = 2.91455\n",
      "SD balance for agent 1 proba 2: <gurobi.LinExpr: D_1_2 + -1.0 G_1_2 + -1.0 q_1_0_2 +\n",
      " -1.0 q_1_2_2> = 2.35189\n",
      "  Bilateral trading for pair (2, 0) proba 0: <gurobi.LinExpr: q_0_2_0 + q_2_0_0> = 0\n",
      "  Bilateral trading for pair (2, 0) proba 1: <gurobi.LinExpr: q_0_2_1 + q_2_0_1> = 0\n",
      "  Bilateral trading for pair (2, 0) proba 2: <gurobi.LinExpr: q_0_2_2 + q_2_0_2> = 0\n",
      "  Bilateral trading for pair (2, 1) proba 0: <gurobi.LinExpr: q_1_2_0 + q_2_1_0> = 0\n",
      "  Bilateral trading for pair (2, 1) proba 1: <gurobi.LinExpr: q_1_2_1 + q_2_1_1> = 0\n",
      "  Bilateral trading for pair (2, 1) proba 2: <gurobi.LinExpr: q_1_2_2 + q_2_1_2> = 0\n",
      "SD balance for agent 2 proba 0: <gurobi.LinExpr: D_2_0 + -1.0 G_2_0 + -1.0 q_2_0_0 +\n",
      " -1.0 q_2_1_0> = 0.115929\n",
      "SD balance for agent 2 proba 1: <gurobi.LinExpr: D_2_1 + -1.0 G_2_1 + -1.0 q_2_0_1 +\n",
      " -1.0 q_2_1_1> = 2.28132\n",
      "SD balance for agent 2 proba 2: <gurobi.LinExpr: D_2_2 + -1.0 G_2_2 + -1.0 q_2_0_2 +\n",
      " -1.0 q_2_1_2> = 0.375041\n",
      "  Risk trading balance for proba 0: <gurobi.LinExpr: W_0_0 + W_1_0 + W_2_0> = 0\n",
      "  Risk trading balance for proba 1: <gurobi.LinExpr: W_0_1 + W_1_1 + W_2_1> = 0\n",
      "  Risk trading balance for proba 2: <gurobi.LinExpr: W_0_2 + W_1_2 + W_2_2> = 0\n",
      "Residual constraint for agent 0 proba 0: <gurobi.QuadExpr: -0.9964263745608958 D_0_0 +\n",
      "0.048638223979889705 G_0_0 + q_0_1_0 + q_0_2_0 + -1.0 eta_0 + -1.0 W_0_0 + -1.0 J_0_0 +\n",
      "-1.0 u_0_0 + [ 0.36030143572119644 D_0_0 ^ 2 + 0.26765139983666814 G_0_0 ^ 2 ]> <=\n",
      " -0.513346\n",
      "Residual constraint for agent 0 proba 1: <gurobi.QuadExpr: -0.06022959049033958 D_0_1 +\n",
      "0.048638223979889705 G_0_1 + q_0_1_1 + q_0_2_1 + -1.0 eta_0 + -1.0 W_0_1 + -1.0 J_0_1 +\n",
      "-1.0 u_0_1 + [ 0.36030143572119644 D_0_1 ^ 2 + 0.26765139983666814 G_0_1 ^ 2 ]> <=\n",
      " 0.17305\n",
      "Residual constraint for agent 0 proba 2: <gurobi.QuadExpr: -2.4691806841963344 D_0_2 +\n",
      "0.048638223979889705 G_0_2 + q_0_1_2 + q_0_2_2 + -1.0 eta_0 + -1.0 W_0_2 + -1.0 J_0_2 +\n",
      "-1.0 u_0_2 + [ 0.36030143572119644 D_0_2 ^ 2 + 0.26765139983666814 G_0_2 ^ 2 ]> <=\n",
      " -4.05482\n",
      "Residual constraint for agent 1 proba 0: <gurobi.QuadExpr: -11.919362459796188 D_1_0 +\n",
      "0.18135310781459213 G_1_0 + 3.0 q_1_0_0 + q_1_2_0 + -1.0 eta_1 + -1.0 W_1_0 + -1.0 J_1_0\n",
      "+ -1.0 u_1_0 + [ 0.8194188912652529 D_1_0 ^ 2 + 0.13719430120912945 G_1_0 ^ 2 ]> <=\n",
      " -43.2294\n",
      "Residual constraint for agent 1 proba 1: <gurobi.QuadExpr: -9.123308619100134 D_1_1 +\n",
      "0.18135310781459213 G_1_1 + 3.0 q_1_0_1 + q_1_2_1 + -1.0 eta_1 + -1.0 W_1_1 + -1.0 J_1_1\n",
      "+ -1.0 u_1_1 + [ 0.8194188912652529 D_1_1 ^ 2 + 0.13719430120912945 G_1_1 ^ 2 ]> <=\n",
      " -25.2788\n",
      "Residual constraint for agent 1 proba 2: <gurobi.QuadExpr: -7.827060428971311 D_1_2 +\n",
      "0.18135310781459213 G_1_2 + 3.0 q_1_0_2 + q_1_2_2 + -1.0 eta_1 + -1.0 W_1_2 + -1.0 J_1_2\n",
      "+ -1.0 u_1_2 + [ 0.8194188912652529 D_1_2 ^ 2 + 0.13719430120912945 G_1_2 ^ 2 ]> <=\n",
      " -18.5753\n",
      "Residual constraint for agent 2 proba 0: <gurobi.QuadExpr: -3.036498157730104 D_2_0 +\n",
      "0.0550926893600856 G_2_0 + 2.0 q_2_0_0 + q_2_1_0 + -1.0 eta_2 + -1.0 W_2_0 + -1.0 J_2_0\n",
      "+ -1.0 u_2_0 + [ 0.7073792742889289 D_2_0 ^ 2 + 0.3440325265243281 G_2_0 ^ 2 ]> <=\n",
      " -2.6175\n",
      "Residual constraint for agent 2 proba 1: <gurobi.QuadExpr: -7.628833802055274 D_2_1 +\n",
      "0.0550926893600856 G_2_1 + 2.0 q_2_0_1 + q_2_1_1 + -1.0 eta_2 + -1.0 W_2_1 + -1.0 J_2_1\n",
      "+ -1.0 u_2_1 + [ 0.7073792742889289 D_2_1 ^ 2 + 0.3440325265243281 G_2_1 ^ 2 ]> <=\n",
      " -19.9274\n",
      "Residual constraint for agent 2 proba 2: <gurobi.QuadExpr: -9.23753115111115 D_2_2 +\n",
      "0.0550926893600856 G_2_2 + 2.0 q_2_0_2 + q_2_1_2 + -1.0 eta_2 + -1.0 W_2_2 + -1.0 J_2_2\n",
      "+ -1.0 u_2_2 + [ 0.7073792742889289 D_2_2 ^ 2 + 0.3440325265243281 G_2_2 ^ 2 ]> <=\n",
      " -29.5167\n",
      "Bounds\n",
      "  0 <= D_0_0 <= 10\n",
      "  0 <= D_0_1 <= 10\n",
      "  0 <= D_0_2 <= 10\n",
      "  0 <= G_0_0 <= 10\n",
      "  0 <= G_0_1 <= 10\n",
      "  0 <= G_0_2 <= 10\n",
      "  -10 <= q_0_1_0 <= 10\n",
      "  -10 <= q_0_1_1 <= 10\n",
      "  -10 <= q_0_1_2 <= 10\n",
      "  -10 <= q_0_2_0 <= 10\n",
      "  -10 <= q_0_2_1 <= 10\n",
      "  -10 <= q_0_2_2 <= 10\n",
      "  eta_0 free\n",
      "  W_0_0 free\n",
      "  W_0_1 free\n",
      "  W_0_2 free\n",
      "  0 <= J_0_0 <= 10\n",
      "  0 <= J_0_1 <= 10\n",
      "  0 <= J_0_2 <= 10\n",
      "  0 <= D_1_0 <= 10\n",
      "  0 <= D_1_1 <= 10\n",
      "  0 <= D_1_2 <= 10\n",
      "  G_1_0 = 0\n",
      "  G_1_1 = 0\n",
      "  G_1_2 = 0\n",
      "  -10 <= q_1_0_0 <= 10\n",
      "  -10 <= q_1_0_1 <= 10\n",
      "  -10 <= q_1_0_2 <= 10\n",
      "  -5 <= q_1_2_0 <= 5\n",
      "  -5 <= q_1_2_1 <= 5\n",
      "  -5 <= q_1_2_2 <= 5\n",
      "  eta_1 free\n",
      "  W_1_0 free\n",
      "  W_1_1 free\n",
      "  W_1_2 free\n",
      "  0 <= J_1_0 <= 10\n",
      "  0 <= J_1_1 <= 10\n",
      "  0 <= J_1_2 <= 10\n",
      "  0 <= D_2_0 <= 10\n",
      "  0 <= D_2_1 <= 10\n",
      "  0 <= D_2_2 <= 10\n",
      "  G_2_0 = 0\n",
      "  G_2_1 = 0\n",
      "  G_2_2 = 0\n",
      "  -10 <= q_2_0_0 <= 10\n",
      "  -10 <= q_2_0_1 <= 10\n",
      "  -10 <= q_2_0_2 <= 10\n",
      "  -5 <= q_2_1_0 <= 5\n",
      "  -5 <= q_2_1_1 <= 5\n",
      "  -5 <= q_2_1_2 <= 5\n",
      "  eta_2 free\n",
      "  W_2_0 free\n",
      "  W_2_1 free\n",
      "  W_2_2 free\n",
      "  0 <= J_2_0 <= 10\n",
      "  0 <= J_2_1 <= 10\n",
      "  0 <= J_2_2 <= 10\n"
     ]
    }
   ],
   "source": [
    "model_1 = gp.Model()\n",
    "setup = GurobiSolution(agents=agents,\n",
    "                model = model_1,\n",
    "                solution_type='centralized')\n",
    "\n",
    "setup.build_model()\n",
    "\n",
    "model_1.display()"
   ]
  },
  {
   "cell_type": "code",
   "execution_count": 15,
   "metadata": {},
   "outputs": [
    {
     "name": "stdout",
     "output_type": "stream",
     "text": [
      "Gurobi Optimizer version 9.5.0 build v9.5.0rc5 (mac64[arm])\n",
      "Thread count: 8 physical cores, 8 logical processors, using up to 8 threads\n",
      "Optimize a model with 30 rows, 66 columns and 81 nonzeros\n",
      "Model fingerprint: 0xd74259b2\n",
      "Model has 9 quadratic constraints\n",
      "Coefficient statistics:\n",
      "  Matrix range     [1e+00, 1e+00]\n",
      "  QMatrix range    [1e-01, 8e-01]\n",
      "  QLMatrix range   [5e-02, 1e+01]\n",
      "  Objective range  [4e-01, 2e+01]\n",
      "  Bounds range     [5e+00, 1e+01]\n",
      "  RHS range        [1e-01, 3e+00]\n",
      "  QRHS range       [2e-01, 4e+01]\n",
      "Presolve removed 9 rows and 6 columns\n",
      "Presolve time: 0.00s\n",
      "Presolved: 63 rows, 78 columns, 174 nonzeros\n",
      "Presolved model has 9 second-order cone constraints\n",
      "Ordering time: 0.00s\n",
      "\n",
      "Barrier statistics:\n",
      " Free vars  : 12\n",
      " AA' NZ     : 1.770e+02\n",
      " Factor NZ  : 6.310e+02\n",
      " Factor Ops : 7.769e+03 (less than 1 second per iteration)\n",
      " Threads    : 1\n",
      "\n",
      "                  Objective                Residual\n",
      "Iter       Primal          Dual         Primal    Dual     Compl     Time\n",
      "   0   1.56405651e+04 -7.89383158e+02  1.73e+01 4.68e+02  6.53e+02     0s\n",
      "   1   1.20770494e+04 -8.28446333e+03  6.22e+00 2.48e+01  2.83e+02     0s\n",
      "   2   2.44127094e+02 -2.27511201e+03  4.33e-02 1.44e+00  2.26e+01     0s\n",
      "   3   7.41289851e+01 -2.27474398e+02  8.98e-03 1.50e-01  2.64e+00     0s\n",
      "   4   2.27227629e+01 -2.46967456e+01  8.04e-04 1.94e-02  4.12e-01     0s\n",
      "   5   1.19596422e+01 -1.40941873e+00  2.00e-04 5.33e-03  1.16e-01     0s\n",
      "   6   8.49584051e+00  7.27700560e+00  2.20e-10 3.71e-05  1.04e-02     0s\n",
      "   7   8.09709509e+00  8.03992832e+00  3.53e-12 1.87e-07  4.89e-04     0s\n",
      "   8   8.06998108e+00  8.06570182e+00  1.70e-10 1.20e-08  3.66e-05     0s\n",
      "   9   8.06817811e+00  8.06807647e+00  2.40e-09 4.76e-09  8.69e-07     0s\n",
      "  10   8.06816449e+00  8.06816234e+00  1.25e-09 1.98e-08  1.84e-08     0s\n",
      "\n",
      "Barrier solved model in 10 iterations and 0.01 seconds (0.00 work units)\n",
      "Optimal objective 8.06816449e+00\n",
      "\n"
     ]
    }
   ],
   "source": [
    "model_1.optimize()"
   ]
  },
  {
   "cell_type": "code",
   "execution_count": 16,
   "metadata": {},
   "outputs": [
    {
     "data": {
      "text/plain": [
       "[<gurobi.Var D_0_0 (value 0.07893121911888713)>,\n",
       " <gurobi.Var D_0_1 (value 1.7956540646802656e-08)>,\n",
       " <gurobi.Var D_0_2 (value 0.49320823038244854)>,\n",
       " <gurobi.Var G_0_0 (value 1.6639511675155416)>,\n",
       " <gurobi.Var G_0_1 (value 0.8937398987037283)>,\n",
       " <gurobi.Var G_0_2 (value 3.8578657653284614)>,\n",
       " <gurobi.Var q_0_1_0 (value 1.179238194796623)>,\n",
       " <gurobi.Var q_0_1_1 (value 3.889585741729533)>,\n",
       " <gurobi.Var q_0_1_2 (value 5.086071243023717)>,\n",
       " <gurobi.Var q_0_2_0 (value -5.65951427138599)>,\n",
       " <gurobi.Var q_0_2_1 (value -7.031623152895788)>,\n",
       " <gurobi.Var q_0_2_2 (value -8.953454717896596)>,\n",
       " <gurobi.Var eta_0 (value -7.158036138651554)>,\n",
       " <gurobi.Var W_0_0 (value -2.4796193054167768)>,\n",
       " <gurobi.Var W_0_1 (value 4.100210953623053)>,\n",
       " <gurobi.Var W_0_2 (value -1.9711808720539596)>,\n",
       " <gurobi.Var J_0_0 (value 4.599214472970991)>,\n",
       " <gurobi.Var J_0_1 (value 3.489764571194068e-08)>,\n",
       " <gurobi.Var J_0_2 (value 3.7615703460603243)>,\n",
       " <gurobi.Var u_0_0 (value 1.8170953316526568)>,\n",
       " <gurobi.Var u_0_1 (value 3.490494515721733e-08)>,\n",
       " <gurobi.Var u_0_2 (value 8.59603450936891)>,\n",
       " <gurobi.Var D_1_0 (value 5.479440580806938)>,\n",
       " <gurobi.Var D_1_1 (value 4.0249599937637095)>,\n",
       " <gurobi.Var D_1_2 (value 2.265816939657618)>,\n",
       " <gurobi.Var G_1_0 (value 0.0)>,\n",
       " <gurobi.Var G_1_1 (value 0.0)>,\n",
       " <gurobi.Var G_1_2 (value 0.0)>,\n",
       " <gurobi.Var q_1_0_0 (value -1.1792381947963673)>,\n",
       " <gurobi.Var q_1_0_1 (value -3.889585741729504)>,\n",
       " <gurobi.Var q_1_0_2 (value -5.086071243023756)>,\n",
       " <gurobi.Var q_1_2_0 (value 4.999999992862408)>,\n",
       " <gurobi.Var q_1_2_1 (value 4.9999999910261685)>,\n",
       " <gurobi.Var q_1_2_2 (value 4.999999992863662)>,\n",
       " <gurobi.Var eta_1 (value -2.050985261752666)>,\n",
       " <gurobi.Var W_1_0 (value 6.0337096927571405)>,\n",
       " <gurobi.Var W_1_1 (value -2.7851263435317177)>,\n",
       " <gurobi.Var W_1_2 (value -3.159810808822888)>,\n",
       " <gurobi.Var J_1_0 (value 2.4551792751814553e-09)>,\n",
       " <gurobi.Var J_1_1 (value 2.293811215654939e-09)>,\n",
       " <gurobi.Var J_1_2 (value 2.4551847930599386e-09)>,\n",
       " <gurobi.Var u_1_0 (value 2.455193991937173e-09)>,\n",
       " <gurobi.Var u_1_1 (value 2.29382077002891e-09)>,\n",
       " <gurobi.Var u_1_2 (value 2.4551874502148805e-09)>,\n",
       " <gurobi.Var D_2_0 (value 0.775443635507726)>,\n",
       " <gurobi.Var D_2_1 (value 4.312947963582535)>,\n",
       " <gurobi.Var D_2_2 (value 4.3284960921229985)>,\n",
       " <gurobi.Var G_2_0 (value 0.0)>,\n",
       " <gurobi.Var G_2_1 (value 0.0)>,\n",
       " <gurobi.Var G_2_2 (value 0.0)>,\n",
       " <gurobi.Var q_2_0_0 (value 5.659514271387565)>,\n",
       " <gurobi.Var q_2_0_1 (value 7.031623152895872)>,\n",
       " <gurobi.Var q_2_0_2 (value 8.953454717896388)>,\n",
       " <gurobi.Var q_2_1_0 (value -4.999999992862287)>,\n",
       " <gurobi.Var q_2_1_1 (value -4.999999991026137)>,\n",
       " <gurobi.Var q_2_1_2 (value -4.99999999286365)>,\n",
       " <gurobi.Var eta_2 (value 10.561340319722433)>,\n",
       " <gurobi.Var W_2_0 (value -3.5540903873403638)>,\n",
       " <gurobi.Var W_2_1 (value -1.3150846100913358)>,\n",
       " <gurobi.Var W_2_2 (value 5.130991680876847)>,\n",
       " <gurobi.Var J_2_0 (value 1.263308973157077e-10)>,\n",
       " <gurobi.Var J_2_1 (value 1.258752557055725e-10)>,\n",
       " <gurobi.Var J_2_2 (value 1.2633089721639496e-10)>,\n",
       " <gurobi.Var u_2_0 (value 1.2633092933755667e-10)>,\n",
       " <gurobi.Var u_2_1 (value 1.2587526452223794e-10)>,\n",
       " <gurobi.Var u_2_2 (value 1.2633092736618116e-10)>]"
      ]
     },
     "execution_count": 16,
     "metadata": {},
     "output_type": "execute_result"
    }
   ],
   "source": [
    "model_1.getVars()"
   ]
  },
  {
   "cell_type": "markdown",
   "metadata": {},
   "source": [
    "## Best-Response Gauss-Seidel "
   ]
  },
  {
   "cell_type": "code",
   "execution_count": 17,
   "metadata": {},
   "outputs": [],
   "source": [
    "for k in range(1):\n",
    "    for agent in agents:\n",
    "        model = gp.Model()\n",
    "        model.setParam('OutputFlag', 0)\n",
    "        setup = GurobiSolution(agents = agents,\n",
    "                                model = model,\n",
    "                                solution_type = 'BRGS',\n",
    "                                agent = agent)\n",
    "\n",
    "        BRGS.pass_parameters(agent,agents)\n",
    "        setup.build_model()\n",
    "        model.optimize()\n",
    "        BRGS.extract_parameters(agent, agents, model)\n",
    "        \n",
    "        agent.plot_eta.append(agent.eta)\n",
    "\n",
    "        for i in range(len(probabilities)):\n",
    "            agent.plot_d[i].append(agent.D[i])\n",
    "            agent.plot_g[i].append(agent.G[i])\n",
    "            agent.plot_u[i].append(agent.u[i])\n",
    "            agent.plot_w[i].append(agent.w[i])\n",
    "            agent.plot_j[i].append(agent.j[i])\n",
    "\n",
    "            for agent_2 in agents:\n",
    "                agent.plot_q[agent_2.id][i].append(agent.q[agent_2.id][i])"
   ]
  },
  {
   "cell_type": "code",
   "execution_count": 18,
   "metadata": {},
   "outputs": [
    {
     "data": {
      "image/png": "[encoded data removed]",
      "text/plain": [
       "<Figure size 432x288 with 1 Axes>"
      ]
     },
     "metadata": {},
     "output_type": "display_data"
    },
    {
     "data": {
      "image/png": "[encoded data removed]",
      "text/plain": [
       "<Figure size 432x288 with 1 Axes>"
      ]
     },
     "metadata": {},
     "output_type": "display_data"
    },
    {
     "data": {
      "image/png": "[encoded data removed]",
      "text/plain": [
       "<Figure size 432x288 with 1 Axes>"
      ]
     },
     "metadata": {},
     "output_type": "display_data"
    }
   ],
   "source": [
    "for agent in agents:\n",
    "    for i in range(len(probabilities)):\n",
    "        plt.plot(agent.plot_d[i])\n",
    "    \n",
    "    plt.show()"
   ]
  },
  {
   "cell_type": "code",
   "execution_count": 19,
   "metadata": {},
   "outputs": [
    {
     "data": {
      "image/png": "[encoded data removed]",
      "text/plain": [
       "<Figure size 432x288 with 1 Axes>"
      ]
     },
     "metadata": {},
     "output_type": "display_data"
    },
    {
     "data": {
      "image/png": "[encoded data removed]",
      "text/plain": [
       "<Figure size 432x288 with 1 Axes>"
      ]
     },
     "metadata": {},
     "output_type": "display_data"
    },
    {
     "data": {
      "image/png": "[encoded data removed]",
      "text/plain": [
       "<Figure size 432x288 with 1 Axes>"
      ]
     },
     "metadata": {},
     "output_type": "display_data"
    }
   ],
   "source": [
    "for agent in agents:\n",
    "    for i in range(len(probabilities)):\n",
    "        plt.plot(agent.plot_g[i])\n",
    "    \n",
    "    plt.show()"
   ]
  },
  {
   "cell_type": "code",
   "execution_count": 20,
   "metadata": {},
   "outputs": [
    {
     "data": {
      "image/png": "[encoded data removed]",
      "text/plain": [
       "<Figure size 432x288 with 1 Axes>"
      ]
     },
     "metadata": {},
     "output_type": "display_data"
    },
    {
     "data": {
      "image/png": "[encoded data removed]",
      "text/plain": [
       "<Figure size 432x288 with 1 Axes>"
      ]
     },
     "metadata": {},
     "output_type": "display_data"
    },
    {
     "data": {
      "image/png": "[encoded data removed]",
      "text/plain": [
       "<Figure size 432x288 with 1 Axes>"
      ]
     },
     "metadata": {},
     "output_type": "display_data"
    }
   ],
   "source": [
    "for agent in agents:\n",
    "    for i in range(len(probabilities)):\n",
    "        plt.plot(agent.plot_j[i])\n",
    "    \n",
    "    plt.show()"
   ]
  },
  {
   "cell_type": "code",
   "execution_count": 21,
   "metadata": {},
   "outputs": [
    {
     "data": {
      "image/png": "[encoded data removed]",
      "text/plain": [
       "<Figure size 432x288 with 1 Axes>"
      ]
     },
     "metadata": {},
     "output_type": "display_data"
    },
    {
     "data": {
      "image/png": "[encoded data removed]",
      "text/plain": [
       "<Figure size 432x288 with 1 Axes>"
      ]
     },
     "metadata": {},
     "output_type": "display_data"
    },
    {
     "data": {
      "image/png": "[encoded data removed]",
      "text/plain": [
       "<Figure size 432x288 with 1 Axes>"
      ]
     },
     "metadata": {},
     "output_type": "display_data"
    }
   ],
   "source": [
    "for agent in agents:\n",
    "    for i in range(len(probabilities)):\n",
    "        plt.plot(agent.plot_w[i])\n",
    "    \n",
    "    plt.show()"
   ]
  },
  {
   "cell_type": "code",
   "execution_count": 22,
   "metadata": {},
   "outputs": [
    {
     "data": {
      "image/png": "[encoded data removed]",
      "text/plain": [
       "<Figure size 432x288 with 1 Axes>"
      ]
     },
     "metadata": {},
     "output_type": "display_data"
    },
    {
     "data": {
      "image/png": "[encoded data removed]",
      "text/plain": [
       "<Figure size 432x288 with 1 Axes>"
      ]
     },
     "metadata": {},
     "output_type": "display_data"
    },
    {
     "data": {
      "image/png": "[encoded data removed]",
      "text/plain": [
       "<Figure size 432x288 with 1 Axes>"
      ]
     },
     "metadata": {},
     "output_type": "display_data"
    }
   ],
   "source": [
    "for agent in agents:\n",
    "    for i in range(len(probabilities)):\n",
    "        for agent_2 in agents:\n",
    "            if agent.connections[agent_2.id]:\n",
    "                plt.plot(agent.plot_q[agent_2.id][i])\n",
    "    \n",
    "    plt.show()"
   ]
  },
  {
   "cell_type": "markdown",
   "metadata": {},
   "source": [
    "## AMPL"
   ]
  },
  {
   "cell_type": "code",
   "execution_count": 23,
   "metadata": {},
   "outputs": [],
   "source": [
    "from amplpy import AMPL, Environment, DataFrame\n",
    "\n",
    "ampl = AMPL(Environment('/Users/ishilov/Documents/ampl.macos64'))\n",
    "\n",
    "ampl.read('/Users/ishilov/Documents/risk_paper/risk_paper/ampl/3_nodes_centr_risk.mod')\n",
    "ampl.readData('/Users/ishilov/Documents/risk_paper/risk_paper/ampl/3_nodes_centr_risk.dat')\n"
   ]
  },
  {
   "cell_type": "code",
   "execution_count": 24,
   "metadata": {},
   "outputs": [],
   "source": [
    "nodes = ['n_0', 'n_1', 'n_2']"
   ]
  },
  {
   "cell_type": "code",
   "execution_count": 25,
   "metadata": {},
   "outputs": [],
   "source": [
    "Cost_dict = {}\n",
    "for i in range(community_size):\n",
    "    for j in range(community_size):\n",
    "        Cost_dict.update({(nodes[i],nodes[j]):Cost[i][j]})\n",
    "\n",
    "Kappa_dict = {}\n",
    "for i in range(community_size):\n",
    "    for j in range(community_size):\n",
    "        Kappa_dict.update({(nodes[i],nodes[j]):Kappa[i][j]})"
   ]
  },
  {
   "cell_type": "code",
   "execution_count": 26,
   "metadata": {},
   "outputs": [],
   "source": [
    "d_target_dict = {}\n",
    "g_res_dict = {}\n",
    "alpha_dict = {}\n",
    "for i in range(community_size):\n",
    "    for j in range(len(probabilities)):\n",
    "        d_target_dict.update({('n_{}'.format(i), 'p_{}'.format(j)): d_target[i][j]})\n",
    "        g_res_dict.update({('n_{}'.format(i), 'p_{}'.format(j)): g_res[i][j]})\n",
    "        alpha_dict.update({('n_{}'.format(i), 'p_{}'.format(j)): alpha[i][j]})"
   ]
  },
  {
   "cell_type": "code",
   "execution_count": 27,
   "metadata": {},
   "outputs": [
    {
     "name": "stdout",
     "output_type": "stream",
     "text": [
      "[2.89525613 2.24829753 0.50272594]\n",
      "[1.65867878 2.91454574 2.35188819]\n",
      "[0.11592936 2.2813248  0.37504137]\n"
     ]
    }
   ],
   "source": [
    "for agent in agents:\n",
    "    print(agent.G_res)"
   ]
  },
  {
   "cell_type": "code",
   "execution_count": 28,
   "metadata": {},
   "outputs": [
    {
     "data": {
      "text/plain": [
       "{('n_0', 'p_0'): 2.8952561281927793,\n",
       " ('n_0', 'p_1'): 2.2482975304187205,\n",
       " ('n_0', 'p_2'): 0.5027259399294237,\n",
       " ('n_1', 'p_0'): 1.658678780789261,\n",
       " ('n_1', 'p_1'): 2.914545741971315,\n",
       " ('n_1', 'p_2'): 2.351888189670447,\n",
       " ('n_2', 'p_0'): 0.11592935698388074,\n",
       " ('n_2', 'p_1'): 2.281324802297712,\n",
       " ('n_2', 'p_2'): 0.37504136746821126}"
      ]
     },
     "execution_count": 28,
     "metadata": {},
     "output_type": "execute_result"
    }
   ],
   "source": [
    "g_res_dict"
   ]
  },
  {
   "cell_type": "code",
   "execution_count": 29,
   "metadata": {},
   "outputs": [],
   "source": [
    "p_dict = {}\n",
    "for j in range(len(probabilities)):\n",
    "    p_dict.update({'p_{}'.format(j) : probabilities[j]})"
   ]
  },
  {
   "cell_type": "code",
   "execution_count": 30,
   "metadata": {},
   "outputs": [],
   "source": [
    "if community_size == 3:\n",
    "\n",
    "    ampl.getParameter('a').setValues(a)\n",
    "    ampl.getParameter('b').setValues(b)\n",
    "    ampl.getParameter('d').setValues(d)\n",
    "    ampl.getParameter('a_t').setValues(A_tilde)\n",
    "    ampl.getParameter('b_t').setValues(B_tilde)\n",
    "\n",
    "    ampl.getParameter('gamma').setValues(gamma)\n",
    "    ampl.getParameter('alpha').setValues(alpha_dict)\n",
    "    ampl.getParameter('J_max').setValues(j_max)\n",
    "\n",
    "    ampl.getParameter('D_max').setValues(D_max)\n",
    "    ampl.getParameter('G_max').setValues(G_max)\n",
    "    ampl.getParameter('D_min').setValues(D_min)\n",
    "    ampl.getParameter('G_min').setValues(G_min)\n",
    "\n",
    "    ampl.getParameter('chi').setValues(risk_aversion)\n",
    "    \n",
    "    ampl.getParameter('cost').setValues(Cost_dict)\n",
    "\n",
    "    ampl.getParameter('kappa').setValues(Kappa_dict)\n",
    "    \n",
    "    ampl.getParameter('p').setValues(p_dict)\n",
    "                \n",
    "    ampl.getParameter('D_t').setValues(d_target_dict)\n",
    "    ampl.getParameter('G_d').setValues(g_res_dict)"
   ]
  },
  {
   "cell_type": "code",
   "execution_count": 31,
   "metadata": {},
   "outputs": [
    {
     "name": "stdout",
     "output_type": "stream",
     "text": [
      "chi [*] :=\n",
      "n_0  0.06911\n",
      "n_1  0.761764\n",
      "n_2  0.983812\n",
      ";\n",
      "\n"
     ]
    }
   ],
   "source": [
    "ampl.display('chi')"
   ]
  },
  {
   "cell_type": "code",
   "execution_count": 32,
   "metadata": {},
   "outputs": [
    {
     "name": "stdout",
     "output_type": "stream",
     "text": [
      "Gurobi 9.5.0: Set parameter Username\n",
      "optimal solution; objective 8.068164492\n",
      "10 barrier iterations\n",
      "No basis.\n",
      "No dual variables returned.\n"
     ]
    }
   ],
   "source": [
    "\n",
    "# Solve\n",
    "ampl.setOption('solver', 'Gurobi')\n",
    "ampl.solve()"
   ]
  },
  {
   "cell_type": "code",
   "execution_count": 33,
   "metadata": {},
   "outputs": [],
   "source": [
    "if community_size ==3:\n",
    "    g_ampl = ampl.getVariable('G').getValues().toDict()\n",
    "    d_ampl = ampl.getVariable('D').getValues().toDict()\n",
    "    u_ampl = ampl.getVariable('u').getValues().toDict()\n",
    "    eta_ampl = ampl.getVariable('eta').getValues().toDict()\n",
    "    q_ampl = ampl.getVariable('quant').getValues().toDict()\n",
    "    j_ampl = ampl.getVariable('J').getValues().toDict()\n",
    "    w_ampl = ampl.getVariable('W').getValues().toDict()\n"
   ]
  },
  {
   "cell_type": "code",
   "execution_count": 34,
   "metadata": {},
   "outputs": [
    {
     "name": "stdout",
     "output_type": "stream",
     "text": [
      "W :=\n",
      "n_0 p_0   -2.47962\n",
      "n_0 p_1    4.10021\n",
      "n_0 p_2   -1.97118\n",
      "n_1 p_0    6.03371\n",
      "n_1 p_1   -2.78512\n",
      "n_1 p_2   -3.15981\n",
      "n_2 p_0   -3.55409\n",
      "n_2 p_1   -1.31509\n",
      "n_2 p_2    5.13099\n",
      ";\n",
      "\n"
     ]
    }
   ],
   "source": [
    "ampl.display('W')"
   ]
  },
  {
   "cell_type": "code",
   "execution_count": 35,
   "metadata": {},
   "outputs": [
    {
     "data": {
      "text/plain": [
       "{('n_0', 'p_0'): -2.4796188083219968,\n",
       " ('n_0', 'p_1'): 4.100211450720949,\n",
       " ('n_0', 'p_2'): -1.9711803749647976,\n",
       " ('n_1', 'p_0'): 6.033711230156066,\n",
       " ('n_1', 'p_1'): -2.7851248061339446,\n",
       " ('n_1', 'p_2'): -3.1598092714216435,\n",
       " ('n_2', 'p_0'): -3.5540924218340693,\n",
       " ('n_2', 'p_1'): -1.315086644587005,\n",
       " ('n_2', 'p_2'): 5.130989646386441}"
      ]
     },
     "execution_count": 35,
     "metadata": {},
     "output_type": "execute_result"
    }
   ],
   "source": [
    "w_ampl"
   ]
  },
  {
   "cell_type": "code",
   "execution_count": 36,
   "metadata": {},
   "outputs": [],
   "source": [
    "def assign_ampl(d, g, eta, u, q, w, J, agents):\n",
    "    \"\"\"Assigns the solution from AMPL to agents\"\"\"\n",
    "\n",
    "    for i in range(community_size):\n",
    "        id = 'n_{}'.format(i)\n",
    "\n",
    "        for j in range(len(probabilities)):\n",
    "            proba = 'p_{}'.format(j)\n",
    "            agents[i].D[j] = d[(id, proba)]\n",
    "\n",
    "    for i in range(community_size):\n",
    "        id = 'n_{}'.format(i)\n",
    "\n",
    "        for j in range(len(probabilities)):\n",
    "            proba = 'p_{}'.format(j)\n",
    "            agents[i].w[j] = w[(id, proba)]\n",
    "\n",
    "    for i in range(community_size):\n",
    "        id = 'n_{}'.format(i)\n",
    "\n",
    "    for j in range(len(probabilities)):\n",
    "        proba = 'p_{}'.format(j)\n",
    "        agents[i].j[j] = J[(id, proba)]\n",
    "\n",
    "    for i in range(community_size):\n",
    "        id = 'n_{}'.format(i)\n",
    "\n",
    "    for j in range(len(probabilities)):\n",
    "        proba = 'p_{}'.format(j)\n",
    "        agents[i].G[j] = g[(id, proba)]\n",
    "\n",
    "    for i in range(community_size):\n",
    "        id = 'n_{}'.format(i)\n",
    "\n",
    "        for j in range(len(probabilities)):\n",
    "            proba = 'p_{}'.format(j)\n",
    "            agents[i].u[j] = u[(id, proba)]\n",
    "\n",
    "    for i in range(community_size):\n",
    "        id = 'n_{}'.format(i)\n",
    "\n",
    "        agents[i].eta = eta[id]\n",
    "\n",
    "    for i in range(community_size):\n",
    "        id_1 = 'n_{}'.format(i)\n",
    "\n",
    "        for j in range(community_size):\n",
    "            id_2 = 'n_{}'.format(j)\n",
    "\n",
    "            for k in range(len(probabilities)):\n",
    "                proba = 'p_{}'.format(k)\n",
    "\n",
    "                agents[i].q[j][k] = q[(id_1, id_2, proba)]"
   ]
  },
  {
   "cell_type": "code",
   "execution_count": 37,
   "metadata": {},
   "outputs": [],
   "source": [
    "assign_ampl(d_ampl, g_ampl, eta_ampl, u_ampl, q_ampl, w_ampl, j_ampl, agents)"
   ]
  },
  {
   "cell_type": "markdown",
   "metadata": {},
   "source": [
    "## Gradient"
   ]
  },
  {
   "cell_type": "code",
   "execution_count": 38,
   "metadata": {},
   "outputs": [],
   "source": [
    "agents = []\n",
    "StackelbergPlayer.community_size = community_size\n",
    "StackelbergPlayer.probabilities = probabilities\n",
    "\n",
    "epsilon = 0.001\n",
    "alpha = [[proba/(1 - risk_aversion[i]) - epsilon for proba in probabilities] for i in range(community_size)]\n",
    "#alpha = [[0.2 for proba in probabilities] for i in range(community_size)]\n",
    "gamma = [proba/(1 - min(risk_aversion)) for proba in probabilities]\n",
    "\n",
    "j_max = [10 for i in range(community_size)]\n",
    "\n",
    "for i in range(community_size):\n",
    "    agent = StackelbergPlayer(i, d_target[i], \n",
    "                g_res[i], \n",
    "                a[i], \n",
    "                b[i], \n",
    "                d[i], \n",
    "                A_tilde[i], B_tilde[i], D_min[i], D_max[i], \n",
    "                G_min[i], G_max[i], risk_aversion[i], Kappa[i], Cost[i], connection_matrix[i],\n",
    "                probabilities = probabilities,\n",
    "                alpha = alpha[i], \n",
    "                gamma = gamma, \n",
    "                insurance_bound=j_max[i])\n",
    "    \n",
    "    agents.append(agent)"
   ]
  },
  {
   "cell_type": "code",
   "execution_count": 39,
   "metadata": {},
   "outputs": [
    {
     "data": {
      "text/plain": [
       "{'id': 0,\n",
       " 'D_target': array([1.3827677 , 0.08358222, 3.42654849]),\n",
       " 'G_res': array([2.89525613, 2.24829753, 0.50272594]),\n",
       " 'a': 0.5353027996733363,\n",
       " 'b': 0.048638223979889705,\n",
       " 'd': 0.25656978557764465,\n",
       " 'a_tilde': 0.36030143572119644,\n",
       " 'b_tilde': 0.43213666201039447,\n",
       " 'D_min': 0.0,\n",
       " 'D_max': 10.0,\n",
       " 'G_min': 0.0,\n",
       " 'G_max': 10.0,\n",
       " 'risk_aversion': 0.06910997716902567,\n",
       " 'probabilities': [0.333, 0.333, 0.333],\n",
       " 'probabilities_ind': [0, 1, 2],\n",
       " 'trading_cost': [0.0, 1.0, 1.0],\n",
       " 'connections': [0, 1, 1],\n",
       " 'kappa': array([ 0., 10., 10.]),\n",
       " 'G': array([0., 0., 0.]),\n",
       " 'D': array([0., 0., 0.]),\n",
       " 'eta': 0,\n",
       " 'u': array([0., 0., 0.]),\n",
       " 'q': array([[0., 0., 0.],\n",
       "        [0., 0., 0.],\n",
       "        [0., 0., 0.]]),\n",
       " 'grad_G': array([0., 0., 0.]),\n",
       " 'grad_D': array([0., 0., 0.]),\n",
       " 'grad_eta': 0,\n",
       " 'grad_u': array([0., 0., 0.]),\n",
       " 'grad_q': array([[0., 0., 0.],\n",
       "        [0., 0., 0.],\n",
       "        [0., 0., 0.]]),\n",
       " 'q_others': {},\n",
       " 'w_others': {},\n",
       " 'plot_d': [[], [], []],\n",
       " 'plot_g': [[], [], []],\n",
       " 'plot_u': [[], [], []],\n",
       " 'plot_eta': [],\n",
       " 'plot_q': [[[], [], []], [[], [], []], [[], [], []]],\n",
       " 'alpha': [0.3567221710759105, 0.3567221710759105, 0.3567221710759105],\n",
       " 'gamma': [0.3577221710759105, 0.3577221710759105, 0.3577221710759105],\n",
       " 'j_max': 10,\n",
       " 'j': array([0., 0., 0.]),\n",
       " 'w': array([0., 0., 0.]),\n",
       " 'grad_j': array([0., 0., 0.]),\n",
       " 'grad_w': array([0., 0., 0.]),\n",
       " 'plot_j': [[], [], []],\n",
       " 'plot_w': [[], [], []]}"
      ]
     },
     "execution_count": 39,
     "metadata": {},
     "output_type": "execute_result"
    }
   ],
   "source": [
    "agents[0].__dict__"
   ]
  },
  {
   "cell_type": "code",
   "execution_count": 40,
   "metadata": {},
   "outputs": [
    {
     "name": "stdout",
     "output_type": "stream",
     "text": [
      "Utility update:\n",
      "{'update_eta': 1, 'update_u': array([0.35772217, 0.35772217, 0.35772217])}\n",
      "-------\n",
      "D_min bound\n",
      "[0. 0. 0.]\n",
      "-------\n",
      "D_max bound\n",
      "[0 0 0]\n",
      "-------\n",
      "G_min bound\n",
      "[0. 0. 0.]\n",
      "-------\n",
      "G_max bound\n",
      "[0 0 0]\n",
      "-------\n",
      "Penalty supply-demand balance bound\n",
      "{'update_d': array([-2.89525613, -2.24829753, -0.50272594]), 'update_g': array([2.89525613, 2.24829753, 0.50272594]), 'update_q': array([[0.        , 0.        , 0.        ],\n",
      "       [2.89525613, 2.24829753, 0.50272594],\n",
      "       [2.89525613, 2.24829753, 0.50272594]]), 'violation': array([-2.89525613, -2.24829753, -0.50272594])}\n",
      "-------\n",
      "U bound\n",
      "[0. 0. 0.]\n",
      "-------\n",
      "Penalty trading bound\n",
      "[[0. 0. 0.]\n",
      " [0. 0. 0.]\n",
      " [0. 0. 0.]]\n",
      "-------\n",
      "Bilateral trading bound\n",
      "[[0. 0. 0.]\n",
      " [0. 0. 0.]\n",
      " [0. 0. 0.]]\n",
      "-------\n",
      "Penalty residual bound\n",
      "{'update_d': array([ -0.51151172,  -0.        , -10.01207532]), 'update_g': array([0.02496825, 0.        , 0.19721909]), 'update_eta': -4.568163027716107, 'update_u': array([-0.51334623, -0.        , -4.0548168 ]), 'update_q': array([[0.        , 0.        , 0.        ],\n",
      "       [0.51334623, 0.        , 4.0548168 ],\n",
      "       [0.51334623, 0.        , 4.0548168 ]])}\n",
      "----------------------------------------------\n",
      "Utility update:\n",
      "{'update_eta': 1, 'update_u': array([1.39777532, 1.39777532, 1.39777532])}\n",
      "-------\n",
      "D_min bound\n",
      "[0. 0. 0.]\n",
      "-------\n",
      "D_max bound\n",
      "[0 0 0]\n",
      "-------\n",
      "G_min bound\n",
      "[0. 0. 0.]\n",
      "-------\n",
      "G_max bound\n",
      "[0. 0. 0.]\n",
      "-------\n",
      "Penalty supply-demand balance bound\n",
      "{'update_d': array([-1.65867878, -2.91454574, -2.35188819]), 'update_g': array([1.65867878, 2.91454574, 2.35188819]), 'update_q': array([[1.65867878, 2.91454574, 2.35188819],\n",
      "       [0.        , 0.        , 0.        ],\n",
      "       [1.65867878, 2.91454574, 2.35188819]]), 'violation': array([-1.65867878, -2.91454574, -2.35188819])}\n",
      "-------\n",
      "U bound\n",
      "[0. 0. 0.]\n",
      "-------\n",
      "Penalty trading bound\n",
      "[[0. 0. 0.]\n",
      " [0. 0. 0.]\n",
      " [0. 0. 0.]]\n",
      "-------\n",
      "Bilateral trading bound\n",
      "[[0. 0. 0.]\n",
      " [0. 0. 0.]\n",
      " [0. 0. 0.]]\n",
      "-------\n",
      "Penalty residual bound\n",
      "{'update_d': array([-515.267174  , -230.62596126, -145.38974112]), 'update_g': array([7.8397904 , 4.58438233, 3.36868249]), 'update_eta': -87.08345506061966, 'update_u': array([-43.22942403, -25.27876354, -18.57526749]), 'update_q': array([[129.6882721 ,  75.83629061,  55.72580247],\n",
      "       [  0.        ,   0.        ,   0.        ],\n",
      "       [ 43.22942403,  25.27876354,  18.57526749]])}\n",
      "----------------------------------------------\n",
      "Utility update:\n",
      "{'update_eta': 1, 'update_u': array([20.57072569, 20.57072569, 20.57072569])}\n",
      "-------\n",
      "D_min bound\n",
      "[0. 0. 0.]\n",
      "-------\n",
      "D_max bound\n",
      "[0 0 0]\n",
      "-------\n",
      "G_min bound\n",
      "[0. 0. 0.]\n",
      "-------\n",
      "G_max bound\n",
      "[0. 0. 0.]\n",
      "-------\n",
      "Penalty supply-demand balance bound\n",
      "{'update_d': array([-0.11592936, -2.2813248 , -0.37504137]), 'update_g': array([0.11592936, 2.2813248 , 0.37504137]), 'update_q': array([[0.11592936, 2.2813248 , 0.37504137],\n",
      "       [0.11592936, 2.2813248 , 0.37504137],\n",
      "       [0.        , 0.        , 0.        ]]), 'violation': array([-0.11592936, -2.2813248 , -0.37504137])}\n",
      "-------\n",
      "U bound\n",
      "[0. 0. 0.]\n",
      "-------\n",
      "Penalty trading bound\n",
      "[[0. 0. 0.]\n",
      " [0. 0. 0.]\n",
      " [0. 0. 0.]]\n",
      "-------\n",
      "Bilateral trading bound\n",
      "[[0. 0. 0.]\n",
      " [0. 0. 0.]\n",
      " [0. 0. 0.]]\n",
      "-------\n",
      "Penalty residual bound\n",
      "{'update_d': array([  -7.94802849, -152.02314909, -272.66113976]), 'update_g': array([0.14420502, 1.09785641, 1.62615262]), 'update_eta': -52.06160895262787, 'update_u': array([ -2.61749821, -19.92744278, -29.51666796]), 'update_q': array([[ 5.23499642, 39.85488556, 59.03333592],\n",
      "       [ 2.61749821, 19.92744278, 29.51666796],\n",
      "       [ 0.        ,  0.        ,  0.        ]])}\n",
      "----------------------------------------------\n"
     ]
    }
   ],
   "source": [
    "for i in range(community_size):\n",
    "    print('Utility update:')\n",
    "    print(StackelbergGradientComputation.utility_grad(agents[i]))\n",
    "    print('-------')\n",
    "    print('D_min bound')\n",
    "    print(StackelbergGradientComputation.penalty_dmin(agents[i]))\n",
    "    print('-------')\n",
    "    print('D_max bound')\n",
    "    print(StackelbergGradientComputation.penalty_dmax(agents[i]))\n",
    "    print('-------')\n",
    "    print('G_min bound')\n",
    "    print(StackelbergGradientComputation.penalty_gmin(agents[i]))\n",
    "    print('-------')\n",
    "    print('G_max bound')\n",
    "    print(StackelbergGradientComputation.penalty_gmax(agents[i]))\n",
    "    print('-------')\n",
    "    print('Penalty supply-demand balance bound')\n",
    "    print(StackelbergGradientComputation.penalty_balance(agents[i]))\n",
    "    print('-------')\n",
    "    print('U bound')\n",
    "    print(StackelbergGradientComputation.penalty_u(agents[i]))\n",
    "    print('-------')\n",
    "    print('Penalty trading bound')\n",
    "    print(StackelbergGradientComputation.penalty_trading_bound(agents[i]))\n",
    "    print('-------')\n",
    "    print('Bilateral trading bound')\n",
    "    print(StackelbergGradientComputation.penalty_bilateral_trading(agents[i], agents))\n",
    "    print('-------')\n",
    "    print('Penalty residual bound')\n",
    "    print(StackelbergGradientComputation.penalty_residual(agents[i]))\n",
    "    print('----------------------------------------------')"
   ]
  },
  {
   "cell_type": "code",
   "execution_count": 41,
   "metadata": {},
   "outputs": [],
   "source": [
    "mu = 0.09\n",
    "rho = 900\n",
    "k = 0\n",
    "\n",
    "plot_penalty_residual = [[[] for j in range(len(probabilities))] for i in range(community_size)]\n",
    "plot_balance = [[[] for j in range(len(probabilities))] for i in range(community_size)]\n",
    "\n",
    "min_ra = min(risk_aversion)\n",
    "while k <= 10000:\n",
    "    #print(k)\n",
    "    #print('--------------------------')\n",
    "    for agent in agents:\n",
    "        #Update of grad_d of the agent\n",
    "\n",
    "        agent.grad_D = rho*(StackelbergGradientComputation.penalty_dmin(agent) \n",
    "                            + StackelbergGradientComputation.penalty_dmax(agent)\n",
    "                            + StackelbergGradientComputation.penalty_balance(agent)['update_d']\n",
    "                            + StackelbergGradientComputation.stackelberg_penalty_residual(agent)['update_d'])\n",
    "\n",
    "        agent.grad_G = rho*(StackelbergGradientComputation.penalty_gmin(agent) \n",
    "                            + StackelbergGradientComputation.penalty_gmax(agent)\n",
    "                            + StackelbergGradientComputation.penalty_balance(agent)['update_g']\n",
    "                            + StackelbergGradientComputation.stackelberg_penalty_residual(agent)['update_g'])\n",
    "\n",
    "        agent.grad_eta = (StackelbergGradientComputation.risk_utility_grad(agent, min_ra)['update_eta']\n",
    "                            + rho*StackelbergGradientComputation.stackelberg_penalty_residual(agent)['update_eta'])\n",
    "\n",
    "        agent.grad_u = (StackelbergGradientComputation.risk_utility_grad(agent, min_ra)['update_u']\n",
    "                            + rho*StackelbergGradientComputation.stackelberg_penalty_residual(agent)['update_u']\n",
    "                            + rho*StackelbergGradientComputation.penalty_u(agent))\n",
    "\n",
    "        agent.grad_q = rho*(StackelbergGradientComputation.penalty_trading_bound(agent)\n",
    "                            + StackelbergGradientComputation.stackelberg_penalty_residual(agent)['update_q']\n",
    "                            + StackelbergGradientComputation.penalty_balance(agent)['update_q']\n",
    "                            + StackelbergGradientComputation.penalty_bilateral_trading(agent, agents))\n",
    "\n",
    "        agent.grad_w = (5 * StackelbergGradientComputation.risk_utility_grad(agent, min_ra)['update_w']\n",
    "                            + 5 * rho * StackelbergGradientComputation.stackelberg_penalty_residual(agent)['update_w']\n",
    "                            + 5 * rho * StackelbergGradientComputation.penalty_risk_balance(agents))\n",
    "\n",
    "        agent.grad_j = (10 * StackelbergGradientComputation.risk_utility_grad(agent, min_ra)['update_j']\n",
    "                            + 10 * rho * StackelbergGradientComputation.stackelberg_penalty_residual(agent)['update_j']\n",
    "                            + 10 * rho * StackelbergGradientComputation.penalty_jmin(agent)\n",
    "                            + 10 * rho * StackelbergGradientComputation.penalty_jmax(agent))\n",
    "        \n",
    "\n",
    "        #print('Agent {} variables'.format(agent.id))\n",
    "        #print(agent.variables_to_vector())\n",
    "        #print('--------------------------------')\n",
    "\n",
    "    #Agent's variables update\n",
    "    for agent in agents:\n",
    "\n",
    "        N =  3000\n",
    "\n",
    "        agent.D = agent.D - mu/(N)*agent.grad_D\n",
    "        agent.G = agent.G - mu/(N)*agent.grad_G\n",
    "        agent.eta = agent.eta - mu/(N)*agent.grad_eta\n",
    "        agent.u = agent.u - mu/(N)*agent.grad_u\n",
    "        agent.q = agent.q - mu/(N)*agent.grad_q\n",
    "        agent.w = agent.w - 2 * mu/(N)*agent.grad_w\n",
    "        agent.j = agent.j - 5 * mu/(N)*agent.grad_j\n",
    "\n",
    "        agent.plot_eta.append(agent.eta)\n",
    "\n",
    "        for i in range(len(probabilities)):\n",
    "            agent.plot_d[i].append(agent.D[i])\n",
    "            agent.plot_g[i].append(agent.G[i])\n",
    "            agent.plot_u[i].append(agent.u[i])\n",
    "            agent.plot_w[i].append(agent.w[i])\n",
    "            agent.plot_j[i].append(agent.j[i])\n",
    "\n",
    "            plot_penalty_residual[agent.id][i].append(StackelbergGradientComputation.stackelberg_penalty_residual(agent)['violation'])\n",
    "            plot_balance[agent.id][i].append(StackelbergGradientComputation.penalty_balance(agent)['violation'])\n",
    "\n",
    "            for agent_2 in agents:\n",
    "                agent.plot_q[agent_2.id][i].append(agent.q[agent_2.id][i])\n",
    "    \n",
    "    \n",
    "\n",
    "    k +=1"
   ]
  },
  {
   "cell_type": "code",
   "execution_count": 42,
   "metadata": {},
   "outputs": [
    {
     "data": {
      "image/png": "[encoded data removed]",
      "text/plain": [
       "<Figure size 432x288 with 1 Axes>"
      ]
     },
     "metadata": {},
     "output_type": "display_data"
    },
    {
     "data": {
      "image/png": "[encoded data removed]",
      "text/plain": [
       "<Figure size 432x288 with 1 Axes>"
      ]
     },
     "metadata": {},
     "output_type": "display_data"
    },
    {
     "data": {
      "image/png": "[encoded data removed]",
      "text/plain": [
       "<Figure size 432x288 with 1 Axes>"
      ]
     },
     "metadata": {},
     "output_type": "display_data"
    }
   ],
   "source": [
    "for agent in agents:\n",
    "    for i in range(len(probabilities)):\n",
    "        plt.plot(agent.plot_d[i])\n",
    "    \n",
    "    plt.show()"
   ]
  },
  {
   "cell_type": "code",
   "execution_count": 43,
   "metadata": {},
   "outputs": [
    {
     "data": {
      "image/png": "[encoded data removed]",
      "text/plain": [
       "<Figure size 432x288 with 1 Axes>"
      ]
     },
     "metadata": {},
     "output_type": "display_data"
    },
    {
     "data": {
      "image/png": "[encoded data removed]",
      "text/plain": [
       "<Figure size 432x288 with 1 Axes>"
      ]
     },
     "metadata": {},
     "output_type": "display_data"
    },
    {
     "data": {
      "image/png": "[encoded data removed]",
      "text/plain": [
       "<Figure size 432x288 with 1 Axes>"
      ]
     },
     "metadata": {},
     "output_type": "display_data"
    }
   ],
   "source": [
    "for agent in agents:\n",
    "    for i in range(len(probabilities)):\n",
    "        plt.plot(agent.plot_g[i])\n",
    "    \n",
    "    plt.show()"
   ]
  },
  {
   "cell_type": "code",
   "execution_count": 44,
   "metadata": {},
   "outputs": [
    {
     "data": {
      "image/png": "[encoded data removed]",
      "text/plain": [
       "<Figure size 432x288 with 1 Axes>"
      ]
     },
     "metadata": {},
     "output_type": "display_data"
    },
    {
     "data": {
      "image/png": "[encoded data removed]",
      "text/plain": [
       "<Figure size 432x288 with 1 Axes>"
      ]
     },
     "metadata": {},
     "output_type": "display_data"
    },
    {
     "data": {
      "image/png": "[encoded data removed]",
      "text/plain": [
       "<Figure size 432x288 with 1 Axes>"
      ]
     },
     "metadata": {},
     "output_type": "display_data"
    }
   ],
   "source": [
    "for agent in agents:\n",
    "    for i in range(len(probabilities)):\n",
    "        plt.plot(agent.plot_w[i])\n",
    "    \n",
    "    plt.show()"
   ]
  },
  {
   "cell_type": "code",
   "execution_count": 45,
   "metadata": {},
   "outputs": [
    {
     "data": {
      "image/png": "[encoded data removed]",
      "text/plain": [
       "<Figure size 432x288 with 1 Axes>"
      ]
     },
     "metadata": {},
     "output_type": "display_data"
    },
    {
     "data": {
      "image/png": "[encoded data removed]",
      "text/plain": [
       "<Figure size 432x288 with 1 Axes>"
      ]
     },
     "metadata": {},
     "output_type": "display_data"
    },
    {
     "data": {
      "image/png": "[encoded data removed]",
      "text/plain": [
       "<Figure size 432x288 with 1 Axes>"
      ]
     },
     "metadata": {},
     "output_type": "display_data"
    }
   ],
   "source": [
    "for agent in agents:\n",
    "    for i in range(len(probabilities)):\n",
    "        plt.plot(agent.plot_j[i])\n",
    "    \n",
    "    plt.show()"
   ]
  },
  {
   "cell_type": "code",
   "execution_count": 46,
   "metadata": {},
   "outputs": [
    {
     "data": {
      "image/png": "[encoded data removed]",
      "text/plain": [
       "<Figure size 432x288 with 1 Axes>"
      ]
     },
     "metadata": {},
     "output_type": "display_data"
    },
    {
     "data": {
      "image/png": "[encoded data removed]",
      "text/plain": [
       "<Figure size 432x288 with 1 Axes>"
      ]
     },
     "metadata": {},
     "output_type": "display_data"
    },
    {
     "data": {
      "image/png": "[encoded data removed]",
      "text/plain": [
       "<Figure size 432x288 with 1 Axes>"
      ]
     },
     "metadata": {},
     "output_type": "display_data"
    }
   ],
   "source": [
    "for agent in agents:\n",
    "    for i in range(len(probabilities)):\n",
    "        plt.plot(plot_penalty_residual[agent.id][i])\n",
    "    \n",
    "    plt.show()\n"
   ]
  },
  {
   "cell_type": "code",
   "execution_count": 47,
   "metadata": {},
   "outputs": [
    {
     "data": {
      "image/png": "[encoded data removed]",
      "text/plain": [
       "<Figure size 432x288 with 1 Axes>"
      ]
     },
     "metadata": {},
     "output_type": "display_data"
    },
    {
     "data": {
      "image/png": "[encoded data removed]",
      "text/plain": [
       "<Figure size 432x288 with 1 Axes>"
      ]
     },
     "metadata": {},
     "output_type": "display_data"
    },
    {
     "data": {
      "image/png": "[encoded data removed]",
      "text/plain": [
       "<Figure size 432x288 with 1 Axes>"
      ]
     },
     "metadata": {},
     "output_type": "display_data"
    }
   ],
   "source": [
    "for agent in agents:\n",
    "    for i in range(len(probabilities)):\n",
    "        plt.plot(plot_balance[agent.id][i])\n",
    "    \n",
    "    plt.show()"
   ]
  },
  {
   "cell_type": "code",
   "execution_count": null,
   "metadata": {},
   "outputs": [],
   "source": []
  }
 ],
 "metadata": {
  "interpreter": {
   "hash": "b0fa6594d8f4cbf19f97940f81e996739fb7646882a419484c72d19e05852a7e"
  },
  "kernelspec": {
   "display_name": "Python 3.9.10 64-bit",
   "language": "python",
   "name": "python3"
  },
  "language_info": {
   "codemirror_mode": {
    "name": "ipython",
    "version": 3
   },
   "file_extension": ".py",
   "mimetype": "text/x-python",
   "name": "python",
   "nbconvert_exporter": "python",
   "pygments_lexer": "ipython3",
   "version": "3.9.10"
  },
  "orig_nbformat": 4
 },
 "nbformat": 4,
 "nbformat_minor": 2
}
