{
 "cells": [
  {
   "cell_type": "code",
   "execution_count": 1,
   "metadata": {},
   "outputs": [],
   "source": [
    "import torch\n",
    "import torch.nn as nn \n",
    "import torch.optim as optim"
   ]
  },
  {
   "cell_type": "code",
   "execution_count": 2,
   "metadata": {},
   "outputs": [],
   "source": [
    "import matplotlib.pyplot as plt"
   ]
  },
  {
   "cell_type": "code",
   "execution_count": 3,
   "metadata": {},
   "outputs": [],
   "source": [
    "import numpy as np"
   ]
  },
  {
   "cell_type": "code",
   "execution_count": 4,
   "metadata": {},
   "outputs": [],
   "source": [
    "community_size = 3\n",
    "\n",
    "D_min = [0.0,0.0,0.0]\n",
    "D_max = [10.0,10.0,10.0]\n",
    "\n",
    "G_min = [0.0,0.0,0.0]\n",
    "G_max = [10.0,0.0,0.0]\n",
    "\n",
    "Kappa = [[0.0, 10.0, 10.0],\n",
    "            [10.0, 0.0, 5.0],\n",
    "            [10.0, 5.0, 0.0]]\n",
    "\n",
    "Cost = [[0.0, -1.0, 1.0],\n",
    "        [3.0, 0.0, 1.0],\n",
    "        [2.0, 1.0, 0.0]]\n",
    "\n",
    "probabilities = [0.5, 0.5]\n",
    "\n",
    "#probabilities = [1]\n",
    "connection_matrix = [[0,1,1],[1,0,1],[1,1,0]]"
   ]
  },
  {
   "cell_type": "code",
   "execution_count": 5,
   "metadata": {},
   "outputs": [],
   "source": [
    "import random\n",
    "\n",
    "A_tilde = [random.uniform(0,1) for i in range(community_size)]\n",
    "B_tilde = [random.uniform(0,1) for i in range(community_size)]\n",
    "\n",
    "a = [random.uniform(0,1) for i in range(community_size)]\n",
    "b = [random.uniform(0,1) for i in range(community_size)]\n",
    "d = [random.uniform(0,1) for i in range(community_size)]\n",
    "\n",
    "d_target = [[random.uniform(0,8) for j in range(len(probabilities))] for i in range(community_size)]\n",
    "g_res = [[random.uniform(0,3) for j in range(len(probabilities))] for i in range(community_size)]\n",
    "\n",
    "g_res = np.array(g_res)\n",
    "d_target = np.array(d_target)\n",
    "\n",
    "risk_aversion = [random.uniform(0,1) for i in range(community_size)]"
   ]
  },
  {
   "cell_type": "code",
   "execution_count": 6,
   "metadata": {},
   "outputs": [],
   "source": [
    "from supplement_package.game.torch_grad import TorchPlayer, BasicFunctions\n",
    "\n",
    "agents = []\n",
    "\n",
    "TorchPlayer.community_size = community_size\n",
    "\n",
    "epsilon = 0.001\n",
    "alpha = [[proba/(1 - risk_aversion[i]) for proba in probabilities] for i in range(community_size)]\n",
    "#alpha = [[0.2 for proba in probabilities] for i in range(community_size)]\n",
    "gamma = [proba/(1 - min(risk_aversion)) for proba in probabilities]\n",
    "\n",
    "j_max = [10 for i in range(community_size)]\n",
    "\n",
    "for i in range(community_size):\n",
    "    agent = TorchPlayer(i, d_target[i], g_res[i], a[i], b[i], d[i], \n",
    "                A_tilde[i], B_tilde[i], D_min[i], D_max[i], \n",
    "                G_min[i], G_max[i], risk_aversion[i], Kappa[i], Cost[i], connection_matrix[i],\n",
    "                probabilities = probabilities,\n",
    "                alpha = alpha[i], \n",
    "                gamma = gamma, \n",
    "                insurance_bound=j_max[i])\n",
    "    \n",
    "    agents.append(agent)"
   ]
  },
  {
   "cell_type": "code",
   "execution_count": 7,
   "metadata": {},
   "outputs": [
    {
     "data": {
      "text/plain": [
       "{'probabilities': [0.5, 0.5],\n",
       " 'probabilities_ind': [0, 1],\n",
       " 'alpha': [0.5932788424805151, 0.5932788424805151],\n",
       " 'gamma': [0.5932788424805151, 0.5932788424805151],\n",
       " 'j_max': 10,\n",
       " 'plot_j': [[], []],\n",
       " 'plot_w': [[], []],\n",
       " 'id': 0,\n",
       " 'D_target': array([2.34462467, 5.91608551]),\n",
       " 'G_res': array([1.38249617, 1.53649006]),\n",
       " 'a': 0.7737397797923202,\n",
       " 'b': 0.010698591046815698,\n",
       " 'd': 0.2890211494311963,\n",
       " 'a_tilde': 0.05153662693608552,\n",
       " 'b_tilde': 0.6214403286594664,\n",
       " 'D_min': 0.0,\n",
       " 'D_max': 10.0,\n",
       " 'G_min': 0.0,\n",
       " 'G_max': 10.0,\n",
       " 'risk_aversion': 0.15722597167044372,\n",
       " 'q_others': {0: [[0, 0], [0, 0], [0, 0]],\n",
       "  1: [[0, 0], [0, 0], [0, 0]],\n",
       "  2: [[0, 0], [0, 0], [0, 0]]},\n",
       " 'w_others': {},\n",
       " 'trading_cost': [0.0, -1.0, 1.0],\n",
       " 'connections': [0, 1, 1],\n",
       " 'kappa': array([ 0., 10., 10.]),\n",
       " 'G': tensor([0., 0.], requires_grad=True),\n",
       " 'D': tensor([0., 0.], requires_grad=True),\n",
       " 'q': tensor([[0., 0.],\n",
       "         [0., 0.],\n",
       "         [0., 0.]], requires_grad=True),\n",
       " 'plot_d': [[], []],\n",
       " 'plot_g': [[], []],\n",
       " 'plot_u': [[], []],\n",
       " 'plot_eta': [],\n",
       " 'plot_q': [[[], []], [[], []], [[], []]]}"
      ]
     },
     "execution_count": 7,
     "metadata": {},
     "output_type": "execute_result"
    }
   ],
   "source": [
    "agents[0].__dict__"
   ]
  },
  {
   "cell_type": "code",
   "execution_count": 8,
   "metadata": {},
   "outputs": [],
   "source": [
    "import gurobipy as gp\n",
    "from supplement_package.gurobi_implementation.gurobi import Gurobi\n",
    "from supplement_package.gurobi_implementation.gurobi import GurobiSolution"
   ]
  },
  {
   "cell_type": "code",
   "execution_count": 9,
   "metadata": {},
   "outputs": [
    {
     "name": "stdout",
     "output_type": "stream",
     "text": [
      "Set parameter Username\n",
      "Academic license - for non-commercial use only - expires 2022-04-02\n",
      "Minimize\n",
      "<gurobi.QuadExpr: 21.89270055861034 + -0.24166809333507766 D_0_0 +\n",
      "-0.609790184213365 D_0_1 + 0.010698591046815698 G_0_0 + 0.010698591046815698 G_0_1 +\n",
      "-1.0 q_0_1_0 + -1.0 q_0_1_1 + q_0_2_0 + q_0_2_1 + -0.22625226827077907 D_1_0 +\n",
      "-0.9455117975243355 D_1_1 + 0.08648614914944686 G_1_0 + 0.08648614914944686 G_1_1\n",
      "+ 3.0 q_1_0_0 + 3.0 q_1_0_1 + q_1_2_0 + q_1_2_1 + -5.093828491244987 D_2_0 +\n",
      "-6.203635729656784 D_2_1 + 0.6492205217260607 G_2_0 + 0.6492205217260607 G_2_1\n",
      "+ 2.0 q_2_0_0 + 2.0 q_2_0_1 + q_2_1_0 + q_2_1_1 + [ 0.05153662693608552 D_0_0 ^ 2\n",
      "+ 0.05153662693608552 D_0_1 ^ 2 + 0.3868698898961601 G_0_0 ^ 2\n",
      "+ 0.3868698898961601 G_0_1 ^ 2 + 0.18641439978400764 D_1_0 ^ 2\n",
      "+ 0.18641439978400764 D_1_1 ^ 2 + 0.190782290603012 G_1_0 ^ 2\n",
      "+ 0.190782290603012 G_1_1 ^ 2 + 0.8721187938824766 D_2_0 ^ 2\n",
      "+ 0.8721187938824766 D_2_1 ^ 2 + 0.11901505398277018 G_2_0 ^ 2\n",
      "+ 0.11901505398277018 G_2_1 ^ 2 ]>\n",
      "Subject To\n",
      "  Bilateral trading for pair (0, 1) proba 0: <gurobi.LinExpr: q_0_1_0 + q_1_0_0> = 0\n",
      "  Bilateral trading for pair (0, 1) proba 1: <gurobi.LinExpr: q_0_1_1 + q_1_0_1> = 0\n",
      "  Bilateral trading for pair (0, 2) proba 0: <gurobi.LinExpr: q_0_2_0 + q_2_0_0> = 0\n",
      "  Bilateral trading for pair (0, 2) proba 1: <gurobi.LinExpr: q_0_2_1 + q_2_0_1> = 0\n",
      "SD balance for agent 0 proba 0: <gurobi.LinExpr: D_0_0 + -1.0 G_0_0 + -1.0 q_0_1_0 +\n",
      " -1.0 q_0_2_0> = 1.3825\n",
      "SD balance for agent 0 proba 1: <gurobi.LinExpr: D_0_1 + -1.0 G_0_1 + -1.0 q_0_1_1 +\n",
      " -1.0 q_0_2_1> = 1.53649\n",
      "  Bilateral trading for pair (1, 0) proba 0: <gurobi.LinExpr: q_0_1_0 + q_1_0_0> = 0\n",
      "  Bilateral trading for pair (1, 0) proba 1: <gurobi.LinExpr: q_0_1_1 + q_1_0_1> = 0\n",
      "  Bilateral trading for pair (1, 2) proba 0: <gurobi.LinExpr: q_1_2_0 + q_2_1_0> = 0\n",
      "  Bilateral trading for pair (1, 2) proba 1: <gurobi.LinExpr: q_1_2_1 + q_2_1_1> = 0\n",
      "SD balance for agent 1 proba 0: <gurobi.LinExpr: D_1_0 + -1.0 G_1_0 + -1.0 q_1_0_0 +\n",
      " -1.0 q_1_2_0> = 1.36454\n",
      "SD balance for agent 1 proba 1: <gurobi.LinExpr: D_1_1 + -1.0 G_1_1 + -1.0 q_1_0_1 +\n",
      " -1.0 q_1_2_1> = 0.205527\n",
      "  Bilateral trading for pair (2, 0) proba 0: <gurobi.LinExpr: q_0_2_0 + q_2_0_0> = 0\n",
      "  Bilateral trading for pair (2, 0) proba 1: <gurobi.LinExpr: q_0_2_1 + q_2_0_1> = 0\n",
      "  Bilateral trading for pair (2, 1) proba 0: <gurobi.LinExpr: q_1_2_0 + q_2_1_0> = 0\n",
      "  Bilateral trading for pair (2, 1) proba 1: <gurobi.LinExpr: q_1_2_1 + q_2_1_1> = 0\n",
      "SD balance for agent 2 proba 0: <gurobi.LinExpr: D_2_0 + -1.0 G_2_0 + -1.0 q_2_0_0 +\n",
      " -1.0 q_2_1_0> = 0.978357\n",
      "SD balance for agent 2 proba 1: <gurobi.LinExpr: D_2_1 + -1.0 G_2_1 + -1.0 q_2_0_1 +\n",
      " -1.0 q_2_1_1> = 0.215943\n",
      "Bounds\n",
      "  0 <= D_0_0 <= 10\n",
      "  0 <= D_0_1 <= 10\n",
      "  0 <= G_0_0 <= 10\n",
      "  0 <= G_0_1 <= 10\n",
      "  -10 <= q_0_1_0 <= 10\n",
      "  -10 <= q_0_1_1 <= 10\n",
      "  -10 <= q_0_2_0 <= 10\n",
      "  -10 <= q_0_2_1 <= 10\n",
      "  0 <= D_1_0 <= 10\n",
      "  0 <= D_1_1 <= 10\n",
      "  G_1_0 = 0\n",
      "  G_1_1 = 0\n",
      "  -10 <= q_1_0_0 <= 10\n",
      "  -10 <= q_1_0_1 <= 10\n",
      "  -5 <= q_1_2_0 <= 5\n",
      "  -5 <= q_1_2_1 <= 5\n",
      "  0 <= D_2_0 <= 10\n",
      "  0 <= D_2_1 <= 10\n",
      "  G_2_0 = 0\n",
      "  G_2_1 = 0\n",
      "  -10 <= q_2_0_0 <= 10\n",
      "  -10 <= q_2_0_1 <= 10\n",
      "  -5 <= q_2_1_0 <= 5\n",
      "  -5 <= q_2_1_1 <= 5\n"
     ]
    }
   ],
   "source": [
    "model_1 = gp.Model()\n",
    "setup = GurobiSolution(agents=agents,\n",
    "                model = model_1,\n",
    "                solution_type='initial')\n",
    "\n",
    "setup.build_model()\n",
    "\n",
    "model_1.display()"
   ]
  },
  {
   "cell_type": "code",
   "execution_count": 10,
   "metadata": {},
   "outputs": [
    {
     "name": "stdout",
     "output_type": "stream",
     "text": [
      "Gurobi Optimizer version 9.5.0 build v9.5.0rc5 (mac64[arm])\n",
      "Thread count: 8 physical cores, 8 logical processors, using up to 8 threads\n",
      "Optimize a model with 18 rows, 24 columns and 48 nonzeros\n",
      "Model fingerprint: 0xb0e09b96\n",
      "Model has 12 quadratic objective terms\n",
      "Coefficient statistics:\n",
      "  Matrix range     [1e+00, 1e+00]\n",
      "  Objective range  [1e-02, 6e+00]\n",
      "  QObjective range [1e-01, 2e+00]\n",
      "  Bounds range     [5e+00, 1e+01]\n",
      "  RHS range        [2e-01, 2e+00]\n",
      "Presolve removed 12 rows and 10 columns\n",
      "Presolve time: 0.00s\n",
      "Presolved: 6 rows, 14 columns, 20 nonzeros\n",
      "Presolved model has 8 quadratic objective terms\n",
      "Ordering time: 0.00s\n",
      "\n",
      "Barrier statistics:\n",
      " AA' NZ     : 6.000e+00\n",
      " Factor NZ  : 1.200e+01\n",
      " Factor Ops : 2.800e+01 (less than 1 second per iteration)\n",
      " Threads    : 1\n",
      "\n",
      "                  Objective                Residual\n",
      "Iter       Primal          Dual         Primal    Dual     Compl     Time\n",
      "   0   2.02652941e+06 -2.15469881e+06  2.50e+03 7.74e+02  1.00e+06     0s\n",
      "   1   9.10714542e+01 -1.38075805e+05  1.71e+00 5.28e-01  5.61e+03     0s\n",
      "   2   6.61348573e+01 -2.28319624e+03  5.02e-03 1.55e-03  8.40e+01     0s\n",
      "   3   3.60182541e+01 -1.18746016e+02  2.04e-04 6.31e-05  5.53e+00     0s\n",
      "   4  -2.15686182e+01 -4.91521400e+01  6.32e-06 1.96e-06  9.85e-01     0s\n",
      "   5  -2.78181394e+01 -2.89484551e+01  7.53e-08 2.33e-08  4.04e-02     0s\n",
      "   6  -2.80875866e+01 -2.81473869e+01  3.30e-10 1.02e-10  2.14e-03     0s\n",
      "   7  -2.81021237e+01 -2.81082022e+01  6.13e-14 5.44e-16  2.17e-04     0s\n",
      "   8  -2.81028717e+01 -2.81031959e+01  6.48e-13 8.88e-16  1.16e-05     0s\n",
      "   9  -2.81028782e+01 -2.81028785e+01  2.14e-12 2.20e-15  1.23e-08     0s\n",
      "  10  -2.81028782e+01 -2.81028782e+01  1.07e-12 8.88e-16  1.23e-11     0s\n",
      "\n",
      "Barrier solved model in 10 iterations and 0.01 seconds (0.00 work units)\n",
      "Optimal objective -2.81028782e+01\n",
      "\n"
     ]
    }
   ],
   "source": [
    "model_1.optimize()"
   ]
  },
  {
   "cell_type": "code",
   "execution_count": 11,
   "metadata": {},
   "outputs": [],
   "source": [
    "lr = 1e-2\n",
    "rho = 1500\n",
    "\n",
    "vars = []\n",
    "with torch.no_grad():\n",
    "    for agent in agents:\n",
    "        vars += [agent.G, agent.D, agent.q]\n",
    "\n",
    "#torch.autograd.set_detect_anomaly(True)\n",
    "    \n",
    "optimizer = optim.Adam(vars, lr = lr)\n",
    "\n",
    "for i in range(100000):\n",
    "    for agent in agents:\n",
    "        \n",
    "        utility = BasicFunctions.utility(agent) \n",
    "        penalty_SD_balance = BasicFunctions.penalty_SD_balance(agent)\n",
    "        penalty_demand_bounds_lower = BasicFunctions.penalty_demand_bounds_lower(agent)\n",
    "        penalty_demand_bounds_upper = BasicFunctions.penalty_demand_bounds_upper(agent)\n",
    "        penalty_generation_bounds_lower = BasicFunctions.penalty_generation_bounds_lower(agent)\n",
    "        penalty_generation_bounds_upper = BasicFunctions.penalty_generation_bounds_upper(agent)\n",
    "        penalty_trading_bound_lower = BasicFunctions.penalty_trading_bound_lower(agent)\n",
    "        penalty_trading_bound_upper = BasicFunctions.penalty_trading_bound_upper(agent)\n",
    "        penalty_bilateral_trading_bounds = BasicFunctions.penalty_bilateral_trading_bounds(agent)\n",
    "\n",
    "        loss = 0\n",
    "\n",
    "        for proba in agent.probabilities_ind:\n",
    "            loss += (utility[proba]\n",
    "                + rho * penalty_SD_balance[proba]\n",
    "                + rho * penalty_demand_bounds_lower[proba]\n",
    "                + rho * penalty_demand_bounds_upper[proba]\n",
    "                + rho * penalty_generation_bounds_lower[proba]\n",
    "                + rho * penalty_generation_bounds_upper[proba])\n",
    "\n",
    "            for agent_2, connection in enumerate(agent.connections):\n",
    "                if connection:\n",
    "                    loss += (rho * penalty_trading_bound_lower[agent_2][proba]\n",
    "                            + rho * penalty_trading_bound_upper[agent_2][proba]\n",
    "                            + rho * penalty_bilateral_trading_bounds[agent_2][proba])\n",
    "\n",
    "        loss.backward()\n",
    "\n",
    "        optimizer.step()\n",
    "\n",
    "        for proba in agent.probabilities_ind:\n",
    "            with torch.no_grad():\n",
    "                agent.plot_d[proba].append(agent.D.data.numpy()[proba])\n",
    "                agent.plot_g[proba].append(agent.G.data.numpy()[proba])\n",
    "                \n",
    "                for agent_2 in agents:\n",
    "                    agent.plot_q[agent_2.id][proba].append(agent.q.data.numpy()[agent_2.id][proba])\n",
    "\n",
    "        optimizer.zero_grad()\n",
    "\n",
    "    for agent in agents:      \n",
    "        for agent_2 in agents:\n",
    "            #for proba in agent.probabilities_ind:\n",
    "            agent_2.q_others[agent.id] = agent.q.data.numpy().tolist()"
   ]
  },
  {
   "cell_type": "code",
   "execution_count": 12,
   "metadata": {},
   "outputs": [
    {
     "data": {
      "text/plain": [
       "tensor(-28.1364, dtype=torch.float64)"
      ]
     },
     "execution_count": 12,
     "metadata": {},
     "output_type": "execute_result"
    }
   ],
   "source": [
    "total_cost = 0\n",
    "with torch.no_grad():\n",
    "    for agent in agents:\n",
    "        total_cost += sum(BasicFunctions.utility(agent))\n",
    "\n",
    "total_cost\n"
   ]
  },
  {
   "cell_type": "code",
   "execution_count": 13,
   "metadata": {},
   "outputs": [
    {
     "data": {
      "text/plain": [
       "-28.102878157466325"
      ]
     },
     "execution_count": 13,
     "metadata": {},
     "output_type": "execute_result"
    }
   ],
   "source": [
    "model_1.ObjVal"
   ]
  },
  {
   "cell_type": "code",
   "execution_count": 14,
   "metadata": {},
   "outputs": [
    {
     "data": {
      "text/plain": [
       "[<gurobi.Var D_0_0 (value 1.522589115025038)>,\n",
       " <gurobi.Var D_0_1 (value 0.08262487403318644)>,\n",
       " <gurobi.Var G_0_0 (value 0.0956798289805931)>,\n",
       " <gurobi.Var G_0_1 (value 0.7632736427698467)>,\n",
       " <gurobi.Var q_0_1_0 (value 6.364538330712286)>,\n",
       " <gurobi.Var q_0_1_1 (value 5.205527362734998)>,\n",
       " <gurobi.Var q_0_2_0 (value -6.320125218832672)>,\n",
       " <gurobi.Var q_0_2_1 (value -7.422666188075198)>,\n",
       " <gurobi.Var D_1_0 (value 1.8364272921227648e-13)>,\n",
       " <gurobi.Var D_1_1 (value 1.9595392230554926e-13)>,\n",
       " <gurobi.Var G_1_0 (value 0.0)>,\n",
       " <gurobi.Var G_1_1 (value 0.0)>,\n",
       " <gurobi.Var q_1_0_0 (value -6.364538330712286)>,\n",
       " <gurobi.Var q_1_0_1 (value -5.205527362734998)>,\n",
       " <gurobi.Var q_1_2_0 (value 4.999999999999764)>,\n",
       " <gurobi.Var q_1_2_1 (value 4.999999999999764)>,\n",
       " <gurobi.Var D_2_0 (value 2.298481950181307)>,\n",
       " <gurobi.Var D_2_1 (value 2.6386095510251097)>,\n",
       " <gurobi.Var G_2_0 (value 0.0)>,\n",
       " <gurobi.Var G_2_1 (value 0.0)>,\n",
       " <gurobi.Var q_2_0_0 (value 6.320125218832672)>,\n",
       " <gurobi.Var q_2_0_1 (value 7.422666188075198)>,\n",
       " <gurobi.Var q_2_1_0 (value -4.999999999999764)>,\n",
       " <gurobi.Var q_2_1_1 (value -4.999999999999764)>]"
      ]
     },
     "execution_count": 14,
     "metadata": {},
     "output_type": "execute_result"
    }
   ],
   "source": [
    "model_1.getVars()"
   ]
  },
  {
   "cell_type": "code",
   "execution_count": 15,
   "metadata": {},
   "outputs": [
    {
     "data": {
      "text/plain": [
       "[{'params': [tensor([0.0949, 0.7613], requires_grad=True),\n",
       "   tensor([1.5269, 0.0890], requires_grad=True),\n",
       "   tensor([[ 0.0000,  0.0000],\n",
       "           [ 6.3684,  5.2075],\n",
       "           [-6.3202, -7.4230]], requires_grad=True),\n",
       "   tensor([0.0010, 0.0011], requires_grad=True),\n",
       "   tensor([-0.0009, -0.0003], requires_grad=True),\n",
       "   tensor([[-6.3686, -5.2091],\n",
       "           [ 0.0000,  0.0000],\n",
       "           [ 5.0002,  4.9988]], requires_grad=True),\n",
       "   tensor([0.0003, 0.0012], requires_grad=True),\n",
       "   tensor([2.2983, 2.6391], requires_grad=True),\n",
       "   tensor([[ 6.3197,  7.4222],\n",
       "           [-4.9998, -4.9976],\n",
       "           [ 0.0000,  0.0000]], requires_grad=True)],\n",
       "  'lr': 0.01,\n",
       "  'betas': (0.9, 0.999),\n",
       "  'eps': 1e-08,\n",
       "  'weight_decay': 0,\n",
       "  'amsgrad': False}]"
      ]
     },
     "execution_count": 15,
     "metadata": {},
     "output_type": "execute_result"
    }
   ],
   "source": [
    "optimizer.param_groups"
   ]
  },
  {
   "cell_type": "code",
   "execution_count": 16,
   "metadata": {},
   "outputs": [
    {
     "data": {
      "image/png": "[encoded data removed]",
      "text/plain": [
       "<Figure size 432x288 with 1 Axes>"
      ]
     },
     "metadata": {},
     "output_type": "display_data"
    }
   ],
   "source": [
    "for agent in agents:\n",
    "    for agent_2 in agents:\n",
    "        for proba in agent.probabilities_ind:\n",
    "            plt.plot(agent.plot_q[agent_2.id][proba])"
   ]
  },
  {
   "cell_type": "code",
   "execution_count": 46,
   "metadata": {},
   "outputs": [],
   "source": [
    "A_tilde = [1, 2, 3]\n",
    "B_tilde = [4, 5, 6]\n",
    "\n",
    "a = [1, 1, 1]\n",
    "b = [-3, -4, -1]\n",
    "d = [2, 4, 1]\n",
    "\n",
    "d_target = [[1 for i in range(len(probabilities))], [2 for i in range(len(probabilities))], [3 for i in range(len(probabilities))]]\n",
    "g_res = [[2 for i in range(len(probabilities))], [3 for i in range(len(probabilities))], [4 for i in range(len(probabilities))]]\n",
    "\n",
    "g_res = np.array(g_res)\n",
    "d_target = np.array(d_target)\n",
    "\n",
    "risk_aversion = [random.uniform(0,1) for i in range(community_size)]"
   ]
  },
  {
   "cell_type": "code",
   "execution_count": 47,
   "metadata": {},
   "outputs": [],
   "source": [
    "D_min = [0.0,0.0,0.0]\n",
    "D_max = [10.0,10.0,10.0]\n",
    "\n",
    "G_min = [0.0,0.0,0.0]\n",
    "G_max = [10.0, 10.0, 10.0]\n",
    "\n",
    "Kappa = [[0.0, 10.0, 10.0],\n",
    "            [10.0, 0.0, 5.0],\n",
    "            [10.0, 5.0, 0.0]]\n",
    "\n",
    "Cost = [[0.0, -2.0, -1.0],\n",
    "        [3.0, 0.0, 1.0],\n",
    "        [-2.0, 1.0, 0.0]]\n",
    "\n",
    "#probabilities = [0.5, 0.5]\n",
    "\n",
    "probabilities = [1]\n",
    "connection_matrix = [[0,1,1],[1,0,1],[1,1,0]]"
   ]
  },
  {
   "cell_type": "code",
   "execution_count": 48,
   "metadata": {},
   "outputs": [],
   "source": [
    "agents = []\n",
    "\n",
    "TorchPlayer.community_size = community_size\n",
    "\n",
    "epsilon = 0.001\n",
    "alpha = [[proba/(1 - risk_aversion[i]) for proba in probabilities] for i in range(community_size)]\n",
    "#alpha = [[0.2 for proba in probabilities] for i in range(community_size)]\n",
    "gamma = [proba/(1 - min(risk_aversion)) for proba in probabilities]\n",
    "\n",
    "j_max = [10 for i in range(community_size)]\n",
    "\n",
    "for i in range(community_size):\n",
    "    agent = TorchPlayer(i, d_target[i], g_res[i], a[i], b[i], d[i], \n",
    "                A_tilde[i], B_tilde[i], D_min[i], D_max[i], \n",
    "                G_min[i], G_max[i], risk_aversion[i], Kappa[i], Cost[i], connection_matrix[i],\n",
    "                probabilities = probabilities,\n",
    "                alpha = alpha[i], \n",
    "                gamma = gamma, \n",
    "                insurance_bound=j_max[i])\n",
    "    \n",
    "    agents.append(agent)"
   ]
  },
  {
   "cell_type": "code",
   "execution_count": 49,
   "metadata": {},
   "outputs": [
    {
     "name": "stdout",
     "output_type": "stream",
     "text": [
      "Minimize\n",
      "<gurobi.QuadExpr: 28.0 + -3.0 G_0_0 + -2.0 D_0_0 + -2.0 q_0_1_0 + -1.0 q_0_2_0 +\n",
      "-4.0 G_1_0 + -8.0 D_1_0 + 3.0 q_1_0_0 + q_1_2_0 + -1.0 G_2_0 + -18.0 D_2_0 +\n",
      "-2.0 q_2_0_0 + q_2_1_0 + [ 0.5 G_0_0 ^ 2 + D_0_0 ^ 2 + 0.5 G_1_0 ^ 2 + 2.0 D_1_0 ^ 2\n",
      "+ 0.5 G_2_0 ^ 2 + 3.0 D_2_0 ^ 2 ]>\n",
      "Subject To\n",
      "SD balance for agent 0 proba 0: <gurobi.LinExpr: -1.0 G_0_0 + D_0_0 + -1.0 q_0_1_0 +\n",
      " -1.0 q_0_2_0> = 2\n",
      "  Bilateral trading for pair (0, 1) proba 0: <gurobi.LinExpr: q_0_1_0 + q_1_0_0> = 0\n",
      "  Bilateral trading for pair (0, 2) proba 0: <gurobi.LinExpr: q_0_2_0 + q_2_0_0> = 0\n",
      "SD balance for agent 1 proba 0: <gurobi.LinExpr: -1.0 G_1_0 + D_1_0 + -1.0 q_1_0_0 +\n",
      " -1.0 q_1_2_0> = 3\n",
      "  Bilateral trading for pair (1, 0) proba 0: <gurobi.LinExpr: q_0_1_0 + q_1_0_0> = 0\n",
      "  Bilateral trading for pair (1, 2) proba 0: <gurobi.LinExpr: q_1_2_0 + q_2_1_0> = 0\n",
      "SD balance for agent 2 proba 0: <gurobi.LinExpr: -1.0 G_2_0 + D_2_0 + -1.0 q_2_0_0 +\n",
      " -1.0 q_2_1_0> = 4\n",
      "  Bilateral trading for pair (2, 0) proba 0: <gurobi.LinExpr: q_0_2_0 + q_2_0_0> = 0\n",
      "  Bilateral trading for pair (2, 1) proba 0: <gurobi.LinExpr: q_1_2_0 + q_2_1_0> = 0\n",
      "Bounds\n",
      "  0 <= G_0_0 <= 10\n",
      "  0 <= D_0_0 <= 10\n",
      "  -10 <= q_0_1_0 <= 10\n",
      "  -10 <= q_0_2_0 <= 10\n",
      "  0 <= G_1_0 <= 10\n",
      "  0 <= D_1_0 <= 10\n",
      "  -10 <= q_1_0_0 <= 10\n",
      "  -5 <= q_1_2_0 <= 5\n",
      "  0 <= G_2_0 <= 10\n",
      "  0 <= D_2_0 <= 10\n",
      "  -10 <= q_2_0_0 <= 10\n",
      "  -5 <= q_2_1_0 <= 5\n"
     ]
    }
   ],
   "source": [
    "model_2 = gp.Model()\n",
    "setup = GurobiSolution(agents=agents,\n",
    "                model = model_2,\n",
    "                solution_type='test')\n",
    "\n",
    "setup.build_model()\n",
    "\n",
    "model_2.display()"
   ]
  },
  {
   "cell_type": "code",
   "execution_count": 50,
   "metadata": {},
   "outputs": [
    {
     "name": "stdout",
     "output_type": "stream",
     "text": [
      "Gurobi Optimizer version 9.5.0 build v9.5.0rc5 (mac64[arm])\n",
      "Thread count: 8 physical cores, 8 logical processors, using up to 8 threads\n",
      "Optimize a model with 9 rows, 12 columns and 24 nonzeros\n",
      "Model fingerprint: 0xf888d16c\n",
      "Model has 6 quadratic objective terms\n",
      "Coefficient statistics:\n",
      "  Matrix range     [1e+00, 1e+00]\n",
      "  Objective range  [1e+00, 2e+01]\n",
      "  QObjective range [1e+00, 6e+00]\n",
      "  Bounds range     [5e+00, 1e+01]\n",
      "  RHS range        [2e+00, 4e+00]\n",
      "Presolve removed 6 rows and 3 columns\n",
      "Presolve time: 0.00s\n",
      "Presolved: 3 rows, 9 columns, 12 nonzeros\n",
      "Presolved model has 6 quadratic objective terms\n",
      "Ordering time: 0.00s\n",
      "\n",
      "Barrier statistics:\n",
      " AA' NZ     : 3.000e+00\n",
      " Factor NZ  : 6.000e+00\n",
      " Factor Ops : 1.400e+01 (less than 1 second per iteration)\n",
      " Threads    : 1\n",
      "\n",
      "                  Objective                Residual\n",
      "Iter       Primal          Dual         Primal    Dual     Compl     Time\n",
      "   0   2.46006457e+06 -2.60408870e+06  2.38e+03 1.00e+03  1.01e+06     0s\n",
      "   1   4.69133260e+01 -1.31867676e+05  2.38e-03 1.00e-03  7.33e+03     0s\n",
      "   2   4.55856776e+01 -4.39267375e+02  5.46e-06 2.30e-06  2.69e+01     0s\n",
      "   3  -2.99240962e+01 -8.95109438e+01  1.44e-07 6.07e-08  3.31e+00     0s\n",
      "   4  -4.06117644e+01 -4.41141284e+01  1.44e-13 6.13e-14  1.95e-01     0s\n",
      "   5  -4.10535840e+01 -4.10716115e+01  1.78e-15 1.78e-15  1.00e-03     0s\n",
      "   6  -4.10543471e+01 -4.10543651e+01  1.78e-15 9.52e-16  1.00e-06     0s\n",
      "   7  -4.10543478e+01 -4.10543478e+01  1.78e-15 8.88e-16  1.00e-09     0s\n",
      "\n",
      "Barrier solved model in 7 iterations and 0.01 seconds (0.00 work units)\n",
      "Optimal objective -4.10543478e+01\n",
      "\n"
     ]
    }
   ],
   "source": [
    "model_2.optimize()"
   ]
  },
  {
   "cell_type": "code",
   "execution_count": 51,
   "metadata": {},
   "outputs": [
    {
     "data": {
      "text/plain": [
       "[<gurobi.Var G_0_0 (value 4.971446703319357e-11)>,\n",
       " <gurobi.Var D_0_0 (value 4.41304347739918)>,\n",
       " <gurobi.Var q_0_1_0 (value 7.7173913030431915)>,\n",
       " <gurobi.Var q_0_2_0 (value -5.30434782569373)>,\n",
       " <gurobi.Var G_1_0 (value 2.1739130429620945)>,\n",
       " <gurobi.Var D_1_0 (value 2.4565217398312855)>,\n",
       " <gurobi.Var q_1_0_0 (value -7.7173913030431915)>,\n",
       " <gurobi.Var q_1_2_0 (value 4.999999999912383)>,\n",
       " <gurobi.Var G_2_0 (value 6.718344988720693e-12)>,\n",
       " <gurobi.Var D_2_0 (value 4.304347825788069)>,\n",
       " <gurobi.Var q_2_0_0 (value 5.30434782569373)>,\n",
       " <gurobi.Var q_2_1_0 (value -4.999999999912383)>]"
      ]
     },
     "execution_count": 51,
     "metadata": {},
     "output_type": "execute_result"
    }
   ],
   "source": [
    "model_2.getVars()"
   ]
  },
  {
   "cell_type": "code",
   "execution_count": 52,
   "metadata": {},
   "outputs": [],
   "source": [
    "lr = 1e-2\n",
    "rho = 1500\n",
    "\n",
    "vars = []\n",
    "with torch.no_grad():\n",
    "    for agent in agents:\n",
    "        vars += [agent.G, agent.D, agent.q]\n",
    "\n",
    "#torch.autograd.set_detect_anomaly(True)\n",
    "    \n",
    "optimizer = optim.Adam(vars, lr = lr)\n",
    "\n",
    "for i in range(100000):\n",
    "    for agent in agents:\n",
    "        \n",
    "        utility = BasicFunctions.utility(agent)\n",
    "        penalty_SD_balance = BasicFunctions.penalty_SD_balance(agent)\n",
    "        penalty_demand_bounds_lower = BasicFunctions.penalty_demand_bounds_lower(agent)\n",
    "        penalty_demand_bounds_upper = BasicFunctions.penalty_demand_bounds_upper(agent)\n",
    "        penalty_generation_bounds_lower = BasicFunctions.penalty_generation_bounds_lower(agent)\n",
    "        penalty_generation_bounds_upper = BasicFunctions.penalty_generation_bounds_upper(agent)\n",
    "        penalty_trading_bounds_lower = BasicFunctions.penalty_trading_bound_lower(agent)\n",
    "        penalty_trading_bounds_upper = BasicFunctions.penalty_trading_bound_upper(agent)\n",
    "        penalty_bilateral_trading_bounds = BasicFunctions.penalty_bilateral_trading_bounds(agent)\n",
    "\n",
    "        loss = 0\n",
    "\n",
    "        for proba in agent.probabilities_ind:\n",
    "            loss += (utility[proba]\n",
    "                + rho * penalty_SD_balance[proba]\n",
    "                + rho * penalty_demand_bounds_lower[proba]\n",
    "                + rho * penalty_demand_bounds_upper[proba]\n",
    "                + rho * penalty_generation_bounds_lower[proba]\n",
    "                + rho * penalty_generation_bounds_upper[proba]\n",
    "                )\n",
    "\n",
    "            #print(f'Loss before adding penalty for proba {proba} equals {loss}')\n",
    "\n",
    "            \n",
    "            for agent_2, connection in enumerate(agent.connections):\n",
    "                if connection:\n",
    "                    loss += (rho * penalty_trading_bounds_lower[agent_2][proba]\n",
    "                            + rho * penalty_trading_bounds_upper[agent_2][proba]\n",
    "                            + rho * penalty_bilateral_trading_bounds[agent_2][proba])\n",
    "\n",
    "                    #print(f'Loss after penalty for agent {agent_2} and proba {proba} equals {loss}')\n",
    "\n",
    "        #print(f'Total loss equals {loss}')\n",
    "        \n",
    "        loss.backward()\n",
    "\n",
    "        optimizer.step()\n",
    "\n",
    "        for proba in agent.probabilities_ind:\n",
    "            with torch.no_grad():\n",
    "                agent.plot_d[proba].append(agent.D.data.numpy()[proba])\n",
    "                agent.plot_g[proba].append(agent.G.data.numpy()[proba])\n",
    "                \n",
    "                for agent_2 in agents:\n",
    "                    agent.plot_q[agent_2.id][proba].append(agent.q.data.numpy()[agent_2.id][proba])\n",
    "\n",
    "        optimizer.zero_grad()\n",
    "\n",
    "    for agent in agents:      \n",
    "        for agent_2 in agents:\n",
    "            #for proba in agent.probabilities_ind:\n",
    "            agent_2.q_others.update({agent.id : agent.q.data.numpy().tolist()})\n",
    "            #print(f'Agent #{agent_2.id} update of agent {agent.id}')\n",
    "            #print(agent.q.data.numpy().tolist())\n",
    "            #print('-------------------------------')"
   ]
  },
  {
   "cell_type": "code",
   "execution_count": 53,
   "metadata": {},
   "outputs": [
    {
     "data": {
      "text/plain": [
       "tensor(-41.1230, dtype=torch.float64)"
      ]
     },
     "execution_count": 53,
     "metadata": {},
     "output_type": "execute_result"
    }
   ],
   "source": [
    "total_cost = 0\n",
    "with torch.no_grad():\n",
    "    for agent in agents:\n",
    "        total_cost += sum(BasicFunctions.utility(agent))\n",
    "\n",
    "total_cost"
   ]
  },
  {
   "cell_type": "code",
   "execution_count": 54,
   "metadata": {},
   "outputs": [
    {
     "data": {
      "text/plain": [
       "[{'params': [tensor([-0.0029], requires_grad=True),\n",
       "   tensor([4.4112], requires_grad=True),\n",
       "   tensor([[ 0.0000],\n",
       "           [ 7.7220],\n",
       "           [-5.3133]], requires_grad=True),\n",
       "   tensor([2.1804], requires_grad=True),\n",
       "   tensor([2.4554], requires_grad=True),\n",
       "   tensor([[-7.7264],\n",
       "           [ 0.0000],\n",
       "           [ 4.9990]], requires_grad=True),\n",
       "   tensor([-0.0020], requires_grad=True),\n",
       "   tensor([4.3027], requires_grad=True),\n",
       "   tensor([[ 5.3096],\n",
       "           [-5.0009],\n",
       "           [ 0.0000]], requires_grad=True)],\n",
       "  'lr': 0.01,\n",
       "  'betas': (0.9, 0.999),\n",
       "  'eps': 1e-08,\n",
       "  'weight_decay': 0,\n",
       "  'amsgrad': False}]"
      ]
     },
     "execution_count": 54,
     "metadata": {},
     "output_type": "execute_result"
    }
   ],
   "source": [
    "optimizer.param_groups"
   ]
  },
  {
   "cell_type": "code",
   "execution_count": 55,
   "metadata": {},
   "outputs": [
    {
     "data": {
      "text/plain": [
       "[<gurobi.Var G_0_0 (value 4.971446703319357e-11)>,\n",
       " <gurobi.Var D_0_0 (value 4.41304347739918)>,\n",
       " <gurobi.Var q_0_1_0 (value 7.7173913030431915)>,\n",
       " <gurobi.Var q_0_2_0 (value -5.30434782569373)>,\n",
       " <gurobi.Var G_1_0 (value 2.1739130429620945)>,\n",
       " <gurobi.Var D_1_0 (value 2.4565217398312855)>,\n",
       " <gurobi.Var q_1_0_0 (value -7.7173913030431915)>,\n",
       " <gurobi.Var q_1_2_0 (value 4.999999999912383)>,\n",
       " <gurobi.Var G_2_0 (value 6.718344988720693e-12)>,\n",
       " <gurobi.Var D_2_0 (value 4.304347825788069)>,\n",
       " <gurobi.Var q_2_0_0 (value 5.30434782569373)>,\n",
       " <gurobi.Var q_2_1_0 (value -4.999999999912383)>]"
      ]
     },
     "execution_count": 55,
     "metadata": {},
     "output_type": "execute_result"
    }
   ],
   "source": [
    "model_2.getVars()"
   ]
  },
  {
   "cell_type": "code",
   "execution_count": null,
   "metadata": {},
   "outputs": [],
   "source": []
  }
 ],
 "metadata": {
  "interpreter": {
   "hash": "b0fa6594d8f4cbf19f97940f81e996739fb7646882a419484c72d19e05852a7e"
  },
  "kernelspec": {
   "display_name": "Python 3.9.10 64-bit",
   "language": "python",
   "name": "python3"
  },
  "language_info": {
   "codemirror_mode": {
    "name": "ipython",
    "version": 3
   },
   "file_extension": ".py",
   "mimetype": "text/x-python",
   "name": "python",
   "nbconvert_exporter": "python",
   "pygments_lexer": "ipython3",
   "version": "3.9.10"
  },
  "orig_nbformat": 4
 },
 "nbformat": 4,
 "nbformat_minor": 2
}
