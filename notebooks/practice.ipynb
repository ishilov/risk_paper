{
 "cells": [
  {
   "cell_type": "code",
   "execution_count": 1,
   "metadata": {},
   "outputs": [],
   "source": [
    "import torch\n",
    "import torch.nn as nn \n",
    "import torch.optim as optim"
   ]
  },
  {
   "cell_type": "code",
   "execution_count": 2,
   "metadata": {},
   "outputs": [],
   "source": [
    "import matplotlib.pyplot as plt"
   ]
  },
  {
   "cell_type": "code",
   "execution_count": 3,
   "metadata": {},
   "outputs": [],
   "source": [
    "import numpy as np"
   ]
  },
  {
   "cell_type": "code",
   "execution_count": 4,
   "metadata": {},
   "outputs": [],
   "source": [
    "community_size = 3\n",
    "\n",
    "D_min = [0.0,0.0,0.0]\n",
    "D_max = [10.0,10.0,10.0]\n",
    "\n",
    "G_min = [0.0,0.0,0.0]\n",
    "G_max = [10.0,0.0,0.0]\n",
    "\n",
    "Kappa = [[0.0, 10.0, 10.0],\n",
    "            [10.0, 0.0, 5.0],\n",
    "            [10.0, 5.0, 0.0]]\n",
    "\n",
    "Cost = [[0.0, 1.0, 1.0],\n",
    "        [3.0, 0.0, 1.0],\n",
    "        [2.0, 1.0, 0.0]]\n",
    "\n",
    "#probabilities = [0.5, 0.5]\n",
    "\n",
    "probabilities = [1]\n",
    "connection_matrix = [[0,1,1],[1,0,1],[1,1,0]]"
   ]
  },
  {
   "cell_type": "code",
   "execution_count": 5,
   "metadata": {},
   "outputs": [],
   "source": [
    "import random\n",
    "\n",
    "A_tilde = [random.uniform(0,1) for i in range(community_size)]\n",
    "B_tilde = [random.uniform(0,1) for i in range(community_size)]\n",
    "\n",
    "a = [random.uniform(0,1) for i in range(community_size)]\n",
    "b = [random.uniform(0,1) for i in range(community_size)]\n",
    "d = [random.uniform(0,1) for i in range(community_size)]\n",
    "\n",
    "d_target = [[random.uniform(0,8) for j in range(len(probabilities))] for i in range(community_size)]\n",
    "g_res = [[random.uniform(0,3) for j in range(len(probabilities))] for i in range(community_size)]\n",
    "\n",
    "g_res = np.array(g_res)\n",
    "d_target = np.array(d_target)\n",
    "\n",
    "risk_aversion = [random.uniform(0,1) for i in range(community_size)]"
   ]
  },
  {
   "cell_type": "code",
   "execution_count": 6,
   "metadata": {},
   "outputs": [],
   "source": [
    "from supplement_package.game.torch_grad import TorchPlayer, BasicFunctions\n",
    "\n",
    "agents = []\n",
    "\n",
    "TorchPlayer.community_size = community_size\n",
    "\n",
    "epsilon = 0.001\n",
    "alpha = [[proba/(1 - risk_aversion[i]) for proba in probabilities] for i in range(community_size)]\n",
    "#alpha = [[0.2 for proba in probabilities] for i in range(community_size)]\n",
    "gamma = [proba/(1 - min(risk_aversion)) for proba in probabilities]\n",
    "\n",
    "j_max = [10 for i in range(community_size)]\n",
    "\n",
    "for i in range(community_size):\n",
    "    agent = TorchPlayer(i, d_target[i], g_res[i], a[i], b[i], d[i], \n",
    "                A_tilde[i], B_tilde[i], D_min[i], D_max[i], \n",
    "                G_min[i], G_max[i], risk_aversion[i], Kappa[i], Cost[i], connection_matrix[i],\n",
    "                probabilities = probabilities,\n",
    "                alpha = alpha[i], \n",
    "                gamma = gamma, \n",
    "                insurance_bound=j_max[i])\n",
    "    \n",
    "    agents.append(agent)"
   ]
  },
  {
   "cell_type": "code",
   "execution_count": 7,
   "metadata": {},
   "outputs": [
    {
     "data": {
      "text/plain": [
       "{'probabilities': [1],\n",
       " 'probabilities_ind': [0],\n",
       " 'alpha': [6.270410247776456],\n",
       " 'gamma': [1.1555003067733352],\n",
       " 'j_max': 10,\n",
       " 'plot_j': [[]],\n",
       " 'plot_w': [[]],\n",
       " 'id': 0,\n",
       " 'D_target': array([1.39484972]),\n",
       " 'G_res': array([1.70808061]),\n",
       " 'a': 0.45698876878367545,\n",
       " 'b': 0.0058185652028283075,\n",
       " 'd': 0.8294007292319038,\n",
       " 'a_tilde': 0.11032372604300178,\n",
       " 'b_tilde': 0.11621546794340432,\n",
       " 'D_min': 0.0,\n",
       " 'D_max': 10.0,\n",
       " 'G_min': 0.0,\n",
       " 'G_max': 10.0,\n",
       " 'risk_aversion': 0.8405208015927492,\n",
       " 'q_others': {0: [[0], [0], [0]], 1: [[0], [0], [0]], 2: [[0], [0], [0]]},\n",
       " 'w_others': {},\n",
       " 'trading_cost': [0.0, 1.0, 1.0],\n",
       " 'connections': [0, 1, 1],\n",
       " 'kappa': array([ 0., 10., 10.]),\n",
       " 'G': tensor([0.], requires_grad=True),\n",
       " 'D': tensor([0.], requires_grad=True),\n",
       " 'q': tensor([[0.],\n",
       "         [0.],\n",
       "         [0.]], requires_grad=True),\n",
       " 'plot_d': [[]],\n",
       " 'plot_g': [[]],\n",
       " 'plot_u': [[]],\n",
       " 'plot_eta': [],\n",
       " 'plot_q': [[[]], [[]], [[]]]}"
      ]
     },
     "execution_count": 7,
     "metadata": {},
     "output_type": "execute_result"
    }
   ],
   "source": [
    "agents[0].__dict__"
   ]
  },
  {
   "cell_type": "code",
   "execution_count": 8,
   "metadata": {},
   "outputs": [],
   "source": [
    "import gurobipy as gp\n",
    "from supplement_package.gurobi_implementation.gurobi import Gurobi\n",
    "from supplement_package.gurobi_implementation.gurobi import GurobiSolution"
   ]
  },
  {
   "cell_type": "code",
   "execution_count": 9,
   "metadata": {},
   "outputs": [
    {
     "name": "stdout",
     "output_type": "stream",
     "text": [
      "Set parameter Username\n",
      "Academic license - for non-commercial use only - expires 2022-04-02\n",
      "Minimize\n",
      "<gurobi.QuadExpr: 110.53438359084994 + -0.3077700359753138 D_0_0\n",
      "+ 0.0058185652028283075 G_0_0 + q_0_1_0 + q_0_2_0 + -14.929125135027617 D_1_0\n",
      "+ 0.5743323478921354 G_1_0 + 3.0 q_1_0_0 + q_1_2_0 + -13.197025617919559 D_2_0\n",
      "+ 0.22075892024612043 G_2_0 + 2.0 q_2_0_0 + q_2_1_0 + [ 0.11032372604300178 D_0_0 ^ 2\n",
      "+ 0.22849438439183772 G_0_0 ^ 2 + 0.9582980713342019 D_1_0 ^ 2\n",
      "+ 0.029190636675781367 G_1_0 ^ 2 + 0.8573585362241909 D_2_0 ^ 2\n",
      "+ 0.1566941138599166 G_2_0 ^ 2 ]>\n",
      "Subject To\n",
      "  Bilateral trading for pair (0, 1) proba 0: <gurobi.LinExpr: q_0_1_0 + q_1_0_0> = 0\n",
      "  Bilateral trading for pair (0, 2) proba 0: <gurobi.LinExpr: q_0_2_0 + q_2_0_0> = 0\n",
      "SD balance for agent 0 proba 0: <gurobi.LinExpr: D_0_0 + -1.0 G_0_0 + -1.0 q_0_1_0 +\n",
      " -1.0 q_0_2_0> = 1.70808\n",
      "  Bilateral trading for pair (1, 0) proba 0: <gurobi.LinExpr: q_0_1_0 + q_1_0_0> = 0\n",
      "  Bilateral trading for pair (1, 2) proba 0: <gurobi.LinExpr: q_1_2_0 + q_2_1_0> = 0\n",
      "SD balance for agent 1 proba 0: <gurobi.LinExpr: D_1_0 + -1.0 G_1_0 + -1.0 q_1_0_0 +\n",
      " -1.0 q_1_2_0> = 0.366641\n",
      "  Bilateral trading for pair (2, 0) proba 0: <gurobi.LinExpr: q_0_2_0 + q_2_0_0> = 0\n",
      "  Bilateral trading for pair (2, 1) proba 0: <gurobi.LinExpr: q_1_2_0 + q_2_1_0> = 0\n",
      "SD balance for agent 2 proba 0: <gurobi.LinExpr: D_2_0 + -1.0 G_2_0 + -1.0 q_2_0_0 +\n",
      " -1.0 q_2_1_0> = 2.953\n",
      "Bounds\n",
      "  0 <= D_0_0 <= 10\n",
      "  0 <= G_0_0 <= 10\n",
      "  -10 <= q_0_1_0 <= 10\n",
      "  -10 <= q_0_2_0 <= 10\n",
      "  0 <= D_1_0 <= 10\n",
      "  G_1_0 = 0\n",
      "  -10 <= q_1_0_0 <= 10\n",
      "  -5 <= q_1_2_0 <= 5\n",
      "  0 <= D_2_0 <= 10\n",
      "  G_2_0 = 0\n",
      "  -10 <= q_2_0_0 <= 10\n",
      "  -5 <= q_2_1_0 <= 5\n"
     ]
    }
   ],
   "source": [
    "model_1 = gp.Model()\n",
    "setup = GurobiSolution(agents=agents,\n",
    "                model = model_1,\n",
    "                solution_type='initial')\n",
    "\n",
    "setup.build_model()\n",
    "\n",
    "model_1.display()"
   ]
  },
  {
   "cell_type": "code",
   "execution_count": 10,
   "metadata": {},
   "outputs": [
    {
     "name": "stdout",
     "output_type": "stream",
     "text": [
      "Gurobi Optimizer version 9.5.0 build v9.5.0rc5 (mac64[arm])\n",
      "Thread count: 8 physical cores, 8 logical processors, using up to 8 threads\n",
      "Optimize a model with 9 rows, 12 columns and 24 nonzeros\n",
      "Model fingerprint: 0x9a1b95b2\n",
      "Model has 6 quadratic objective terms\n",
      "Coefficient statistics:\n",
      "  Matrix range     [1e+00, 1e+00]\n",
      "  Objective range  [6e-03, 1e+01]\n",
      "  QObjective range [6e-02, 2e+00]\n",
      "  Bounds range     [5e+00, 1e+01]\n",
      "  RHS range        [4e-01, 3e+00]\n",
      "Presolve removed 6 rows and 5 columns\n",
      "Presolve time: 0.00s\n",
      "Presolved: 3 rows, 7 columns, 10 nonzeros\n",
      "Presolved model has 4 quadratic objective terms\n",
      "Ordering time: 0.00s\n",
      "\n",
      "Barrier statistics:\n",
      " AA' NZ     : 3.000e+00\n",
      " Factor NZ  : 6.000e+00\n",
      " Factor Ops : 1.400e+01 (less than 1 second per iteration)\n",
      " Threads    : 1\n",
      "\n",
      "                  Objective                Residual\n",
      "Iter       Primal          Dual         Primal    Dual     Compl     Time\n",
      "   0   1.12682466e+06 -1.21518278e+06  2.50e+03 8.78e+02  1.01e+06     0s\n",
      "   1   3.64441858e+01 -7.86777237e+04  6.16e-01 2.16e-01  5.87e+03     0s\n",
      "   2   3.62109995e+01 -1.74443621e+02  1.88e-04 6.60e-05  1.50e+01     0s\n",
      "   3   3.18522469e+01  2.39096409e+01  1.58e-06 5.55e-07  5.67e-01     0s\n",
      "   4   2.68284520e+01  2.63499159e+01  1.58e-12 5.55e-13  3.42e-02     0s\n",
      "   5   2.67349962e+01  2.67344613e+01  3.55e-15 4.44e-16  3.82e-05     0s\n",
      "   6   2.67348920e+01  2.67348914e+01  4.44e-16 4.44e-16  3.82e-08     0s\n",
      "   7   2.67348919e+01  2.67348919e+01  0.00e+00 8.88e-16  3.82e-11     0s\n",
      "\n",
      "Barrier solved model in 7 iterations and 0.01 seconds (0.00 work units)\n",
      "Optimal objective 2.67348919e+01\n",
      "\n"
     ]
    }
   ],
   "source": [
    "model_1.optimize()"
   ]
  },
  {
   "cell_type": "code",
   "execution_count": 11,
   "metadata": {},
   "outputs": [],
   "source": [
    "lr = 1e-4\n",
    "rho = 700\n",
    "\n",
    "vars = []\n",
    "with torch.no_grad():\n",
    "    for agent in agents:\n",
    "        vars += [agent.G, agent.D, agent.q]\n",
    "\n",
    "#torch.autograd.set_detect_anomaly(True)\n",
    "    \n",
    "optimizer = optim.SGD(vars, lr = lr, momentum=0.9, nesterov=True)\n",
    "\n",
    "for i in range(10000):\n",
    "    for agent in agents:\n",
    "        \n",
    "        utility = BasicFunctions.utility(agent) \n",
    "        penalty_SD_balance = BasicFunctions.penalty_SD_balance(agent)\n",
    "        penalty_demand_bounds_lower = BasicFunctions.penalty_demand_bounds_lower(agent)\n",
    "        penalty_demand_bounds_upper = BasicFunctions.penalty_demand_bounds_upper(agent)\n",
    "        penalty_generation_bounds_lower = BasicFunctions.penalty_generation_bounds_lower(agent)\n",
    "        penalty_generation_bounds_upper = BasicFunctions.penalty_generation_bounds_upper(agent)\n",
    "        penalty_trading_bound_lower = BasicFunctions.penalty_trading_bound_lower(agent)\n",
    "        penalty_trading_bound_upper = BasicFunctions.penalty_trading_bound_upper(agent)\n",
    "        penalty_bilateral_trading_bounds = BasicFunctions.penalty_bilateral_trading_bounds(agent)\n",
    "\n",
    "        loss = 0\n",
    "\n",
    "        for proba in agent.probabilities_ind:\n",
    "            loss += (utility[proba]\n",
    "                + rho * penalty_SD_balance[proba]\n",
    "                + rho * penalty_demand_bounds_lower[proba]\n",
    "                + rho * penalty_demand_bounds_upper[proba]\n",
    "                + rho * penalty_generation_bounds_lower[proba]\n",
    "                + rho * penalty_generation_bounds_upper[proba])\n",
    "\n",
    "            for agent_2, connection in enumerate(agent.connections):\n",
    "                if connection:\n",
    "                    loss += (rho * penalty_trading_bound_lower[agent_2][proba]\n",
    "                            + rho * penalty_trading_bound_upper[agent_2][proba]\n",
    "                            + rho * penalty_bilateral_trading_bounds[agent_2][proba])\n",
    "\n",
    "        loss.backward()\n",
    "\n",
    "        optimizer.step()\n",
    "\n",
    "        for proba in agent.probabilities_ind:\n",
    "            with torch.no_grad():\n",
    "                agent.plot_d[proba].append(agent.D.data.numpy()[proba])\n",
    "                agent.plot_g[proba].append(agent.G.data.numpy()[proba])\n",
    "                \n",
    "                for agent_2 in agents:\n",
    "                    agent.plot_q[agent_2.id][proba].append(agent.q.data.numpy()[agent_2.id][proba])\n",
    "\n",
    "        optimizer.zero_grad()\n",
    "\n",
    "    for agent in agents:      \n",
    "        for agent_2 in agents:\n",
    "            #for proba in agent.probabilities_ind:\n",
    "            agent_2.q_others[agent.id] = agent.q.data.numpy().tolist()"
   ]
  },
  {
   "cell_type": "code",
   "execution_count": 12,
   "metadata": {},
   "outputs": [
    {
     "data": {
      "text/plain": [
       "tensor(29.8691, dtype=torch.float64)"
      ]
     },
     "execution_count": 12,
     "metadata": {},
     "output_type": "execute_result"
    }
   ],
   "source": [
    "total_cost = 0\n",
    "with torch.no_grad():\n",
    "    for agent in agents:\n",
    "        total_cost += sum(BasicFunctions.utility(agent))\n",
    "\n",
    "total_cost\n"
   ]
  },
  {
   "cell_type": "code",
   "execution_count": 13,
   "metadata": {},
   "outputs": [
    {
     "data": {
      "text/plain": [
       "26.7348918562721"
      ]
     },
     "execution_count": 13,
     "metadata": {},
     "output_type": "execute_result"
    }
   ],
   "source": [
    "model_1.ObjVal"
   ]
  },
  {
   "cell_type": "code",
   "execution_count": 14,
   "metadata": {},
   "outputs": [
    {
     "data": {
      "text/plain": [
       "[<gurobi.Var D_0_0 (value 3.4987237012695337e-11)>,\n",
       " <gurobi.Var G_0_0 (value 5.863904023086756)>,\n",
       " <gurobi.Var q_0_1_0 (value 0.021974006648219913)>,\n",
       " <gurobi.Var q_0_2_0 (value -7.593958640724189)>,\n",
       " <gurobi.Var D_1_0 (value 5.344667069915031)>,\n",
       " <gurobi.Var G_1_0 (value 0.0)>,\n",
       " <gurobi.Var q_1_0_0 (value -0.021974006648219913)>,\n",
       " <gurobi.Var q_1_2_0 (value 4.999999999978893)>,\n",
       " <gurobi.Var D_2_0 (value 5.5469610268130465)>,\n",
       " <gurobi.Var G_2_0 (value 0.0)>,\n",
       " <gurobi.Var q_2_0_0 (value 7.593958640724189)>,\n",
       " <gurobi.Var q_2_1_0 (value -4.999999999978893)>]"
      ]
     },
     "execution_count": 14,
     "metadata": {},
     "output_type": "execute_result"
    }
   ],
   "source": [
    "model_1.getVars()"
   ]
  },
  {
   "cell_type": "code",
   "execution_count": 15,
   "metadata": {},
   "outputs": [
    {
     "data": {
      "text/plain": [
       "[{'params': [tensor([5.7694], requires_grad=True),\n",
       "   tensor([-0.0017], requires_grad=True),\n",
       "   tensor([[ 0.0000],\n",
       "           [-3.2496],\n",
       "           [-4.2315]], requires_grad=True),\n",
       "   tensor([0.0027], requires_grad=True),\n",
       "   tensor([5.4827], requires_grad=True),\n",
       "   tensor([[3.2507],\n",
       "           [0.0000],\n",
       "           [1.8594]], requires_grad=True),\n",
       "   tensor([0.0027], requires_grad=True),\n",
       "   tensor([5.3343], requires_grad=True),\n",
       "   tensor([[ 4.2328],\n",
       "           [-1.8571],\n",
       "           [ 0.0000]], requires_grad=True)],\n",
       "  'lr': 0.0001,\n",
       "  'momentum': 0.9,\n",
       "  'dampening': 0,\n",
       "  'weight_decay': 0,\n",
       "  'nesterov': True}]"
      ]
     },
     "execution_count": 15,
     "metadata": {},
     "output_type": "execute_result"
    }
   ],
   "source": [
    "optimizer.param_groups"
   ]
  },
  {
   "cell_type": "code",
   "execution_count": 16,
   "metadata": {},
   "outputs": [
    {
     "data": {
      "image/png": "[encoded data removed]",
      "text/plain": [
       "<Figure size 432x288 with 1 Axes>"
      ]
     },
     "metadata": {},
     "output_type": "display_data"
    }
   ],
   "source": [
    "for agent in agents:\n",
    "    for proba in agent.probabilities_ind:\n",
    "        plt.plot(agent.plot_g[proba])"
   ]
  },
  {
   "cell_type": "code",
   "execution_count": 17,
   "metadata": {},
   "outputs": [],
   "source": [
    "A_tilde = [1, 2, 3]\n",
    "B_tilde = [4, 5, 6]\n",
    "\n",
    "a = [1, 1, 1]\n",
    "b = [-3, -4, -1]\n",
    "d = [2, 4, 1]\n",
    "\n",
    "d_target = [[1 for i in range(len(probabilities))], [2 for i in range(len(probabilities))], [3 for i in range(len(probabilities))]]\n",
    "g_res = [[2 for i in range(len(probabilities))], [3 for i in range(len(probabilities))], [4 for i in range(len(probabilities))]]\n",
    "\n",
    "g_res = np.array(g_res)\n",
    "d_target = np.array(d_target)\n",
    "\n",
    "risk_aversion = [random.uniform(0,1) for i in range(community_size)]"
   ]
  },
  {
   "cell_type": "code",
   "execution_count": 18,
   "metadata": {},
   "outputs": [],
   "source": [
    "D_min = [0.0,0.0,0.0]\n",
    "D_max = [10.0,10.0,10.0]\n",
    "\n",
    "G_min = [0.0,0.0,0.0]\n",
    "G_max = [10.0, 10.0, 10.0]\n",
    "\n",
    "Kappa = [[0.0, 10.0, 10.0],\n",
    "            [10.0, 0.0, 5.0],\n",
    "            [10.0, 5.0, 0.0]]\n",
    "\n",
    "Cost = [[0.0, -2.0, -1.0],\n",
    "        [3.0, 0.0, 1.0],\n",
    "        [-2.0, 1.0, 0.0]]\n",
    "\n",
    "#probabilities = [0.5, 0.5]\n",
    "\n",
    "probabilities = [1]\n",
    "connection_matrix = [[0,1,1],[1,0,1],[1,1,0]]"
   ]
  },
  {
   "cell_type": "code",
   "execution_count": 19,
   "metadata": {},
   "outputs": [],
   "source": [
    "agents = []\n",
    "\n",
    "TorchPlayer.community_size = community_size\n",
    "\n",
    "epsilon = 0.001\n",
    "alpha = [[proba/(1 - risk_aversion[i]) for proba in probabilities] for i in range(community_size)]\n",
    "#alpha = [[0.2 for proba in probabilities] for i in range(community_size)]\n",
    "gamma = [proba/(1 - min(risk_aversion)) for proba in probabilities]\n",
    "\n",
    "j_max = [10 for i in range(community_size)]\n",
    "\n",
    "for i in range(community_size):\n",
    "    agent = TorchPlayer(i, d_target[i], g_res[i], a[i], b[i], d[i], \n",
    "                A_tilde[i], B_tilde[i], D_min[i], D_max[i], \n",
    "                G_min[i], G_max[i], risk_aversion[i], Kappa[i], Cost[i], connection_matrix[i],\n",
    "                probabilities = probabilities,\n",
    "                alpha = alpha[i], \n",
    "                gamma = gamma, \n",
    "                insurance_bound=j_max[i])\n",
    "    \n",
    "    agents.append(agent)"
   ]
  },
  {
   "cell_type": "code",
   "execution_count": 20,
   "metadata": {},
   "outputs": [
    {
     "name": "stdout",
     "output_type": "stream",
     "text": [
      "Minimize\n",
      "<gurobi.QuadExpr: 28.0 + -3.0 G_0_0 + -2.0 D_0_0 + -2.0 q_0_1_0 + -1.0 q_0_2_0 +\n",
      "-4.0 G_1_0 + -8.0 D_1_0 + 3.0 q_1_0_0 + q_1_2_0 + -1.0 G_2_0 + -18.0 D_2_0 +\n",
      "-2.0 q_2_0_0 + q_2_1_0 + [ 0.5 G_0_0 ^ 2 + D_0_0 ^ 2 + 0.5 G_1_0 ^ 2 + 2.0 D_1_0 ^ 2\n",
      "+ 0.5 G_2_0 ^ 2 + 3.0 D_2_0 ^ 2 ]>\n",
      "Subject To\n",
      "SD balance for agent 0 proba 0: <gurobi.LinExpr: -1.0 G_0_0 + D_0_0 + -1.0 q_0_1_0 +\n",
      " -1.0 q_0_2_0> = 2\n",
      "SD balance for agent 1 proba 0: <gurobi.LinExpr: -1.0 G_1_0 + D_1_0 + -1.0 q_1_0_0 +\n",
      " -1.0 q_1_2_0> = 3\n",
      "SD balance for agent 2 proba 0: <gurobi.LinExpr: -1.0 G_2_0 + D_2_0 + -1.0 q_2_0_0 +\n",
      " -1.0 q_2_1_0> = 4\n",
      "Bounds\n",
      "  0 <= G_0_0 <= 10\n",
      "  0 <= D_0_0 <= 10\n",
      "  -10 <= q_0_1_0 <= 10\n",
      "  -10 <= q_0_2_0 <= 10\n",
      "  0 <= G_1_0 <= 10\n",
      "  0 <= D_1_0 <= 10\n",
      "  -10 <= q_1_0_0 <= 10\n",
      "  -5 <= q_1_2_0 <= 5\n",
      "  0 <= G_2_0 <= 10\n",
      "  0 <= D_2_0 <= 10\n",
      "  -10 <= q_2_0_0 <= 10\n",
      "  -5 <= q_2_1_0 <= 5\n"
     ]
    }
   ],
   "source": [
    "model_2 = gp.Model()\n",
    "setup = GurobiSolution(agents=agents,\n",
    "                model = model_2,\n",
    "                solution_type='test')\n",
    "\n",
    "setup.build_model()\n",
    "\n",
    "model_2.display()"
   ]
  },
  {
   "cell_type": "code",
   "execution_count": 21,
   "metadata": {},
   "outputs": [
    {
     "name": "stdout",
     "output_type": "stream",
     "text": [
      "Gurobi Optimizer version 9.5.0 build v9.5.0rc5 (mac64[arm])\n",
      "Thread count: 8 physical cores, 8 logical processors, using up to 8 threads\n",
      "Optimize a model with 3 rows, 12 columns and 12 nonzeros\n",
      "Model fingerprint: 0x583224ae\n",
      "Model has 6 quadratic objective terms\n",
      "Coefficient statistics:\n",
      "  Matrix range     [1e+00, 1e+00]\n",
      "  Objective range  [1e+00, 2e+01]\n",
      "  QObjective range [1e+00, 6e+00]\n",
      "  Bounds range     [5e+00, 1e+01]\n",
      "  RHS range        [2e+00, 4e+00]\n",
      "Presolve time: 0.00s\n",
      "Presolved: 3 rows, 12 columns, 12 nonzeros\n",
      "Presolved model has 6 quadratic objective terms\n",
      "Ordering time: 0.00s\n",
      "\n",
      "Barrier statistics:\n",
      " AA' NZ     : 0.000e+00\n",
      " Factor NZ  : 3.000e+00\n",
      " Factor Ops : 3.000e+00 (less than 1 second per iteration)\n",
      " Threads    : 1\n",
      "\n",
      "                  Objective                Residual\n",
      "Iter       Primal          Dual         Primal    Dual     Compl     Time\n",
      "   0   2.45680975e+06 -2.63375807e+06  2.38e+03 1.00e+03  1.01e+06     0s\n",
      "   1   3.71514371e+01 -1.56648805e+05  2.38e-03 1.00e-03  6.53e+03     0s\n",
      "   2   3.56877508e+01 -5.26979139e+02  5.27e-06 2.22e-06  2.34e+01     0s\n",
      "   3  -4.63273156e+01 -9.61827008e+01  1.73e-08 7.30e-09  2.08e+00     0s\n",
      "   4  -6.34948071e+01 -6.92294470e+01  2.48e-10 1.05e-10  2.39e-01     0s\n",
      "   5  -6.43863421e+01 -6.46506406e+01  1.78e-15 1.33e-15  1.10e-02     0s\n",
      "   6  -6.44579534e+01 -6.44604776e+01  1.78e-15 8.88e-16  1.05e-04     0s\n",
      "   7  -6.44583330e+01 -6.44583355e+01  1.78e-15 8.88e-16  1.06e-07     0s\n",
      "   8  -6.44583333e+01 -6.44583333e+01  8.88e-16 4.44e-16  1.06e-10     0s\n",
      "\n",
      "Barrier solved model in 8 iterations and 0.01 seconds (0.00 work units)\n",
      "Optimal objective -6.44583333e+01\n",
      "\n"
     ]
    }
   ],
   "source": [
    "model_2.optimize()"
   ]
  },
  {
   "cell_type": "code",
   "execution_count": 22,
   "metadata": {},
   "outputs": [
    {
     "data": {
      "text/plain": [
       "[<gurobi.Var G_0_0 (value 1.0000000018725705)>,\n",
       " <gurobi.Var D_0_0 (value 1.9999999994916602)>,\n",
       " <gurobi.Var q_0_1_0 (value 8.999999997614083)>,\n",
       " <gurobi.Var q_0_2_0 (value -9.999999999994994)>,\n",
       " <gurobi.Var G_1_0 (value 5.0000000000467795)>,\n",
       " <gurobi.Var D_1_0 (value 1.749999999990416)>,\n",
       " <gurobi.Var q_1_0_0 (value -9.999999999994717)>,\n",
       " <gurobi.Var q_1_2_0 (value 3.7499999999383533)>,\n",
       " <gurobi.Var G_2_0 (value 3.496314516161676e-10)>,\n",
       " <gurobi.Var D_2_0 (value 3.3333333333330293)>,\n",
       " <gurobi.Var q_2_0_0 (value 4.333333332979025)>,\n",
       " <gurobi.Var q_2_1_0 (value -4.9999999999956275)>]"
      ]
     },
     "execution_count": 22,
     "metadata": {},
     "output_type": "execute_result"
    }
   ],
   "source": [
    "model_2.getVars()"
   ]
  },
  {
   "cell_type": "code",
   "execution_count": 23,
   "metadata": {},
   "outputs": [],
   "source": [
    "lr = 1e-4\n",
    "rho = 1000\n",
    "\n",
    "vars = []\n",
    "with torch.no_grad():\n",
    "    for agent in agents:\n",
    "        vars += [agent.G, agent.D, agent.q]\n",
    "\n",
    "#torch.autograd.set_detect_anomaly(True)\n",
    "    \n",
    "optimizer = optim.Adam(vars, lr = lr)\n",
    "\n",
    "for i in range(100000):\n",
    "    for agent in agents:\n",
    "        \n",
    "        utility = BasicFunctions.utility(agent)\n",
    "        penalty_SD_balance = BasicFunctions.penalty_SD_balance(agent)\n",
    "        penalty_demand_bounds_lower = BasicFunctions.penalty_demand_bounds_lower(agent)\n",
    "        penalty_demand_bounds_upper = BasicFunctions.penalty_demand_bounds_upper(agent)\n",
    "        penalty_generation_bounds_lower = BasicFunctions.penalty_generation_bounds_lower(agent)\n",
    "        penalty_generation_bounds_upper = BasicFunctions.penalty_generation_bounds_upper(agent)\n",
    "        penalty_trading_bounds_lower = BasicFunctions.penalty_trading_bound_lower(agent)\n",
    "        penalty_trading_bounds_upper = BasicFunctions.penalty_trading_bound_upper(agent)\n",
    "\n",
    "        loss = 0\n",
    "\n",
    "        for proba in agent.probabilities_ind:\n",
    "            loss += (utility[proba]\n",
    "                + rho * penalty_SD_balance[proba]\n",
    "                + rho * penalty_demand_bounds_lower[proba]\n",
    "                + rho * penalty_demand_bounds_upper[proba]\n",
    "                + rho * penalty_generation_bounds_lower[proba]\n",
    "                + rho * penalty_generation_bounds_upper[proba])\n",
    "\n",
    "            #print(f'Loss before adding penalty for proba {proba} equals {loss}')\n",
    "\n",
    "            \n",
    "            for agent_2, connection in enumerate(agent.connections):\n",
    "                if connection:\n",
    "                    loss += (rho * penalty_trading_bounds_lower[agent_2][proba]\n",
    "                            + rho * penalty_trading_bounds_upper[agent_2][proba])\n",
    "\n",
    "                    #print(f'Loss after penalty for agent {agent_2} and proba {proba} equals {loss}')\n",
    "\n",
    "        #print(f'Total loss equals {loss}')\n",
    "        \n",
    "        loss.backward()\n",
    "\n",
    "        optimizer.step()\n",
    "\n",
    "        for proba in agent.probabilities_ind:\n",
    "            with torch.no_grad():\n",
    "                agent.plot_d[proba].append(agent.D.data.numpy()[proba])\n",
    "                \n",
    "        optimizer.zero_grad()"
   ]
  },
  {
   "cell_type": "code",
   "execution_count": 24,
   "metadata": {},
   "outputs": [
    {
     "data": {
      "text/plain": [
       "tensor(-64.4703, dtype=torch.float64)"
      ]
     },
     "execution_count": 24,
     "metadata": {},
     "output_type": "execute_result"
    }
   ],
   "source": [
    "total_cost = 0\n",
    "with torch.no_grad():\n",
    "    for agent in agents:\n",
    "        total_cost += sum(BasicFunctions.utility(agent))\n",
    "\n",
    "total_cost"
   ]
  },
  {
   "cell_type": "code",
   "execution_count": 25,
   "metadata": {},
   "outputs": [
    {
     "data": {
      "text/plain": [
       "[{'params': [tensor([1.0002], requires_grad=True),\n",
       "   tensor([1.9999], requires_grad=True),\n",
       "   tensor([[  0.0000],\n",
       "           [  9.0012],\n",
       "           [-10.0005]], requires_grad=True),\n",
       "   tensor([5.0000], requires_grad=True),\n",
       "   tensor([1.7500], requires_grad=True),\n",
       "   tensor([[-10.0010],\n",
       "           [  0.0000],\n",
       "           [  3.7505]], requires_grad=True),\n",
       "   tensor([-0.0005], requires_grad=True),\n",
       "   tensor([3.3333], requires_grad=True),\n",
       "   tensor([[ 4.3363],\n",
       "           [-5.0015],\n",
       "           [ 0.0000]], requires_grad=True)],\n",
       "  'lr': 0.0001,\n",
       "  'betas': (0.9, 0.999),\n",
       "  'eps': 1e-08,\n",
       "  'weight_decay': 0,\n",
       "  'amsgrad': False}]"
      ]
     },
     "execution_count": 25,
     "metadata": {},
     "output_type": "execute_result"
    }
   ],
   "source": [
    "optimizer.param_groups"
   ]
  },
  {
   "cell_type": "code",
   "execution_count": 26,
   "metadata": {},
   "outputs": [
    {
     "data": {
      "text/plain": [
       "[<gurobi.Var G_0_0 (value 1.0000000018725705)>,\n",
       " <gurobi.Var D_0_0 (value 1.9999999994916602)>,\n",
       " <gurobi.Var q_0_1_0 (value 8.999999997614083)>,\n",
       " <gurobi.Var q_0_2_0 (value -9.999999999994994)>,\n",
       " <gurobi.Var G_1_0 (value 5.0000000000467795)>,\n",
       " <gurobi.Var D_1_0 (value 1.749999999990416)>,\n",
       " <gurobi.Var q_1_0_0 (value -9.999999999994717)>,\n",
       " <gurobi.Var q_1_2_0 (value 3.7499999999383533)>,\n",
       " <gurobi.Var G_2_0 (value 3.496314516161676e-10)>,\n",
       " <gurobi.Var D_2_0 (value 3.3333333333330293)>,\n",
       " <gurobi.Var q_2_0_0 (value 4.333333332979025)>,\n",
       " <gurobi.Var q_2_1_0 (value -4.9999999999956275)>]"
      ]
     },
     "execution_count": 26,
     "metadata": {},
     "output_type": "execute_result"
    }
   ],
   "source": [
    "model_2.getVars()"
   ]
  },
  {
   "cell_type": "code",
   "execution_count": null,
   "metadata": {},
   "outputs": [],
   "source": []
  }
 ],
 "metadata": {
  "interpreter": {
   "hash": "b0fa6594d8f4cbf19f97940f81e996739fb7646882a419484c72d19e05852a7e"
  },
  "kernelspec": {
   "display_name": "Python 3.9.10 64-bit",
   "language": "python",
   "name": "python3"
  },
  "language_info": {
   "codemirror_mode": {
    "name": "ipython",
    "version": 3
   },
   "file_extension": ".py",
   "mimetype": "text/x-python",
   "name": "python",
   "nbconvert_exporter": "python",
   "pygments_lexer": "ipython3",
   "version": "3.9.10"
  },
  "orig_nbformat": 4
 },
 "nbformat": 4,
 "nbformat_minor": 2
}
