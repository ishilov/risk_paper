{
 "cells": [
  {
   "cell_type": "code",
   "execution_count": 3,
   "metadata": {},
   "outputs": [],
   "source": [
    "import torch\n",
    "import torch.nn as nn \n",
    "import torch.optim as optim"
   ]
  },
  {
   "cell_type": "code",
   "execution_count": 4,
   "metadata": {},
   "outputs": [],
   "source": [
    "def f(x, params):\n",
    "    a,b,c = params\n",
    "    return a * (x ** 2) + b * x + c"
   ]
  },
  {
   "cell_type": "code",
   "execution_count": 34,
   "metadata": {},
   "outputs": [],
   "source": []
  },
  {
   "cell_type": "code",
   "execution_count": 35,
   "metadata": {},
   "outputs": [],
   "source": []
  },
  {
   "cell_type": "code",
   "execution_count": 20,
   "metadata": {},
   "outputs": [],
   "source": []
  },
  {
   "cell_type": "code",
   "execution_count": 21,
   "metadata": {},
   "outputs": [],
   "source": []
  },
  {
   "cell_type": "code",
   "execution_count": 22,
   "metadata": {},
   "outputs": [
    {
     "data": {
      "text/plain": [
       "tensor(2., dtype=torch.float64)"
      ]
     },
     "execution_count": 22,
     "metadata": {},
     "output_type": "execute_result"
    }
   ],
   "source": [
    "x_0.grad"
   ]
  },
  {
   "cell_type": "code",
   "execution_count": 27,
   "metadata": {},
   "outputs": [],
   "source": [
    "lr = 1e-3"
   ]
  },
  {
   "cell_type": "code",
   "execution_count": 63,
   "metadata": {},
   "outputs": [
    {
     "name": "stdout",
     "output_type": "stream",
     "text": [
      "tensor(2., dtype=torch.float64)\n"
     ]
    },
    {
     "data": {
      "text/plain": [
       "tensor(0., dtype=torch.float64)"
      ]
     },
     "execution_count": 63,
     "metadata": {},
     "output_type": "execute_result"
    }
   ],
   "source": [
    "grads=[]\n",
    "x_0 = torch.tensor(0, dtype=float, requires_grad=True)\n",
    "params = torch.tensor([1,2,3], dtype=float, requires_grad=False)\n",
    "\n",
    "loss = f(x_0, params)\n",
    "loss.backward()\n",
    "\n",
    "with torch.no_grad():\n",
    "    \n",
    "    x_0 -= x_0.grad * lr\n",
    "\n",
    "x_0.grad.zero_()"
   ]
  },
  {
   "cell_type": "code",
   "execution_count": 84,
   "metadata": {},
   "outputs": [
    {
     "data": {
      "text/plain": [
       "0.0"
      ]
     },
     "execution_count": 84,
     "metadata": {},
     "output_type": "execute_result"
    }
   ],
   "source": []
  },
  {
   "cell_type": "code",
   "execution_count": 99,
   "metadata": {},
   "outputs": [],
   "source": [
    "grads=[]\n",
    "x_0 = torch.tensor(0, dtype=float, requires_grad=True)\n",
    "params = torch.tensor([1,2,3], dtype=float, requires_grad=False)\n",
    "\n",
    "optimizer = optim.SGD([x_0], lr = lr)\n",
    "for i in range(10000):\n",
    "    loss = f(x_0, params)\n",
    "    loss.backward()\n",
    "    \n",
    "    optimizer.step()\n",
    "    grads.append(float(x_0.grad.data.numpy()))\n",
    "    optimizer.zero_grad()\n",
    "\n",
    "    \n",
    "\n",
    "    x_0.grad.zero_()\n",
    "\n",
    "    "
   ]
  },
  {
   "cell_type": "code",
   "execution_count": 100,
   "metadata": {},
   "outputs": [
    {
     "data": {
      "text/plain": [
       "[<matplotlib.lines.Line2D at 0x1205b3700>]"
      ]
     },
     "execution_count": 100,
     "metadata": {},
     "output_type": "execute_result"
    },
    {
     "data": {
      "image/png": "[encoded data removed]",
      "text/plain": [
       "<Figure size 432x288 with 1 Axes>"
      ]
     },
     "metadata": {},
     "output_type": "display_data"
    }
   ],
   "source": [
    "import matplotlib.pyplot as plt\n",
    "\n",
    "plt.plot(grads)"
   ]
  },
  {
   "cell_type": "code",
   "execution_count": 103,
   "metadata": {},
   "outputs": [],
   "source": [
    "import numpy as np"
   ]
  },
  {
   "cell_type": "code",
   "execution_count": 112,
   "metadata": {},
   "outputs": [],
   "source": [
    "class TorchPlayer:\n",
    "    def __init__(self, \n",
    "            id: int,\n",
    "            D_target: list, \n",
    "            G_res: list, \n",
    "            a: float,\n",
    "            b: float,\n",
    "            d: float,\n",
    "            a_tilde: float, \n",
    "            b_tilde: float,\n",
    "            D_min: float, \n",
    "            D_max: float,\n",
    "            G_min: float,\n",
    "            G_max: float,\n",
    "            risk_aversion: float,\n",
    "            kappa: list, \n",
    "            trading_cost: list,\n",
    "            connections: list,\n",
    "            probabilities: list,\n",
    "            ) -> None:\n",
    "\n",
    "        self.id = id #Simply a serial number of the agent assigned on the first initialization\n",
    "\n",
    "        self.D_target = D_target\n",
    "        self.G_res = G_res\n",
    "        self.a = a\n",
    "        self.b = b\n",
    "        self.d = d\n",
    "        self.a_tilde = a_tilde\n",
    "        self.b_tilde = b_tilde\n",
    "        self.D_min = D_min\n",
    "        self.D_max = D_max\n",
    "        self.G_min = G_min\n",
    "        self.G_max = G_max\n",
    "        self.risk_aversion = risk_aversion\n",
    "        self.probabilities = probabilities\n",
    "\n",
    "        self.probabilities_ind = [i for i in range(len(self.probabilities))]\n",
    "\n",
    "\n",
    "        self.trading_cost = trading_cost\n",
    "        self.connections = connections\n",
    "\n",
    "        self.kappa = np.ma.MaskedArray(kappa, \n",
    "                                        mask = np.logical_not(self.connections), \n",
    "                                        fill_value = 0).filled()\n",
    "\n",
    "        self.G = torch.zeros(len(self.probabilities_ind), requires_grad=True)\n",
    "\n",
    "        \n",
    "class Functions:\n",
    "    \n",
    "    @staticmethod\n",
    "    def utility_generation(agent: TorchPlayer) -> np.ndarray:\n",
    "\n",
    "        return [0.5 * agent.a * agent.G[proba] ** 2 \n",
    "                        + agent.b * agent.G[proba] \n",
    "                        + agent.d for proba in agent.probabilities_ind]"
   ]
  },
  {
   "cell_type": "code",
   "execution_count": 113,
   "metadata": {},
   "outputs": [],
   "source": [
    "agent_1 = TorchPlayer(0, [1], [1], 1, 1, 1, 1, 1, 1, 2, 0 ,5, 0.5, [1,2,3], [0,1,1], [0,1,1], [0.5])"
   ]
  },
  {
   "cell_type": "code",
   "execution_count": 114,
   "metadata": {},
   "outputs": [
    {
     "data": {
      "text/plain": [
       "[tensor(1., grad_fn=<AddBackward0>)]"
      ]
     },
     "execution_count": 114,
     "metadata": {},
     "output_type": "execute_result"
    }
   ],
   "source": [
    "Functions.utility_generation(agent_1)"
   ]
  },
  {
   "cell_type": "code",
   "execution_count": 116,
   "metadata": {},
   "outputs": [],
   "source": [
    "loss = Functions.utility_generation(agent_1)\n",
    "\n",
    "grads=[]\n",
    "\n",
    "optimizer = optim.SGD([agent_1.G], lr = lr)\n",
    "\n",
    "for i in range(10000):\n",
    "    for proba in agent_1.probabilities_ind:\n",
    "        loss = Functions.utility_generation(agent_1)[proba]\n",
    "        loss.backward()\n",
    "        \n",
    "        optimizer.step()\n",
    "        grads.append(float(agent_1.G.grad.data.numpy()))\n",
    "        optimizer.zero_grad()\n",
    "\n",
    "    \n",
    "\n",
    "        x_0.grad.zero_()\n"
   ]
  },
  {
   "cell_type": "code",
   "execution_count": 111,
   "metadata": {},
   "outputs": [
    {
     "data": {
      "text/plain": [
       "tensor([0.], requires_grad=True)"
      ]
     },
     "execution_count": 111,
     "metadata": {},
     "output_type": "execute_result"
    }
   ],
   "source": [
    "agent_1.G"
   ]
  },
  {
   "cell_type": "code",
   "execution_count": 117,
   "metadata": {},
   "outputs": [
    {
     "data": {
      "text/plain": [
       "[<matplotlib.lines.Line2D at 0x12067ad60>]"
      ]
     },
     "execution_count": 117,
     "metadata": {},
     "output_type": "execute_result"
    },
    {
     "data": {
      "image/png": "[encoded data removed]",
      "text/plain": [
       "<Figure size 432x288 with 1 Axes>"
      ]
     },
     "metadata": {},
     "output_type": "display_data"
    }
   ],
   "source": [
    "plt.plot(grads)"
   ]
  },
  {
   "cell_type": "code",
   "execution_count": 126,
   "metadata": {},
   "outputs": [],
   "source": [
    "class Class1:\n",
    "    def __init__(self, a):\n",
    "        self.a = a\n",
    "\n",
    "    def update(self):\n",
    "        self.a += 5\n",
    "        return self.a \n",
    "\n",
    "class Class2(Class1):\n",
    "    def __init__(self, a, b):\n",
    "        super().__init__(a)\n",
    "        self.b = b\n",
    "    \n",
    "    def update(self):\n",
    "        return self.a + self.b"
   ]
  },
  {
   "cell_type": "code",
   "execution_count": 124,
   "metadata": {},
   "outputs": [],
   "source": [
    "c1 = Class1(5)\n",
    "c2 = Class2(5)"
   ]
  },
  {
   "cell_type": "code",
   "execution_count": 125,
   "metadata": {},
   "outputs": [
    {
     "data": {
      "text/plain": [
       "10"
      ]
     },
     "execution_count": 125,
     "metadata": {},
     "output_type": "execute_result"
    }
   ],
   "source": [
    "c1.update()"
   ]
  },
  {
   "cell_type": "code",
   "execution_count": null,
   "metadata": {},
   "outputs": [],
   "source": []
  }
 ],
 "metadata": {
  "interpreter": {
   "hash": "b0fa6594d8f4cbf19f97940f81e996739fb7646882a419484c72d19e05852a7e"
  },
  "kernelspec": {
   "display_name": "Python 3.9.10 64-bit",
   "language": "python",
   "name": "python3"
  },
  "language_info": {
   "codemirror_mode": {
    "name": "ipython",
    "version": 3
   },
   "file_extension": ".py",
   "mimetype": "text/x-python",
   "name": "python",
   "nbconvert_exporter": "python",
   "pygments_lexer": "ipython3",
   "version": "3.9.10"
  },
  "orig_nbformat": 4
 },
 "nbformat": 4,
 "nbformat_minor": 2
}
