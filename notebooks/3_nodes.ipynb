{
 "cells": [
  {
   "cell_type": "code",
   "execution_count": 1,
   "metadata": {},
   "outputs": [],
   "source": [
    "import pandas as pd\n",
    "import numpy as np\n",
    "import random\n",
    "import scipy.optimize as scopt\n",
    "\n",
    "import matplotlib.pyplot as plt\n",
    "\n",
    "import seaborn as sns\n",
    "sns.set()"
   ]
  },
  {
   "cell_type": "code",
   "execution_count": 2,
   "metadata": {},
   "outputs": [],
   "source": [
    "from game.gradient import GradientComputation\n",
    "from game.player import Player"
   ]
  },
  {
   "cell_type": "code",
   "execution_count": 3,
   "metadata": {},
   "outputs": [],
   "source": [
    "community_size = 3"
   ]
  },
  {
   "cell_type": "code",
   "execution_count": 4,
   "metadata": {},
   "outputs": [],
   "source": [
    "if community_size == 3:\n",
    "    D_min = [0.0,0.0,0.0]\n",
    "    D_max = [10.0,10.0,10.0]\n",
    "\n",
    "    G_min = [0.0,0.0,0.0]\n",
    "    G_max = [10.0,0.0,0.0]\n",
    "    \n",
    "    Kappa = [[0.0, 10.0, 10.0],\n",
    "             [10.0, 0.0, 5.0],\n",
    "             [10.0, 5.0, 0.0]]\n",
    "    \n",
    "    Cost = [[0.0, 1.0, 1.0],\n",
    "            [3.0, 0.0, 1.0],\n",
    "            [2.0, 1.0, 0.0]]\n",
    "    \n",
    "    #probabilities = [0.333, 0.333, 0.333]\n",
    "\n",
    "    probabilities = [0.5, 0.5]\n",
    "    connection_matrix = [[0,1,1],[1,0,1],[1,1,0]]"
   ]
  },
  {
   "cell_type": "code",
   "execution_count": 5,
   "metadata": {},
   "outputs": [],
   "source": [
    "A_tilde = [random.uniform(0,1) for i in range(community_size)]\n",
    "B_tilde = [random.uniform(0,1) for i in range(community_size)]\n",
    "\n",
    "A = [random.uniform(0,1) for i in range(community_size)]\n",
    "B = [random.uniform(0,1) for i in range(community_size)]\n",
    "D = [random.uniform(0,1) for i in range(community_size)]\n",
    "\n",
    "d_target = [[random.uniform(0,8) for j in range(len(probabilities))] for i in range(community_size)]\n",
    "g_res = [[random.uniform(0,3) for j in range(len(probabilities))] for i in range(community_size)]\n",
    "\n",
    "g_res = np.array(g_res)\n",
    "d_target = np.array(d_target)\n",
    "\n",
    "risk_aversion = [random.uniform(0,1) for i in range(community_size)]"
   ]
  },
  {
   "cell_type": "code",
   "execution_count": 6,
   "metadata": {},
   "outputs": [
    {
     "data": {
      "text/plain": [
       "array([[2.12624322, 2.42358242],\n",
       "       [1.86248664, 1.61512148],\n",
       "       [2.69852599, 0.24198631]])"
      ]
     },
     "execution_count": 6,
     "metadata": {},
     "output_type": "execute_result"
    }
   ],
   "source": [
    "g_res"
   ]
  },
  {
   "cell_type": "code",
   "execution_count": 7,
   "metadata": {},
   "outputs": [],
   "source": [
    "agents = []\n",
    "Player.community_size = community_size\n",
    "Player.probabilities = probabilities\n",
    "\n",
    "for i in range(community_size):\n",
    "    agent = Player(i, d_target[i], g_res[i], A[i], B[i], D[i], \n",
    "                A_tilde[i], B_tilde[i], D_min[i], D_max[i], \n",
    "                G_min[i], G_max[i], risk_aversion[i], Kappa[i], Cost[i], connection_matrix[i])\n",
    "    \n",
    "    agents.append(agent)"
   ]
  },
  {
   "cell_type": "markdown",
   "metadata": {},
   "source": [
    "# AMPL"
   ]
  },
  {
   "cell_type": "code",
   "execution_count": 8,
   "metadata": {},
   "outputs": [],
   "source": [
    "from amplpy import AMPL, Environment, DataFrame\n",
    "\n",
    "ampl = AMPL(Environment(\"C:\\\\Users\\\\SHILOVI\\\\OneDrive - VITO\\\\Documents\\\\Python\\\\amplide.mswin64\"))\n",
    "\n",
    "ampl.read('C:\\\\Users\\\\SHILOVI\\\\OneDrive - VITO\\\\Documents\\\\Python\\\\Pecan_street\\\\notebooks\\\\ampl\\\\3_nodes_centr.mod')\n",
    "ampl.readData('C:\\\\Users\\\\SHILOVI\\\\OneDrive - VITO\\\\Documents\\\\Python\\\\Pecan_street\\\\notebooks\\\\ampl\\\\3_nodes_centr.dat')\n"
   ]
  },
  {
   "cell_type": "code",
   "execution_count": 9,
   "metadata": {},
   "outputs": [],
   "source": [
    "nodes = ['n_0', 'n_1', 'n_2']"
   ]
  },
  {
   "cell_type": "code",
   "execution_count": 10,
   "metadata": {},
   "outputs": [],
   "source": [
    "Cost_dict = {}\n",
    "for i in range(community_size):\n",
    "    for j in range(community_size):\n",
    "        Cost_dict.update({(nodes[i],nodes[j]):Cost[i][j]})\n",
    "\n",
    "Kappa_dict = {}\n",
    "for i in range(community_size):\n",
    "    for j in range(community_size):\n",
    "        Kappa_dict.update({(nodes[i],nodes[j]):Kappa[i][j]})"
   ]
  },
  {
   "cell_type": "code",
   "execution_count": 11,
   "metadata": {},
   "outputs": [],
   "source": [
    "d_target_dict = {}\n",
    "g_res_dict = {}\n",
    "for i in range(community_size):\n",
    "    for j in range(len(probabilities)):\n",
    "        d_target_dict.update({('n_{}'.format(i), 'p_{}'.format(j)): d_target[i][j]})\n",
    "        g_res_dict.update({('n_{}'.format(i), 'p_{}'.format(j)): g_res[i][j]})"
   ]
  },
  {
   "cell_type": "code",
   "execution_count": 12,
   "metadata": {},
   "outputs": [],
   "source": [
    "p_dict = {}\n",
    "for j in range(len(probabilities)):\n",
    "    p_dict.update({'p_{}'.format(j) : probabilities[j]})"
   ]
  },
  {
   "cell_type": "code",
   "execution_count": 13,
   "metadata": {},
   "outputs": [
    {
     "name": "stdout",
     "output_type": "stream",
     "text": [
      "MINOS 5.51: optimal solution found.\n",
      "77 iterations, objective -7.364446459\n",
      "Nonlin evals: constrs = 159, Jac = 158.\n"
     ]
    }
   ],
   "source": [
    "if community_size == 3:\n",
    "\n",
    "    ampl.getParameter('a').setValues(A)\n",
    "    ampl.getParameter('b').setValues(B)\n",
    "    ampl.getParameter('d').setValues(D)\n",
    "    ampl.getParameter('a_t').setValues(A_tilde)\n",
    "    ampl.getParameter('b_t').setValues(B_tilde)\n",
    "\n",
    "    ampl.getParameter('D_max').setValues(D_max)\n",
    "    ampl.getParameter('G_max').setValues(G_max)\n",
    "    ampl.getParameter('D_min').setValues(D_min)\n",
    "    ampl.getParameter('G_min').setValues(G_min)\n",
    "\n",
    "    ampl.getParameter('chi').setValues(risk_aversion)\n",
    "    \n",
    "    ampl.getParameter('cost').setValues(Cost_dict)\n",
    "\n",
    "    ampl.getParameter('kappa').setValues(Kappa_dict)\n",
    "    \n",
    "    ampl.getParameter('p').setValues(p_dict)\n",
    "                \n",
    "    ampl.getParameter('D_t').setValues(d_target_dict)\n",
    "    ampl.getParameter('G_d').setValues(g_res_dict)\n",
    "    \n",
    "    # Solve\n",
    "    ampl.setOption('solver', 'MINOS')\n",
    "    ampl.solve()"
   ]
  },
  {
   "cell_type": "code",
   "execution_count": 14,
   "metadata": {},
   "outputs": [],
   "source": [
    "if community_size ==3:\n",
    "    g = ampl.getVariable('G').getValues().toDict()\n",
    "    d = ampl.getVariable('D').getValues().toDict()\n",
    "    u = ampl.getVariable('u').getValues().toDict()\n",
    "    eta = ampl.getVariable('eta').getValues().toDict()\n",
    "    q = ampl.getVariable('quant').getValues().toDict()\n",
    "    Q = ampl.getVariable('Q').getValues().toDict()"
   ]
  },
  {
   "cell_type": "code",
   "execution_count": 15,
   "metadata": {},
   "outputs": [
    {
     "name": "stdout",
     "output_type": "stream",
     "text": [
      "G :=\n",
      "n_0 p_0   0.548146\n",
      "n_0 p_1   1.30193\n",
      ";\n",
      "\n"
     ]
    }
   ],
   "source": [
    "ampl.display('G')"
   ]
  },
  {
   "cell_type": "code",
   "execution_count": 16,
   "metadata": {},
   "outputs": [],
   "source": [
    "def assign_ampl(d, g, eta, u, q, agents):\n",
    "    \"\"\"Assigns the solution from AMPL to agents\"\"\"\n",
    "\n",
    "    for i in range(community_size):\n",
    "        id = 'n_{}'.format(i)\n",
    "\n",
    "        for j in range(len(probabilities)):\n",
    "            proba = 'p_{}'.format(j)\n",
    "            agents[i].D[j] = d[(id, proba)]\n",
    "\n",
    "    for i in range(community_size):\n",
    "        id = 'n_{}'.format(i)\n",
    "\n",
    "        for j in range(len(probabilities)):\n",
    "            proba = 'p_{}'.format(j)\n",
    "            agents[i].G[j] = g[(id, proba)]\n",
    "\n",
    "    for i in range(community_size):\n",
    "        id = 'n_{}'.format(i)\n",
    "\n",
    "        for j in range(len(probabilities)):\n",
    "            proba = 'p_{}'.format(j)\n",
    "            agents[i].u[j] = u[(id, proba)]\n",
    "\n",
    "    for i in range(community_size):\n",
    "        id = 'n_{}'.format(i)\n",
    "\n",
    "        agents[i].eta = eta[id]\n",
    "\n",
    "    for i in range(community_size):\n",
    "        id_1 = 'n_{}'.format(i)\n",
    "\n",
    "        for j in range(community_size):\n",
    "            id_2 = 'n_{}'.format(j)\n",
    "\n",
    "            for k in range(len(probabilities)):\n",
    "                proba = 'p_{}'.format(k)\n",
    "\n",
    "                agents[i].q[j][k] = q[(id_1, id_2, proba)]"
   ]
  },
  {
   "cell_type": "code",
   "execution_count": 17,
   "metadata": {},
   "outputs": [],
   "source": [
    "assign_ampl(d,g,eta,u,q,agents)"
   ]
  },
  {
   "cell_type": "markdown",
   "metadata": {},
   "source": [
    "# Gradient"
   ]
  },
  {
   "cell_type": "code",
   "execution_count": 18,
   "metadata": {},
   "outputs": [
    {
     "data": {
      "text/plain": [
       "[0.5, 0.5]"
      ]
     },
     "execution_count": 18,
     "metadata": {},
     "output_type": "execute_result"
    }
   ],
   "source": [
    "Player.probabilities"
   ]
  },
  {
   "cell_type": "code",
   "execution_count": 19,
   "metadata": {},
   "outputs": [
    {
     "data": {
      "text/plain": [
       "{'id': 0,\n",
       " 'D_target': array([0.37214868, 6.66526399]),\n",
       " 'G_res': array([2.12624322, 2.42358242]),\n",
       " 'a': 0.45658311810374874,\n",
       " 'b': 0.7497257049370953,\n",
       " 'd': 0.736069456172391,\n",
       " 'a_tilde': 0.6207779544798729,\n",
       " 'b_tilde': 0.26703800354578533,\n",
       " 'D_min': 0.0,\n",
       " 'D_max': 10.0,\n",
       " 'G_min': 0.0,\n",
       " 'G_max': 10.0,\n",
       " 'risk_aversion': 0.09919207701535915,\n",
       " 'probabilities_ind': [0, 1],\n",
       " 'trading_cost': [0.0, 1.0, 1.0],\n",
       " 'connections': [0, 1, 1],\n",
       " 'kappa': array([ 0., 10., 10.]),\n",
       " 'G': array([0.54814619, 1.30192871]),\n",
       " 'D': array([0.        , 5.58261893]),\n",
       " 'eta': -1.6398307960449756,\n",
       " 'u': array([0.        , 6.05664431]),\n",
       " 'q': array([[ 0.        ,  0.        ],\n",
       "        [ 5.38320747,  6.61512148],\n",
       "        [-8.05759687, -4.75801369]]),\n",
       " 'grad_G': array([0., 0.]),\n",
       " 'grad_D': array([0., 0.]),\n",
       " 'grad_eta': 0,\n",
       " 'grad_u': array([0., 0.]),\n",
       " 'grad_q': array([[0., 0.],\n",
       "        [0., 0.],\n",
       "        [0., 0.]]),\n",
       " 'plot_d': [[], []],\n",
       " 'plot_g': [[], []],\n",
       " 'plot_u': [[], []],\n",
       " 'plot_eta': [],\n",
       " 'plot_q': [[[], []], [[], []], [[], []]]}"
      ]
     },
     "execution_count": 19,
     "metadata": {},
     "output_type": "execute_result"
    }
   ],
   "source": [
    "agents[0].__dict__"
   ]
  },
  {
   "cell_type": "code",
   "execution_count": 20,
   "metadata": {},
   "outputs": [
    {
     "name": "stdout",
     "output_type": "stream",
     "text": [
      "Utility update:\n",
      "{'update_eta': 1, 'update_u': array([0.55505728, 0.55505728])}\n",
      "-------\n",
      "D_min bound\n",
      "[0. 0.]\n",
      "-------\n",
      "D_max bound\n",
      "[0 0]\n",
      "-------\n",
      "G_min bound\n",
      "[0 0]\n",
      "-------\n",
      "G_max bound\n",
      "[0 0]\n",
      "-------\n",
      "Penalty supply-demand balance bound\n",
      "{'update_d': array([-4.44089210e-16, -2.44249065e-15]), 'update_g': array([4.44089210e-16, 2.44249065e-15]), 'update_q': array([[0.00000000e+00, 0.00000000e+00],\n",
      "       [4.44089210e-16, 2.44249065e-15],\n",
      "       [4.44089210e-16, 2.44249065e-15]])}\n",
      "-------\n",
      "U bound\n",
      "[0. 0.]\n",
      "-------\n",
      "Penalty trading bound\n",
      "[[0. 0.]\n",
      " [0. 0.]\n",
      " [0. 0.]]\n",
      "-------\n",
      "Bilateral trading bound\n",
      "[[0.0000000e+00 0.0000000e+00]\n",
      " [0.0000000e+00 8.8817842e-16]\n",
      " [0.0000000e+00 8.8817842e-16]]\n",
      "-------\n",
      "Penalty residual bound\n",
      "{'update_d': array([-0., -0.]), 'update_g': array([0., 0.]), 'update_eta': 0.0, 'update_u': array([-0., -0.]), 'update_q': array([[0., 0.],\n",
      "       [0., 0.],\n",
      "       [0., 0.]])}\n",
      "----------------------------------------------\n",
      "Utility update:\n",
      "{'update_eta': 1, 'update_u': array([0.87788252, 0.87788252])}\n",
      "-------\n",
      "D_min bound\n",
      "[0. 0.]\n",
      "-------\n",
      "D_max bound\n",
      "[0 0]\n",
      "-------\n",
      "G_min bound\n",
      "[0. 0.]\n",
      "-------\n",
      "G_max bound\n",
      "[0. 0.]\n",
      "-------\n",
      "Penalty supply-demand balance bound\n",
      "{'update_d': array([-8.8817842e-16,  8.8817842e-16]), 'update_g': array([ 8.8817842e-16, -8.8817842e-16]), 'update_q': array([[ 8.8817842e-16, -8.8817842e-16],\n",
      "       [ 0.0000000e+00,  0.0000000e+00],\n",
      "       [ 8.8817842e-16, -8.8817842e-16]])}\n",
      "-------\n",
      "U bound\n",
      "[0. 0.]\n",
      "-------\n",
      "Penalty trading bound\n",
      "[[0. 0.]\n",
      " [0. 0.]\n",
      " [0. 0.]]\n",
      "-------\n",
      "Bilateral trading bound\n",
      "[[0.0000000e+00 8.8817842e-16]\n",
      " [0.0000000e+00 0.0000000e+00]\n",
      " [0.0000000e+00 0.0000000e+00]]\n",
      "-------\n",
      "Penalty residual bound\n",
      "{'update_d': array([-2.7502019e-15, -0.0000000e+00]), 'update_g': array([1.18417856e-15, 0.00000000e+00]), 'update_eta': -1.7763568394002505e-15, 'update_u': array([-1.77635684e-15, -0.00000000e+00]), 'update_q': array([[5.32907052e-15, 0.00000000e+00],\n",
      "       [0.00000000e+00, 0.00000000e+00],\n",
      "       [1.77635684e-15, 0.00000000e+00]])}\n",
      "----------------------------------------------\n",
      "Utility update:\n",
      "{'update_eta': 1, 'update_u': array([0.66835936, 0.66835936])}\n",
      "-------\n",
      "D_min bound\n",
      "[0. 0.]\n",
      "-------\n",
      "D_max bound\n",
      "[0 0]\n",
      "-------\n",
      "G_min bound\n",
      "[0. 0.]\n",
      "-------\n",
      "G_max bound\n",
      "[0. 0.]\n",
      "-------\n",
      "Penalty supply-demand balance bound\n",
      "{'update_d': array([ 4.44089210e-16, -3.33066907e-16]), 'update_g': array([-4.44089210e-16,  3.33066907e-16]), 'update_q': array([[-4.44089210e-16,  3.33066907e-16],\n",
      "       [-4.44089210e-16,  3.33066907e-16],\n",
      "       [ 0.00000000e+00,  0.00000000e+00]])}\n",
      "-------\n",
      "U bound\n",
      "[0. 0.]\n",
      "-------\n",
      "Penalty trading bound\n",
      "[[0. 0.]\n",
      " [0. 0.]\n",
      " [0. 0.]]\n",
      "-------\n",
      "Bilateral trading bound\n",
      "[[0.0000000e+00 8.8817842e-16]\n",
      " [0.0000000e+00 0.0000000e+00]\n",
      " [0.0000000e+00 0.0000000e+00]]\n",
      "-------\n",
      "Penalty residual bound\n",
      "{'update_d': array([-0., -0.]), 'update_g': array([0., 0.]), 'update_eta': 0, 'update_u': array([0, 0]), 'update_q': array([[0., 0.],\n",
      "       [0., 0.],\n",
      "       [0., 0.]])}\n",
      "----------------------------------------------\n"
     ]
    }
   ],
   "source": [
    "for i in range(community_size):\n",
    "    print('Utility update:')\n",
    "    print(GradientComputation.utility_grad(agents[i]))\n",
    "    print('-------')\n",
    "    print('D_min bound')\n",
    "    print(GradientComputation.penalty_dmin(agents[i]))\n",
    "    print('-------')\n",
    "    print('D_max bound')\n",
    "    print(GradientComputation.penalty_dmax(agents[i]))\n",
    "    print('-------')\n",
    "    print('G_min bound')\n",
    "    print(GradientComputation.penalty_gmin(agents[i]))\n",
    "    print('-------')\n",
    "    print('G_max bound')\n",
    "    print(GradientComputation.penalty_gmax(agents[i]))\n",
    "    print('-------')\n",
    "    print('Penalty supply-demand balance bound')\n",
    "    print(GradientComputation.penalty_balance(agents[i]))\n",
    "    print('-------')\n",
    "    print('U bound')\n",
    "    print(GradientComputation.penalty_u(agents[i]))\n",
    "    print('-------')\n",
    "    print('Penalty trading bound')\n",
    "    print(GradientComputation.penalty_trading_bound(agents[i]))\n",
    "    print('-------')\n",
    "    print('Bilateral trading bound')\n",
    "    print(GradientComputation.penalty_bilateral_trading(agents[i], agents))\n",
    "    print('-------')\n",
    "    print('Penalty residual bound')\n",
    "    print(GradientComputation.penalty_residual(agents[i]))\n",
    "    print('----------------------------------------------')"
   ]
  },
  {
   "cell_type": "code",
   "execution_count": 21,
   "metadata": {},
   "outputs": [],
   "source": [
    "mu = 0.0003\n",
    "rho = 500\n",
    "k = 0\n",
    "while k <= 600000:\n",
    "    #print(k)\n",
    "    #print('--------------------------')\n",
    "    for agent in agents:\n",
    "        #Update of grad_d of the agent\n",
    "\n",
    "        agent.grad_D = rho*(GradientComputation.penalty_dmin(agent) \n",
    "                            + GradientComputation.penalty_dmax(agent)\n",
    "                            + GradientComputation.penalty_balance(agent)['update_d']\n",
    "                            + GradientComputation.penalty_residual(agent)['update_d'])\n",
    "\n",
    "        agent.grad_G = rho*(GradientComputation.penalty_gmin(agent) \n",
    "                            + GradientComputation.penalty_gmax(agent)\n",
    "                            + GradientComputation.penalty_balance(agent)['update_g']\n",
    "                            + GradientComputation.penalty_residual(agent)['update_g'])\n",
    "\n",
    "        agent.grad_eta = (GradientComputation.utility_grad(agent)['update_eta']\n",
    "                        + rho*GradientComputation.penalty_residual(agent)['update_eta'])\n",
    "\n",
    "        agent.grad_u = (GradientComputation.utility_grad(agent)['update_u']\n",
    "                        + rho*GradientComputation.penalty_residual(agent)['update_u']\n",
    "                        + rho*GradientComputation.penalty_u(agent))\n",
    "\n",
    "\n",
    "\n",
    "        agent.grad_q = rho*(GradientComputation.penalty_trading_bound(agent)\n",
    "                            + GradientComputation.penalty_residual(agent)['update_q']\n",
    "                            + GradientComputation.penalty_balance(agent)['update_q']\n",
    "                            + GradientComputation.penalty_bilateral_trading(agent, agents))\n",
    "\n",
    "\n",
    "        \n",
    "\n",
    "        #print('Agent {} variables'.format(agent.id))\n",
    "        #print(agent.variables_to_vector())\n",
    "        #print('--------------------------------')\n",
    "\n",
    "    #Agent's variables update\n",
    "    for agent in agents:\n",
    "\n",
    "        N = 1\n",
    "\n",
    "        agent.D = agent.D - mu/(N)*agent.grad_D\n",
    "        agent.G = agent.G - mu/(N)*agent.grad_G\n",
    "        agent.eta = agent.eta - mu/(N)*agent.grad_eta\n",
    "        agent.u = agent.u - mu/(N)*agent.grad_u\n",
    "        agent.q = agent.q - mu/(N)*agent.grad_q\n",
    "\n",
    "        agent.plot_eta.append(agent.eta)\n",
    "\n",
    "        for i in range(len(probabilities)):\n",
    "            agent.plot_d[i].append(agent.D[i])\n",
    "            agent.plot_g[i].append(agent.G[i])\n",
    "            agent.plot_u[i].append(agent.u[i])\n",
    "\n",
    "            for agent_2 in agents:\n",
    "                agent.plot_q[agent_2.id][i].append(agent.q[agent_2.id][i])\n",
    "    \n",
    "    \n",
    "\n",
    "    k +=1"
   ]
  },
  {
   "cell_type": "code",
   "execution_count": 22,
   "metadata": {},
   "outputs": [
    {
     "data": {
      "image/png": "[encoded data removed]",
      "text/plain": [
       "<Figure size 432x288 with 1 Axes>"
      ]
     },
     "metadata": {},
     "output_type": "display_data"
    },
    {
     "data": {
      "image/png": "[encoded data removed]",
      "text/plain": [
       "<Figure size 432x288 with 1 Axes>"
      ]
     },
     "metadata": {},
     "output_type": "display_data"
    },
    {
     "data": {
      "image/png": "[encoded data removed]",
      "text/plain": [
       "<Figure size 432x288 with 1 Axes>"
      ]
     },
     "metadata": {},
     "output_type": "display_data"
    }
   ],
   "source": [
    "for agent in agents:\n",
    "    for i in range(len(probabilities)):\n",
    "        plt.plot(agent.plot_d[i])\n",
    "    \n",
    "    plt.show()"
   ]
  },
  {
   "cell_type": "code",
   "execution_count": 23,
   "metadata": {},
   "outputs": [
    {
     "data": {
      "image/png": "[encoded data removed]",
      "text/plain": [
       "<Figure size 432x288 with 1 Axes>"
      ]
     },
     "metadata": {},
     "output_type": "display_data"
    },
    {
     "data": {
      "image/png": "[encoded data removed]",
      "text/plain": [
       "<Figure size 432x288 with 1 Axes>"
      ]
     },
     "metadata": {},
     "output_type": "display_data"
    },
    {
     "data": {
      "image/png": "[encoded data removed]",
      "text/plain": [
       "<Figure size 432x288 with 1 Axes>"
      ]
     },
     "metadata": {},
     "output_type": "display_data"
    }
   ],
   "source": [
    "for agent in agents:\n",
    "    for i in range(len(probabilities)):\n",
    "        plt.plot(agent.plot_g[i])\n",
    "    \n",
    "    plt.show()"
   ]
  },
  {
   "cell_type": "code",
   "execution_count": 24,
   "metadata": {},
   "outputs": [
    {
     "data": {
      "image/png": "[encoded data removed]",
      "text/plain": [
       "<Figure size 432x288 with 1 Axes>"
      ]
     },
     "metadata": {},
     "output_type": "display_data"
    },
    {
     "data": {
      "image/png": "[encoded data removed]",
      "text/plain": [
       "<Figure size 432x288 with 1 Axes>"
      ]
     },
     "metadata": {},
     "output_type": "display_data"
    },
    {
     "data": {
      "image/png": "[encoded data removed]",
      "text/plain": [
       "<Figure size 432x288 with 1 Axes>"
      ]
     },
     "metadata": {},
     "output_type": "display_data"
    }
   ],
   "source": [
    "for agent in agents:\n",
    "    for i in range(len(probabilities)):\n",
    "        plt.plot(agent.plot_u[i])\n",
    "    \n",
    "    plt.show()"
   ]
  },
  {
   "cell_type": "code",
   "execution_count": 25,
   "metadata": {},
   "outputs": [
    {
     "data": {
      "image/png": "[encoded data removed]",
      "text/plain": [
       "<Figure size 432x288 with 1 Axes>"
      ]
     },
     "metadata": {},
     "output_type": "display_data"
    },
    {
     "data": {
      "image/png": "[encoded data removed]",
      "text/plain": [
       "<Figure size 432x288 with 1 Axes>"
      ]
     },
     "metadata": {},
     "output_type": "display_data"
    },
    {
     "data": {
      "image/png": "[encoded data removed]",
      "text/plain": [
       "<Figure size 432x288 with 1 Axes>"
      ]
     },
     "metadata": {},
     "output_type": "display_data"
    }
   ],
   "source": [
    "for agent in agents:\n",
    "    plt.plot(agent.plot_eta)\n",
    "    \n",
    "    plt.show()"
   ]
  },
  {
   "cell_type": "code",
   "execution_count": 26,
   "metadata": {},
   "outputs": [
    {
     "data": {
      "image/png": "[encoded data removed]",
      "text/plain": [
       "<Figure size 432x288 with 1 Axes>"
      ]
     },
     "metadata": {},
     "output_type": "display_data"
    },
    {
     "data": {
      "image/png": "[encoded data removed]",
      "text/plain": [
       "<Figure size 432x288 with 1 Axes>"
      ]
     },
     "metadata": {},
     "output_type": "display_data"
    },
    {
     "data": {
      "image/png": "[encoded data removed]",
      "text/plain": [
       "<Figure size 432x288 with 1 Axes>"
      ]
     },
     "metadata": {},
     "output_type": "display_data"
    }
   ],
   "source": [
    "for agent in agents:\n",
    "    for agent_2 in agents:\n",
    "        for i in range(len(probabilities)):\n",
    "            plt.plot(agent.plot_q[agent_2.id][i])\n",
    "\n",
    "    plt.show()"
   ]
  },
  {
   "cell_type": "code",
   "execution_count": 27,
   "metadata": {},
   "outputs": [
    {
     "name": "stdout",
     "output_type": "stream",
     "text": [
      "Demand of agent 0\n",
      "[-4.86787751e-04  5.31782087e+00]\n",
      "-----\n",
      "Generation of agent 0\n",
      "[0.27408428 1.01097607]\n",
      "-----\n",
      "Trades of agent 0\n",
      "[[ 0.          0.        ]\n",
      " [ 5.39933568  6.62965213]\n",
      " [-7.80099215 -4.74765542]]\n",
      "-----\n",
      "U of agent 0\n",
      "[-2.30451904e-04  6.09199684e+00]\n",
      "-----\n",
      "Eta of agent 0\n",
      "-1.6245732578625216\n",
      "-----\n",
      "-----------------------------\n",
      "Demand of agent 1\n",
      "[-0.00054229 -0.00172703]\n",
      "-----\n",
      "Generation of agent 1\n",
      "[0.00081093 0.00484854]\n",
      "-----\n",
      "Trades of agent 1\n",
      "[[-5.39933568 -6.62819925]\n",
      " [ 0.          0.        ]\n",
      " [ 3.53473984  5.00228774]]\n",
      "-----\n",
      "U of agent 1\n",
      "[-0.00145101 -0.00017481]\n",
      "-----\n",
      "Eta of agent 1\n",
      "-11.896558958695875\n",
      "-----\n",
      "-----------------------------\n",
      "Demand of agent 2\n",
      "[-0.0006774  -0.00334775]\n",
      "-----\n",
      "Generation of agent 2\n",
      "[0.00095891 0.00267355]\n",
      "-----\n",
      "Trades of agent 2\n",
      "[[ 0.83259928  4.74858656]\n",
      " [-3.53400623 -4.99986123]\n",
      " [ 0.          0.        ]]\n",
      "-----\n",
      "U of agent 2\n",
      "[-6.85163179e-04  3.83220391e+00]\n",
      "-----\n",
      "Eta of agent 2\n",
      "0.2071434074623794\n",
      "-----\n",
      "-----------------------------\n"
     ]
    }
   ],
   "source": [
    "for agent in agents:\n",
    "    print('Demand of agent {}'.format(agent.id))\n",
    "    print(agent.D)\n",
    "    print('-----')\n",
    "    print('Generation of agent {}'.format(agent.id))\n",
    "    print(agent.G)\n",
    "    print('-----')\n",
    "    print('Trades of agent {}'.format(agent.id))\n",
    "    print(agent.q)\n",
    "    print('-----')\n",
    "    print('U of agent {}'.format(agent.id))\n",
    "    print(agent.u)\n",
    "    print('-----')\n",
    "    print('Eta of agent {}'.format(agent.id))\n",
    "    print(agent.eta)\n",
    "    print('-----')\n",
    "    print('-----------------------------')"
   ]
  },
  {
   "cell_type": "code",
   "execution_count": 15,
   "metadata": {},
   "outputs": [
    {
     "name": "stdout",
     "output_type": "stream",
     "text": [
      "0 5\n",
      "1 3\n",
      "2 2\n",
      "3 1\n"
     ]
    }
   ],
   "source": [
    "for i,j in enumerate(reversed([1,2,3,5])):\n",
    "    print(i,j)"
   ]
  },
  {
   "cell_type": "code",
   "execution_count": 26,
   "metadata": {},
   "outputs": [],
   "source": [
    "c = [1,2,3]"
   ]
  },
  {
   "cell_type": "code",
   "execution_count": 27,
   "metadata": {},
   "outputs": [],
   "source": [
    "a = b = c"
   ]
  },
  {
   "cell_type": "code",
   "execution_count": 28,
   "metadata": {},
   "outputs": [
    {
     "data": {
      "text/plain": [
       "[1, 2, 3]"
      ]
     },
     "execution_count": 28,
     "metadata": {},
     "output_type": "execute_result"
    }
   ],
   "source": [
    "a"
   ]
  },
  {
   "cell_type": "code",
   "execution_count": 29,
   "metadata": {},
   "outputs": [],
   "source": [
    "c[0] = 5"
   ]
  },
  {
   "cell_type": "code",
   "execution_count": 5,
   "metadata": {},
   "outputs": [],
   "source": [
    "from game.stackelberg import StackelbergPlayer\n",
    "from game.stackelberg import StackelbergGradientComputation"
   ]
  },
  {
   "cell_type": "code",
   "execution_count": 4,
   "metadata": {},
   "outputs": [
    {
     "data": {
      "text/plain": [
       "21"
      ]
     },
     "execution_count": 4,
     "metadata": {},
     "output_type": "execute_result"
    }
   ],
   "source": [
    "import numpy as np\n",
    "\n",
    "a = np.array([[1,2,3],[4,5,6]])\n",
    "a.sum()"
   ]
  },
  {
   "cell_type": "code",
   "execution_count": 52,
   "metadata": {},
   "outputs": [],
   "source": [
    "class myclass:\n",
    "    def foo(self, lst):\n",
    "        self.c = lst\n",
    "\n",
    "    def func(self):\n",
    "        self.a = self.b = self.c\n",
    "\n",
    "    def mod_c(self):\n",
    "        self.c[0] = 5\n",
    "\n",
    "    def fooo(self):\n",
    "        self.a = 10\n",
    "        self.b = 7"
   ]
  },
  {
   "cell_type": "code",
   "execution_count": null,
   "metadata": {},
   "outputs": [],
   "source": []
  }
 ],
 "metadata": {
  "interpreter": {
   "hash": "bc51f7b0a90f6051b3373596df13638ac01198d8ab4bced12ffaa78c40a2d902"
  },
  "kernelspec": {
   "display_name": "Python 3.9.7 64-bit",
   "name": "python3"
  },
  "language_info": {
   "codemirror_mode": {
    "name": "ipython",
    "version": 3
   },
   "file_extension": ".py",
   "mimetype": "text/x-python",
   "name": "python",
   "nbconvert_exporter": "python",
   "pygments_lexer": "ipython3",
   "version": "3.9.7"
  },
  "orig_nbformat": 4
 },
 "nbformat": 4,
 "nbformat_minor": 2
}
