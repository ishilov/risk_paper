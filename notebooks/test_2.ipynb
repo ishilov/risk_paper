{
 "cells": [
  {
   "cell_type": "code",
   "execution_count": 1,
   "metadata": {},
   "outputs": [],
   "source": [
    "import pandas as pd"
   ]
  },
  {
   "cell_type": "code",
   "execution_count": 8,
   "metadata": {},
   "outputs": [],
   "source": [
    "only_IC = pd.read_csv('../data/only_IC_PBP_params_2000_with_obj.csv')\n",
    "only_IC.set_index(['Unnamed: 0', 'Unnamed: 1'], inplace=True)"
   ]
  },
  {
   "cell_type": "code",
   "execution_count": 12,
   "metadata": {},
   "outputs": [],
   "source": [
    "RA = pd.read_csv('../data/without_contracts_params_2000_with_obj.csv')\n",
    "RA.set_index(['Unnamed: 0', 'Unnamed: 1'], inplace=True)"
   ]
  },
  {
   "cell_type": "code",
   "execution_count": 9,
   "metadata": {},
   "outputs": [],
   "source": [
    "without_IC = pd.read_csv('../data/without_IC_params_2000_with_obj.csv')\n",
    "without_IC.set_index(['Unnamed: 0', 'Unnamed: 1'], inplace=True)"
   ]
  },
  {
   "cell_type": "code",
   "execution_count": 10,
   "metadata": {},
   "outputs": [
    {
     "data": {
      "text/plain": [
       "0     0.241043\n",
       "1     0.320893\n",
       "2     0.188284\n",
       "3     0.772233\n",
       "4    -0.221123\n",
       "5     0.349136\n",
       "6    -0.734666\n",
       "7    -0.028482\n",
       "8     0.287730\n",
       "9     0.045567\n",
       "10    1.241404\n",
       "11    0.471123\n",
       "12    0.156485\n",
       "13    0.582565\n",
       "14    0.363484\n",
       "15   -0.015826\n",
       "16    0.370141\n",
       "17    0.630582\n",
       "18    0.598021\n",
       "19   -0.310031\n",
       "20    0.683796\n",
       "21    0.080273\n",
       "22   -0.339209\n",
       "23    0.303255\n",
       "24   -3.654807\n",
       "Name: objective, dtype: float64"
      ]
     },
     "execution_count": 10,
     "metadata": {},
     "output_type": "execute_result"
    }
   ],
   "source": [
    "only_IC.loc[0].loc['objective']"
   ]
  },
  {
   "cell_type": "code",
   "execution_count": 13,
   "metadata": {},
   "outputs": [
    {
     "data": {
      "text/plain": [
       "0     0.241045\n",
       "1     0.320892\n",
       "2     0.188284\n",
       "3     0.772229\n",
       "4    -0.221123\n",
       "5     0.349139\n",
       "6    -0.734666\n",
       "7    -0.028488\n",
       "8     0.287784\n",
       "9     0.045567\n",
       "10    1.241432\n",
       "11    0.471123\n",
       "12    0.156505\n",
       "13    0.582553\n",
       "14    0.363478\n",
       "15   -0.015827\n",
       "16    0.370138\n",
       "17    0.630587\n",
       "18    0.598042\n",
       "19   -0.310044\n",
       "20    0.683789\n",
       "21    0.080268\n",
       "22   -0.339209\n",
       "23    0.303252\n",
       "24   -3.654807\n",
       "Name: objective, dtype: float64"
      ]
     },
     "execution_count": 13,
     "metadata": {},
     "output_type": "execute_result"
    }
   ],
   "source": [
    "RA.loc[0].loc['objective']"
   ]
  },
  {
   "cell_type": "code",
   "execution_count": null,
   "metadata": {},
   "outputs": [],
   "source": []
  }
 ],
 "metadata": {
  "interpreter": {
   "hash": "b0fa6594d8f4cbf19f97940f81e996739fb7646882a419484c72d19e05852a7e"
  },
  "kernelspec": {
   "display_name": "Python 3.9.10 64-bit",
   "language": "python",
   "name": "python3"
  },
  "language_info": {
   "codemirror_mode": {
    "name": "ipython",
    "version": 3
   },
   "file_extension": ".py",
   "mimetype": "text/x-python",
   "name": "python",
   "nbconvert_exporter": "python",
   "pygments_lexer": "ipython3",
   "version": "3.9.10"
  },
  "orig_nbformat": 4
 },
 "nbformat": 4,
 "nbformat_minor": 2
}
